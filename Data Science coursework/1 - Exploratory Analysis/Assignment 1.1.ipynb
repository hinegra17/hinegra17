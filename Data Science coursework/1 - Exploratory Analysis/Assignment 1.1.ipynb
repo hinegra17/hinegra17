{
 "cells": [
  {
   "cell_type": "markdown",
   "id": "669917ab",
   "metadata": {},
   "source": [
    "# Assignment 2 question 1\n",
    "Grayson Hineline\n",
    "\n",
    "Note for portfolio: This assignment was conducted when I was very new to Python and the Pandas library. Given my current skills I would have conducted the assignment much more efficiently."
   ]
  },
  {
   "cell_type": "markdown",
   "id": "02e9d4e3",
   "metadata": {},
   "source": [
    "## Question 1: Determine which of the provided cities was the rainiest in 2020."
   ]
  },
  {
   "cell_type": "code",
   "execution_count": 1,
   "id": "f9e70b5a",
   "metadata": {},
   "outputs": [],
   "source": [
    "import pandas as pd"
   ]
  },
  {
   "cell_type": "markdown",
   "id": "dc3c47a2",
   "metadata": {},
   "source": [
    "First, we have to get all the the data from all of the cities into our notebook. I did `low_memory = False` because I'm not doing this analysis on a toaster and I can easily fit everything."
   ]
  },
  {
   "cell_type": "code",
   "execution_count": 2,
   "id": "7038fab2",
   "metadata": {},
   "outputs": [],
   "source": [
    "Phoenix = pd.read_csv(\"AZ_Phoenix.csv\", low_memory = False)\n",
    "LosAngeles = pd.read_csv(\"CA_LosAngeles.csv\", low_memory = False)\n",
    "SanFran = pd.read_csv(\"CA_SanFrancisco.csv\", low_memory = False)\n",
    "Denver = pd.read_csv(\"CO_Denver.csv\", low_memory = False)\n",
    "Jacksonville = pd.read_csv(\"FL_Jacksonville.csv\", low_memory = False)\n",
    "Atlanta = pd.read_csv(\"GA_Atlanta.csv\", low_memory = False)\n",
    "Chicago = pd.read_csv(\"IL_Chicago.csv\", low_memory = False)\n",
    "Boston = pd.read_csv(\"MA_Boston.csv\", low_memory = False)\n",
    "Minneapolis = pd.read_csv(\"MN_MinneapolisStPaul.csv\", low_memory = False)\n",
    "Ithaca = pd.read_csv(\"NY_Ithaca.csv\", low_memory = False)\n",
    "NewYork = pd.read_csv(\"NY_NewYorkJFK.csv\", low_memory = False)\n",
    "Portland = pd.read_csv(\"OR_Portland.csv\", low_memory = False)\n",
    "Philidelphia = pd.read_csv(\"PA_Philadelphia.csv\", low_memory = False)\n",
    "Dallas = pd.read_csv(\"TX_DallasFtWorth.csv\", low_memory = False)\n",
    "Saltlake = pd.read_csv(\"UT_SaltLake.csv\", low_memory = False)\n",
    "WashingtonD = pd.read_csv(\"VA_WashingtonDulles.csv\", low_memory = False)\n",
    "Bellingham = pd.read_csv(\"WA_Bellingham.csv\", low_memory = False)\n",
    "Seattle = pd.read_csv(\"WA_Seattle.csv\", low_memory = False)"
   ]
  },
  {
   "cell_type": "markdown",
   "id": "60421ade",
   "metadata": {},
   "source": [
    "Now we're going to stor all of the data for each of the cities in a list that will be called upon later on."
   ]
  },
  {
   "cell_type": "code",
   "execution_count": 3,
   "id": "8cdeff86",
   "metadata": {},
   "outputs": [],
   "source": [
    "cities_list = [Phoenix, LosAngeles, SanFran, Denver, Jacksonville, Atlanta,\n",
    "              Chicago, Boston, Minneapolis, Ithaca, NewYork, Portland, Philidelphia,\n",
    "              Dallas, Saltlake, WashingtonD, Bellingham, Seattle]\n"
   ]
  },
  {
   "cell_type": "markdown",
   "id": "8532acd2",
   "metadata": {},
   "source": [
    "For reference, here is the index of each city:\n",
    "* 0: Phoenix, \n",
    "* 1: LosAngeles, \n",
    "* 2: SanFran, \n",
    "* 3: Denver, \n",
    "* 4: Jacksonville, \n",
    "* 5: Atlanta,\n",
    "* 6: Chicago, \n",
    "* 7: Boston, \n",
    "* 8: Minneapolis, \n",
    "* 9: Ithaca, \n",
    "* 10: NewYork, \n",
    "* 11: Portland, \n",
    "* 12: Philidelphia,\n",
    "* 13: Dallas, \n",
    "* 14: Saltlake, \n",
    "* 15: WashingtonD, \n",
    "* 16: Bellingham,\n",
    "* 17: Seattle"
   ]
  },
  {
   "cell_type": "markdown",
   "id": "87421a76",
   "metadata": {},
   "source": [
    "Now that we have all the data, let's focus on answering how \"rainy\" was one of these cities. After we figure out how to do that, we can apply the same stuff to all of the other cities. I have *more than a feeling* that Boston will be a good first city to do, so I'll start with Boston"
   ]
  },
  {
   "cell_type": "code",
   "execution_count": 4,
   "id": "58798e48",
   "metadata": {},
   "outputs": [
    {
     "name": "stdout",
     "output_type": "stream",
     "text": [
      "<class 'pandas.core.frame.DataFrame'>\n",
      "RangeIndex: 13742 entries, 0 to 13741\n",
      "Data columns (total 124 columns):\n",
      " #    Column                                        Dtype  \n",
      "---   ------                                        -----  \n",
      " 0    STATION                                       int64  \n",
      " 1    DATE                                          object \n",
      " 2    REPORT_TYPE                                   object \n",
      " 3    SOURCE                                        int64  \n",
      " 4    AWND                                          float64\n",
      " 5    BackupDirection                               object \n",
      " 6    BackupDistance                                float64\n",
      " 7    BackupDistanceUnit                            object \n",
      " 8    BackupElements                                object \n",
      " 9    BackupElevation                               int64  \n",
      " 10   BackupElevationUnit                           float64\n",
      " 11   BackupEquipment                               object \n",
      " 12   BackupLatitude                                float64\n",
      " 13   BackupLongitude                               float64\n",
      " 14   BackupName                                    object \n",
      " 15   CDSD                                          float64\n",
      " 16   CLDD                                          float64\n",
      " 17   DSNW                                          float64\n",
      " 18   DailyAverageDewPointTemperature               float64\n",
      " 19   DailyAverageDryBulbTemperature                float64\n",
      " 20   DailyAverageRelativeHumidity                  float64\n",
      " 21   DailyAverageSeaLevelPressure                  float64\n",
      " 22   DailyAverageStationPressure                   float64\n",
      " 23   DailyAverageWetBulbTemperature                float64\n",
      " 24   DailyAverageWindSpeed                         float64\n",
      " 25   DailyCoolingDegreeDays                        float64\n",
      " 26   DailyDepartureFromNormalAverageTemperature    float64\n",
      " 27   DailyHeatingDegreeDays                        float64\n",
      " 28   DailyMaximumDryBulbTemperature                float64\n",
      " 29   DailyMinimumDryBulbTemperature                float64\n",
      " 30   DailyPeakWindDirection                        float64\n",
      " 31   DailyPeakWindSpeed                            float64\n",
      " 32   DailyPrecipitation                            object \n",
      " 33   DailySnowDepth                                float64\n",
      " 34   DailySnowfall                                 object \n",
      " 35   DailySustainedWindDirection                   float64\n",
      " 36   DailySustainedWindSpeed                       float64\n",
      " 37   DailyWeather                                  object \n",
      " 38   HDSD                                          float64\n",
      " 39   HTDD                                          float64\n",
      " 40   HeavyFog                                      float64\n",
      " 41   HourlyAltimeterSetting                        object \n",
      " 42   HourlyDewPointTemperature                     object \n",
      " 43   HourlyDryBulbTemperature                      object \n",
      " 44   HourlyPrecipitation                           object \n",
      " 45   HourlyPresentWeatherType                      object \n",
      " 46   HourlyPressureChange                          float64\n",
      " 47   HourlyPressureTendency                        float64\n",
      " 48   HourlyRelativeHumidity                        float64\n",
      " 49   HourlySeaLevelPressure                        object \n",
      " 50   HourlySkyConditions                           object \n",
      " 51   HourlyStationPressure                         object \n",
      " 52   HourlyVisibility                              object \n",
      " 53   HourlyWetBulbTemperature                      float64\n",
      " 54   HourlyWindDirection                           object \n",
      " 55   HourlyWindGustSpeed                           float64\n",
      " 56   HourlyWindSpeed                               float64\n",
      " 57   MonthlyAverageRH                              float64\n",
      " 58   MonthlyDaysWithGT001Precip                    float64\n",
      " 59   MonthlyDaysWithGT010Precip                    float64\n",
      " 60   MonthlyDaysWithGT32Temp                       float64\n",
      " 61   MonthlyDaysWithGT90Temp                       float64\n",
      " 62   MonthlyDaysWithLT0Temp                        float64\n",
      " 63   MonthlyDaysWithLT32Temp                       float64\n",
      " 64   MonthlyDepartureFromNormalAverageTemperature  float64\n",
      " 65   MonthlyDepartureFromNormalCoolingDegreeDays   float64\n",
      " 66   MonthlyDepartureFromNormalHeatingDegreeDays   float64\n",
      " 67   MonthlyDepartureFromNormalMaximumTemperature  float64\n",
      " 68   MonthlyDepartureFromNormalMinimumTemperature  float64\n",
      " 69   MonthlyDepartureFromNormalPrecipitation       float64\n",
      " 70   MonthlyDewpointTemperature                    float64\n",
      " 71   MonthlyGreatestPrecip                         float64\n",
      " 72   MonthlyGreatestPrecipDate                     object \n",
      " 73   MonthlyGreatestSnowDepth                      float64\n",
      " 74   MonthlyGreatestSnowDepthDate                  float64\n",
      " 75   MonthlyGreatestSnowfall                       object \n",
      " 76   MonthlyGreatestSnowfallDate                   object \n",
      " 77   MonthlyMaxSeaLevelPressureValue               float64\n",
      " 78   MonthlyMaxSeaLevelPressureValueDate           float64\n",
      " 79   MonthlyMaxSeaLevelPressureValueTime           float64\n",
      " 80   MonthlyMaximumTemperature                     float64\n",
      " 81   MonthlyMeanTemperature                        float64\n",
      " 82   MonthlyMinSeaLevelPressureValue               float64\n",
      " 83   MonthlyMinSeaLevelPressureValueDate           float64\n",
      " 84   MonthlyMinSeaLevelPressureValueTime           float64\n",
      " 85   MonthlyMinimumTemperature                     float64\n",
      " 86   MonthlySeaLevelPressure                       float64\n",
      " 87   MonthlyStationPressure                        float64\n",
      " 88   MonthlyTotalLiquidPrecipitation               float64\n",
      " 89   MonthlyTotalSnowfall                          object \n",
      " 90   MonthlyWetBulb                                float64\n",
      " 91   NormalsCoolingDegreeDay                       float64\n",
      " 92   NormalsHeatingDegreeDay                       float64\n",
      " 93   REM                                           object \n",
      " 94   REPORT_TYPE.1                                 object \n",
      " 95   SOURCE.1                                      int64  \n",
      " 96   ShortDurationEndDate005                       object \n",
      " 97   ShortDurationEndDate010                       object \n",
      " 98   ShortDurationEndDate015                       object \n",
      " 99   ShortDurationEndDate020                       object \n",
      " 100  ShortDurationEndDate030                       object \n",
      " 101  ShortDurationEndDate045                       object \n",
      " 102  ShortDurationEndDate060                       object \n",
      " 103  ShortDurationEndDate080                       object \n",
      " 104  ShortDurationEndDate100                       object \n",
      " 105  ShortDurationEndDate120                       object \n",
      " 106  ShortDurationEndDate150                       object \n",
      " 107  ShortDurationEndDate180                       object \n",
      " 108  ShortDurationPrecipitationValue005            float64\n",
      " 109  ShortDurationPrecipitationValue010            float64\n",
      " 110  ShortDurationPrecipitationValue015            float64\n",
      " 111  ShortDurationPrecipitationValue020            float64\n",
      " 112  ShortDurationPrecipitationValue030            float64\n",
      " 113  ShortDurationPrecipitationValue045            float64\n",
      " 114  ShortDurationPrecipitationValue060            float64\n",
      " 115  ShortDurationPrecipitationValue080            float64\n",
      " 116  ShortDurationPrecipitationValue100            float64\n",
      " 117  ShortDurationPrecipitationValue120            float64\n",
      " 118  ShortDurationPrecipitationValue150            float64\n",
      " 119  ShortDurationPrecipitationValue180            float64\n",
      " 120  Sunrise                                       float64\n",
      " 121  Sunset                                        float64\n",
      " 122  TStorms                                       float64\n",
      " 123  WindEquipmentChangeDate                       object \n",
      "dtypes: float64(81), int64(4), object(39)\n",
      "memory usage: 13.0+ MB\n"
     ]
    }
   ],
   "source": [
    "Boston.info(verbose = True)"
   ]
  },
  {
   "cell_type": "markdown",
   "id": "f32df738",
   "metadata": {},
   "source": [
    "There's a few ways we could go about figuring the \"raininess\" of Boston. We could do total rainfall, average rainfall per amount of time, amount of days with rain, etc. When I think of how rainy a place is, I don't think of how \"hard\" it usually rains, but rather if it is rainying at all. Whether it is pouring rain or just drizzling, I am going to stay inside regardless. So for this, we're going to figure out how many hours of the year it rained in Boston in 2020. Then we can extrapolate that methodology to all the other cities to see which city had the most hours with rain."
   ]
  },
  {
   "cell_type": "markdown",
   "id": "e56b8a76",
   "metadata": {},
   "source": [
    "Goal: Get a series that contains a True values for all hours that it rained at all."
   ]
  },
  {
   "cell_type": "markdown",
   "id": "ccc52ca9",
   "metadata": {},
   "source": [
    "First we have to get all of the data for all the hours that it rained in the year. To make sure we're not counting hours twice, I want to make sure that we have one observation per hour."
   ]
  },
  {
   "cell_type": "markdown",
   "id": "600e4b61",
   "metadata": {},
   "source": [
    "To do that, I have to convert the date column to datetime format."
   ]
  },
  {
   "cell_type": "code",
   "execution_count": 5,
   "id": "8bfa914e",
   "metadata": {
    "scrolled": false
   },
   "outputs": [
    {
     "data": {
      "text/html": [
       "<div>\n",
       "<style scoped>\n",
       "    .dataframe tbody tr th:only-of-type {\n",
       "        vertical-align: middle;\n",
       "    }\n",
       "\n",
       "    .dataframe tbody tr th {\n",
       "        vertical-align: top;\n",
       "    }\n",
       "\n",
       "    .dataframe thead th {\n",
       "        text-align: right;\n",
       "    }\n",
       "</style>\n",
       "<table border=\"1\" class=\"dataframe\">\n",
       "  <thead>\n",
       "    <tr style=\"text-align: right;\">\n",
       "      <th></th>\n",
       "      <th>STATION</th>\n",
       "      <th>DATE</th>\n",
       "      <th>REPORT_TYPE</th>\n",
       "      <th>SOURCE</th>\n",
       "      <th>AWND</th>\n",
       "      <th>BackupDirection</th>\n",
       "      <th>BackupDistance</th>\n",
       "      <th>BackupDistanceUnit</th>\n",
       "      <th>BackupElements</th>\n",
       "      <th>BackupElevation</th>\n",
       "      <th>...</th>\n",
       "      <th>ShortDurationPrecipitationValue060</th>\n",
       "      <th>ShortDurationPrecipitationValue080</th>\n",
       "      <th>ShortDurationPrecipitationValue100</th>\n",
       "      <th>ShortDurationPrecipitationValue120</th>\n",
       "      <th>ShortDurationPrecipitationValue150</th>\n",
       "      <th>ShortDurationPrecipitationValue180</th>\n",
       "      <th>Sunrise</th>\n",
       "      <th>Sunset</th>\n",
       "      <th>TStorms</th>\n",
       "      <th>WindEquipmentChangeDate</th>\n",
       "    </tr>\n",
       "  </thead>\n",
       "  <tbody>\n",
       "    <tr>\n",
       "      <th>0</th>\n",
       "      <td>72509014739</td>\n",
       "      <td>2020-01-01 00:54:00</td>\n",
       "      <td>FM-15</td>\n",
       "      <td>7</td>\n",
       "      <td>NaN</td>\n",
       "      <td>ESE</td>\n",
       "      <td>2.6</td>\n",
       "      <td>mi</td>\n",
       "      <td>SNOW</td>\n",
       "      <td>20</td>\n",
       "      <td>...</td>\n",
       "      <td>NaN</td>\n",
       "      <td>NaN</td>\n",
       "      <td>NaN</td>\n",
       "      <td>NaN</td>\n",
       "      <td>NaN</td>\n",
       "      <td>NaN</td>\n",
       "      <td>NaN</td>\n",
       "      <td>NaN</td>\n",
       "      <td>NaN</td>\n",
       "      <td>2006-10-05</td>\n",
       "    </tr>\n",
       "    <tr>\n",
       "      <th>1</th>\n",
       "      <td>72509014739</td>\n",
       "      <td>2020-01-01 01:00:00</td>\n",
       "      <td>FM-12</td>\n",
       "      <td>4</td>\n",
       "      <td>NaN</td>\n",
       "      <td>ESE</td>\n",
       "      <td>2.6</td>\n",
       "      <td>mi</td>\n",
       "      <td>SNOW</td>\n",
       "      <td>20</td>\n",
       "      <td>...</td>\n",
       "      <td>NaN</td>\n",
       "      <td>NaN</td>\n",
       "      <td>NaN</td>\n",
       "      <td>NaN</td>\n",
       "      <td>NaN</td>\n",
       "      <td>NaN</td>\n",
       "      <td>NaN</td>\n",
       "      <td>NaN</td>\n",
       "      <td>NaN</td>\n",
       "      <td>2006-10-05</td>\n",
       "    </tr>\n",
       "    <tr>\n",
       "      <th>2</th>\n",
       "      <td>72509014739</td>\n",
       "      <td>2020-01-01 01:54:00</td>\n",
       "      <td>FM-15</td>\n",
       "      <td>7</td>\n",
       "      <td>NaN</td>\n",
       "      <td>ESE</td>\n",
       "      <td>2.6</td>\n",
       "      <td>mi</td>\n",
       "      <td>SNOW</td>\n",
       "      <td>20</td>\n",
       "      <td>...</td>\n",
       "      <td>NaN</td>\n",
       "      <td>NaN</td>\n",
       "      <td>NaN</td>\n",
       "      <td>NaN</td>\n",
       "      <td>NaN</td>\n",
       "      <td>NaN</td>\n",
       "      <td>NaN</td>\n",
       "      <td>NaN</td>\n",
       "      <td>NaN</td>\n",
       "      <td>2006-10-05</td>\n",
       "    </tr>\n",
       "    <tr>\n",
       "      <th>3</th>\n",
       "      <td>72509014739</td>\n",
       "      <td>2020-01-01 02:54:00</td>\n",
       "      <td>FM-15</td>\n",
       "      <td>7</td>\n",
       "      <td>NaN</td>\n",
       "      <td>ESE</td>\n",
       "      <td>2.6</td>\n",
       "      <td>mi</td>\n",
       "      <td>SNOW</td>\n",
       "      <td>20</td>\n",
       "      <td>...</td>\n",
       "      <td>NaN</td>\n",
       "      <td>NaN</td>\n",
       "      <td>NaN</td>\n",
       "      <td>NaN</td>\n",
       "      <td>NaN</td>\n",
       "      <td>NaN</td>\n",
       "      <td>NaN</td>\n",
       "      <td>NaN</td>\n",
       "      <td>NaN</td>\n",
       "      <td>2006-10-05</td>\n",
       "    </tr>\n",
       "    <tr>\n",
       "      <th>4</th>\n",
       "      <td>72509014739</td>\n",
       "      <td>2020-01-01 03:54:00</td>\n",
       "      <td>FM-15</td>\n",
       "      <td>7</td>\n",
       "      <td>NaN</td>\n",
       "      <td>ESE</td>\n",
       "      <td>2.6</td>\n",
       "      <td>mi</td>\n",
       "      <td>SNOW</td>\n",
       "      <td>20</td>\n",
       "      <td>...</td>\n",
       "      <td>NaN</td>\n",
       "      <td>NaN</td>\n",
       "      <td>NaN</td>\n",
       "      <td>NaN</td>\n",
       "      <td>NaN</td>\n",
       "      <td>NaN</td>\n",
       "      <td>NaN</td>\n",
       "      <td>NaN</td>\n",
       "      <td>NaN</td>\n",
       "      <td>2006-10-05</td>\n",
       "    </tr>\n",
       "    <tr>\n",
       "      <th>...</th>\n",
       "      <td>...</td>\n",
       "      <td>...</td>\n",
       "      <td>...</td>\n",
       "      <td>...</td>\n",
       "      <td>...</td>\n",
       "      <td>...</td>\n",
       "      <td>...</td>\n",
       "      <td>...</td>\n",
       "      <td>...</td>\n",
       "      <td>...</td>\n",
       "      <td>...</td>\n",
       "      <td>...</td>\n",
       "      <td>...</td>\n",
       "      <td>...</td>\n",
       "      <td>...</td>\n",
       "      <td>...</td>\n",
       "      <td>...</td>\n",
       "      <td>...</td>\n",
       "      <td>...</td>\n",
       "      <td>...</td>\n",
       "      <td>...</td>\n",
       "    </tr>\n",
       "    <tr>\n",
       "      <th>13737</th>\n",
       "      <td>72509014739</td>\n",
       "      <td>2020-12-31 22:00:00</td>\n",
       "      <td>FM-12</td>\n",
       "      <td>4</td>\n",
       "      <td>NaN</td>\n",
       "      <td>ESE</td>\n",
       "      <td>2.6</td>\n",
       "      <td>mi</td>\n",
       "      <td>SNOW</td>\n",
       "      <td>20</td>\n",
       "      <td>...</td>\n",
       "      <td>NaN</td>\n",
       "      <td>NaN</td>\n",
       "      <td>NaN</td>\n",
       "      <td>NaN</td>\n",
       "      <td>NaN</td>\n",
       "      <td>NaN</td>\n",
       "      <td>NaN</td>\n",
       "      <td>NaN</td>\n",
       "      <td>NaN</td>\n",
       "      <td>2006-10-05</td>\n",
       "    </tr>\n",
       "    <tr>\n",
       "      <th>13738</th>\n",
       "      <td>72509014739</td>\n",
       "      <td>2020-12-31 22:54:00</td>\n",
       "      <td>FM-15</td>\n",
       "      <td>7</td>\n",
       "      <td>NaN</td>\n",
       "      <td>ESE</td>\n",
       "      <td>2.6</td>\n",
       "      <td>mi</td>\n",
       "      <td>SNOW</td>\n",
       "      <td>20</td>\n",
       "      <td>...</td>\n",
       "      <td>NaN</td>\n",
       "      <td>NaN</td>\n",
       "      <td>NaN</td>\n",
       "      <td>NaN</td>\n",
       "      <td>NaN</td>\n",
       "      <td>NaN</td>\n",
       "      <td>NaN</td>\n",
       "      <td>NaN</td>\n",
       "      <td>NaN</td>\n",
       "      <td>2006-10-05</td>\n",
       "    </tr>\n",
       "    <tr>\n",
       "      <th>13739</th>\n",
       "      <td>72509014739</td>\n",
       "      <td>2020-12-31 23:54:00</td>\n",
       "      <td>FM-15</td>\n",
       "      <td>7</td>\n",
       "      <td>NaN</td>\n",
       "      <td>ESE</td>\n",
       "      <td>2.6</td>\n",
       "      <td>mi</td>\n",
       "      <td>SNOW</td>\n",
       "      <td>20</td>\n",
       "      <td>...</td>\n",
       "      <td>NaN</td>\n",
       "      <td>NaN</td>\n",
       "      <td>NaN</td>\n",
       "      <td>NaN</td>\n",
       "      <td>NaN</td>\n",
       "      <td>NaN</td>\n",
       "      <td>NaN</td>\n",
       "      <td>NaN</td>\n",
       "      <td>NaN</td>\n",
       "      <td>2006-10-05</td>\n",
       "    </tr>\n",
       "    <tr>\n",
       "      <th>13740</th>\n",
       "      <td>72509014739</td>\n",
       "      <td>2020-12-31 23:59:00</td>\n",
       "      <td>SOD</td>\n",
       "      <td>6</td>\n",
       "      <td>NaN</td>\n",
       "      <td>ESE</td>\n",
       "      <td>2.6</td>\n",
       "      <td>mi</td>\n",
       "      <td>SNOW</td>\n",
       "      <td>20</td>\n",
       "      <td>...</td>\n",
       "      <td>NaN</td>\n",
       "      <td>NaN</td>\n",
       "      <td>NaN</td>\n",
       "      <td>NaN</td>\n",
       "      <td>NaN</td>\n",
       "      <td>NaN</td>\n",
       "      <td>713.0</td>\n",
       "      <td>1622.0</td>\n",
       "      <td>NaN</td>\n",
       "      <td>2006-10-05</td>\n",
       "    </tr>\n",
       "    <tr>\n",
       "      <th>13741</th>\n",
       "      <td>72509014739</td>\n",
       "      <td>2020-12-31 23:59:00</td>\n",
       "      <td>SOM</td>\n",
       "      <td>6</td>\n",
       "      <td>11.9</td>\n",
       "      <td>ESE</td>\n",
       "      <td>2.6</td>\n",
       "      <td>mi</td>\n",
       "      <td>SNOW</td>\n",
       "      <td>20</td>\n",
       "      <td>...</td>\n",
       "      <td>0.45</td>\n",
       "      <td>0.49</td>\n",
       "      <td>0.56</td>\n",
       "      <td>0.58</td>\n",
       "      <td>0.62</td>\n",
       "      <td>0.67</td>\n",
       "      <td>NaN</td>\n",
       "      <td>NaN</td>\n",
       "      <td>NaN</td>\n",
       "      <td>2006-10-05</td>\n",
       "    </tr>\n",
       "  </tbody>\n",
       "</table>\n",
       "<p>13742 rows × 124 columns</p>\n",
       "</div>"
      ],
      "text/plain": [
       "           STATION                DATE REPORT_TYPE  SOURCE  AWND  \\\n",
       "0      72509014739 2020-01-01 00:54:00       FM-15       7   NaN   \n",
       "1      72509014739 2020-01-01 01:00:00       FM-12       4   NaN   \n",
       "2      72509014739 2020-01-01 01:54:00       FM-15       7   NaN   \n",
       "3      72509014739 2020-01-01 02:54:00       FM-15       7   NaN   \n",
       "4      72509014739 2020-01-01 03:54:00       FM-15       7   NaN   \n",
       "...            ...                 ...         ...     ...   ...   \n",
       "13737  72509014739 2020-12-31 22:00:00       FM-12       4   NaN   \n",
       "13738  72509014739 2020-12-31 22:54:00       FM-15       7   NaN   \n",
       "13739  72509014739 2020-12-31 23:54:00       FM-15       7   NaN   \n",
       "13740  72509014739 2020-12-31 23:59:00       SOD         6   NaN   \n",
       "13741  72509014739 2020-12-31 23:59:00       SOM         6  11.9   \n",
       "\n",
       "      BackupDirection  BackupDistance BackupDistanceUnit BackupElements  \\\n",
       "0                 ESE             2.6                 mi           SNOW   \n",
       "1                 ESE             2.6                 mi           SNOW   \n",
       "2                 ESE             2.6                 mi           SNOW   \n",
       "3                 ESE             2.6                 mi           SNOW   \n",
       "4                 ESE             2.6                 mi           SNOW   \n",
       "...               ...             ...                ...            ...   \n",
       "13737             ESE             2.6                 mi           SNOW   \n",
       "13738             ESE             2.6                 mi           SNOW   \n",
       "13739             ESE             2.6                 mi           SNOW   \n",
       "13740             ESE             2.6                 mi           SNOW   \n",
       "13741             ESE             2.6                 mi           SNOW   \n",
       "\n",
       "       BackupElevation  ...  ShortDurationPrecipitationValue060  \\\n",
       "0                   20  ...                                 NaN   \n",
       "1                   20  ...                                 NaN   \n",
       "2                   20  ...                                 NaN   \n",
       "3                   20  ...                                 NaN   \n",
       "4                   20  ...                                 NaN   \n",
       "...                ...  ...                                 ...   \n",
       "13737               20  ...                                 NaN   \n",
       "13738               20  ...                                 NaN   \n",
       "13739               20  ...                                 NaN   \n",
       "13740               20  ...                                 NaN   \n",
       "13741               20  ...                                0.45   \n",
       "\n",
       "      ShortDurationPrecipitationValue080  ShortDurationPrecipitationValue100  \\\n",
       "0                                    NaN                                 NaN   \n",
       "1                                    NaN                                 NaN   \n",
       "2                                    NaN                                 NaN   \n",
       "3                                    NaN                                 NaN   \n",
       "4                                    NaN                                 NaN   \n",
       "...                                  ...                                 ...   \n",
       "13737                                NaN                                 NaN   \n",
       "13738                                NaN                                 NaN   \n",
       "13739                                NaN                                 NaN   \n",
       "13740                                NaN                                 NaN   \n",
       "13741                               0.49                                0.56   \n",
       "\n",
       "       ShortDurationPrecipitationValue120 ShortDurationPrecipitationValue150  \\\n",
       "0                                     NaN                                NaN   \n",
       "1                                     NaN                                NaN   \n",
       "2                                     NaN                                NaN   \n",
       "3                                     NaN                                NaN   \n",
       "4                                     NaN                                NaN   \n",
       "...                                   ...                                ...   \n",
       "13737                                 NaN                                NaN   \n",
       "13738                                 NaN                                NaN   \n",
       "13739                                 NaN                                NaN   \n",
       "13740                                 NaN                                NaN   \n",
       "13741                                0.58                               0.62   \n",
       "\n",
       "       ShortDurationPrecipitationValue180  Sunrise  Sunset  TStorms  \\\n",
       "0                                     NaN      NaN     NaN      NaN   \n",
       "1                                     NaN      NaN     NaN      NaN   \n",
       "2                                     NaN      NaN     NaN      NaN   \n",
       "3                                     NaN      NaN     NaN      NaN   \n",
       "4                                     NaN      NaN     NaN      NaN   \n",
       "...                                   ...      ...     ...      ...   \n",
       "13737                                 NaN      NaN     NaN      NaN   \n",
       "13738                                 NaN      NaN     NaN      NaN   \n",
       "13739                                 NaN      NaN     NaN      NaN   \n",
       "13740                                 NaN    713.0  1622.0      NaN   \n",
       "13741                                0.67      NaN     NaN      NaN   \n",
       "\n",
       "       WindEquipmentChangeDate  \n",
       "0                   2006-10-05  \n",
       "1                   2006-10-05  \n",
       "2                   2006-10-05  \n",
       "3                   2006-10-05  \n",
       "4                   2006-10-05  \n",
       "...                        ...  \n",
       "13737               2006-10-05  \n",
       "13738               2006-10-05  \n",
       "13739               2006-10-05  \n",
       "13740               2006-10-05  \n",
       "13741               2006-10-05  \n",
       "\n",
       "[13742 rows x 124 columns]"
      ]
     },
     "execution_count": 5,
     "metadata": {},
     "output_type": "execute_result"
    }
   ],
   "source": [
    "Boston[\"DATE\"] = pd.to_datetime(Boston[\"DATE\"])\n",
    "Boston.sort_values(by = \"DATE\")"
   ]
  },
  {
   "cell_type": "markdown",
   "id": "d05882e0",
   "metadata": {},
   "source": [
    "This is tough because it seems like their are multiple observations per hour. Let's look at just one day then to find a pattern."
   ]
  },
  {
   "cell_type": "code",
   "execution_count": 6,
   "id": "87fe735b",
   "metadata": {
    "scrolled": true
   },
   "outputs": [
    {
     "data": {
      "text/html": [
       "<div>\n",
       "<style scoped>\n",
       "    .dataframe tbody tr th:only-of-type {\n",
       "        vertical-align: middle;\n",
       "    }\n",
       "\n",
       "    .dataframe tbody tr th {\n",
       "        vertical-align: top;\n",
       "    }\n",
       "\n",
       "    .dataframe thead th {\n",
       "        text-align: right;\n",
       "    }\n",
       "</style>\n",
       "<table border=\"1\" class=\"dataframe\">\n",
       "  <thead>\n",
       "    <tr style=\"text-align: right;\">\n",
       "      <th></th>\n",
       "      <th>DATE</th>\n",
       "      <th>HourlyPrecipitation</th>\n",
       "      <th>HourlyPresentWeatherType</th>\n",
       "    </tr>\n",
       "  </thead>\n",
       "  <tbody>\n",
       "    <tr>\n",
       "      <th>141</th>\n",
       "      <td>2020-01-05 00:54:00</td>\n",
       "      <td>T</td>\n",
       "      <td>-RA:02 |RA |RA</td>\n",
       "    </tr>\n",
       "    <tr>\n",
       "      <th>142</th>\n",
       "      <td>2020-01-05 00:57:00</td>\n",
       "      <td>T</td>\n",
       "      <td>-RA:02 |RA |RA</td>\n",
       "    </tr>\n",
       "    <tr>\n",
       "      <th>143</th>\n",
       "      <td>2020-01-05 01:00:00</td>\n",
       "      <td>NaN</td>\n",
       "      <td>||RA</td>\n",
       "    </tr>\n",
       "    <tr>\n",
       "      <th>144</th>\n",
       "      <td>2020-01-05 01:54:00</td>\n",
       "      <td>0.04</td>\n",
       "      <td>-RA:02 |RA |RA</td>\n",
       "    </tr>\n",
       "    <tr>\n",
       "      <th>145</th>\n",
       "      <td>2020-01-05 02:54:00</td>\n",
       "      <td>0.04</td>\n",
       "      <td>-RA:02 SN:03 |RA RA SN |RA</td>\n",
       "    </tr>\n",
       "    <tr>\n",
       "      <th>146</th>\n",
       "      <td>2020-01-05 03:54:00</td>\n",
       "      <td>0.02</td>\n",
       "      <td>-SN:03 RA:02 |RA RA SN |RA</td>\n",
       "    </tr>\n",
       "    <tr>\n",
       "      <th>147</th>\n",
       "      <td>2020-01-05 04:00:00</td>\n",
       "      <td>NaN</td>\n",
       "      <td>NaN</td>\n",
       "    </tr>\n",
       "    <tr>\n",
       "      <th>148</th>\n",
       "      <td>2020-01-05 04:35:00</td>\n",
       "      <td>0.02</td>\n",
       "      <td>-RA:02 SN:03 |RA RA SN |RA</td>\n",
       "    </tr>\n",
       "    <tr>\n",
       "      <th>149</th>\n",
       "      <td>2020-01-05 04:54:00</td>\n",
       "      <td>0.01</td>\n",
       "      <td>-SN:03 |SN |</td>\n",
       "    </tr>\n",
       "    <tr>\n",
       "      <th>150</th>\n",
       "      <td>2020-01-05 05:34:00</td>\n",
       "      <td>T</td>\n",
       "      <td>-SN:03 |SN |</td>\n",
       "    </tr>\n",
       "    <tr>\n",
       "      <th>151</th>\n",
       "      <td>2020-01-05 05:54:00</td>\n",
       "      <td>T</td>\n",
       "      <td>-SN:03 |SN |</td>\n",
       "    </tr>\n",
       "    <tr>\n",
       "      <th>152</th>\n",
       "      <td>2020-01-05 06:11:00</td>\n",
       "      <td>T</td>\n",
       "      <td>-SN:03 |SN |</td>\n",
       "    </tr>\n",
       "    <tr>\n",
       "      <th>153</th>\n",
       "      <td>2020-01-05 06:54:00</td>\n",
       "      <td>T</td>\n",
       "      <td>NaN</td>\n",
       "    </tr>\n",
       "    <tr>\n",
       "      <th>154</th>\n",
       "      <td>2020-01-05 07:00:00</td>\n",
       "      <td>NaN</td>\n",
       "      <td>NaN</td>\n",
       "    </tr>\n",
       "    <tr>\n",
       "      <th>155</th>\n",
       "      <td>2020-01-05 07:54:00</td>\n",
       "      <td>0.00</td>\n",
       "      <td>NaN</td>\n",
       "    </tr>\n",
       "    <tr>\n",
       "      <th>156</th>\n",
       "      <td>2020-01-05 08:54:00</td>\n",
       "      <td>0.00</td>\n",
       "      <td>NaN</td>\n",
       "    </tr>\n",
       "    <tr>\n",
       "      <th>157</th>\n",
       "      <td>2020-01-05 09:54:00</td>\n",
       "      <td>0.00</td>\n",
       "      <td>NaN</td>\n",
       "    </tr>\n",
       "    <tr>\n",
       "      <th>158</th>\n",
       "      <td>2020-01-05 10:00:00</td>\n",
       "      <td>NaN</td>\n",
       "      <td>NaN</td>\n",
       "    </tr>\n",
       "    <tr>\n",
       "      <th>159</th>\n",
       "      <td>2020-01-05 10:54:00</td>\n",
       "      <td>0.00</td>\n",
       "      <td>NaN</td>\n",
       "    </tr>\n",
       "    <tr>\n",
       "      <th>160</th>\n",
       "      <td>2020-01-05 11:54:00</td>\n",
       "      <td>0.00</td>\n",
       "      <td>NaN</td>\n",
       "    </tr>\n",
       "    <tr>\n",
       "      <th>161</th>\n",
       "      <td>2020-01-05 12:54:00</td>\n",
       "      <td>0.00</td>\n",
       "      <td>NaN</td>\n",
       "    </tr>\n",
       "    <tr>\n",
       "      <th>162</th>\n",
       "      <td>2020-01-05 13:00:00</td>\n",
       "      <td>NaN</td>\n",
       "      <td>NaN</td>\n",
       "    </tr>\n",
       "    <tr>\n",
       "      <th>163</th>\n",
       "      <td>2020-01-05 13:54:00</td>\n",
       "      <td>0.00</td>\n",
       "      <td>NaN</td>\n",
       "    </tr>\n",
       "    <tr>\n",
       "      <th>164</th>\n",
       "      <td>2020-01-05 14:54:00</td>\n",
       "      <td>0.00</td>\n",
       "      <td>NaN</td>\n",
       "    </tr>\n",
       "    <tr>\n",
       "      <th>165</th>\n",
       "      <td>2020-01-05 15:54:00</td>\n",
       "      <td>0.00</td>\n",
       "      <td>NaN</td>\n",
       "    </tr>\n",
       "    <tr>\n",
       "      <th>166</th>\n",
       "      <td>2020-01-05 16:00:00</td>\n",
       "      <td>NaN</td>\n",
       "      <td>NaN</td>\n",
       "    </tr>\n",
       "    <tr>\n",
       "      <th>167</th>\n",
       "      <td>2020-01-05 16:54:00</td>\n",
       "      <td>0.00</td>\n",
       "      <td>NaN</td>\n",
       "    </tr>\n",
       "    <tr>\n",
       "      <th>168</th>\n",
       "      <td>2020-01-05 17:54:00</td>\n",
       "      <td>0.00</td>\n",
       "      <td>NaN</td>\n",
       "    </tr>\n",
       "    <tr>\n",
       "      <th>169</th>\n",
       "      <td>2020-01-05 18:54:00</td>\n",
       "      <td>0.00</td>\n",
       "      <td>NaN</td>\n",
       "    </tr>\n",
       "    <tr>\n",
       "      <th>170</th>\n",
       "      <td>2020-01-05 19:00:00</td>\n",
       "      <td>NaN</td>\n",
       "      <td>NaN</td>\n",
       "    </tr>\n",
       "    <tr>\n",
       "      <th>171</th>\n",
       "      <td>2020-01-05 19:54:00</td>\n",
       "      <td>0.00</td>\n",
       "      <td>NaN</td>\n",
       "    </tr>\n",
       "    <tr>\n",
       "      <th>172</th>\n",
       "      <td>2020-01-05 20:54:00</td>\n",
       "      <td>0.00</td>\n",
       "      <td>NaN</td>\n",
       "    </tr>\n",
       "    <tr>\n",
       "      <th>173</th>\n",
       "      <td>2020-01-05 21:54:00</td>\n",
       "      <td>0.00</td>\n",
       "      <td>NaN</td>\n",
       "    </tr>\n",
       "    <tr>\n",
       "      <th>174</th>\n",
       "      <td>2020-01-05 22:00:00</td>\n",
       "      <td>NaN</td>\n",
       "      <td>NaN</td>\n",
       "    </tr>\n",
       "    <tr>\n",
       "      <th>175</th>\n",
       "      <td>2020-01-05 22:54:00</td>\n",
       "      <td>0.00</td>\n",
       "      <td>NaN</td>\n",
       "    </tr>\n",
       "    <tr>\n",
       "      <th>176</th>\n",
       "      <td>2020-01-05 23:54:00</td>\n",
       "      <td>0.00</td>\n",
       "      <td>NaN</td>\n",
       "    </tr>\n",
       "    <tr>\n",
       "      <th>177</th>\n",
       "      <td>2020-01-05 23:59:00</td>\n",
       "      <td>NaN</td>\n",
       "      <td>NaN</td>\n",
       "    </tr>\n",
       "  </tbody>\n",
       "</table>\n",
       "</div>"
      ],
      "text/plain": [
       "                   DATE HourlyPrecipitation    HourlyPresentWeatherType\n",
       "141 2020-01-05 00:54:00                   T              -RA:02 |RA |RA\n",
       "142 2020-01-05 00:57:00                   T              -RA:02 |RA |RA\n",
       "143 2020-01-05 01:00:00                 NaN                        ||RA\n",
       "144 2020-01-05 01:54:00                0.04              -RA:02 |RA |RA\n",
       "145 2020-01-05 02:54:00                0.04  -RA:02 SN:03 |RA RA SN |RA\n",
       "146 2020-01-05 03:54:00                0.02  -SN:03 RA:02 |RA RA SN |RA\n",
       "147 2020-01-05 04:00:00                 NaN                         NaN\n",
       "148 2020-01-05 04:35:00                0.02  -RA:02 SN:03 |RA RA SN |RA\n",
       "149 2020-01-05 04:54:00                0.01                -SN:03 |SN |\n",
       "150 2020-01-05 05:34:00                   T                -SN:03 |SN |\n",
       "151 2020-01-05 05:54:00                   T                -SN:03 |SN |\n",
       "152 2020-01-05 06:11:00                   T                -SN:03 |SN |\n",
       "153 2020-01-05 06:54:00                   T                         NaN\n",
       "154 2020-01-05 07:00:00                 NaN                         NaN\n",
       "155 2020-01-05 07:54:00                0.00                         NaN\n",
       "156 2020-01-05 08:54:00                0.00                         NaN\n",
       "157 2020-01-05 09:54:00                0.00                         NaN\n",
       "158 2020-01-05 10:00:00                 NaN                         NaN\n",
       "159 2020-01-05 10:54:00                0.00                         NaN\n",
       "160 2020-01-05 11:54:00                0.00                         NaN\n",
       "161 2020-01-05 12:54:00                0.00                         NaN\n",
       "162 2020-01-05 13:00:00                 NaN                         NaN\n",
       "163 2020-01-05 13:54:00                0.00                         NaN\n",
       "164 2020-01-05 14:54:00                0.00                         NaN\n",
       "165 2020-01-05 15:54:00                0.00                         NaN\n",
       "166 2020-01-05 16:00:00                 NaN                         NaN\n",
       "167 2020-01-05 16:54:00                0.00                         NaN\n",
       "168 2020-01-05 17:54:00                0.00                         NaN\n",
       "169 2020-01-05 18:54:00                0.00                         NaN\n",
       "170 2020-01-05 19:00:00                 NaN                         NaN\n",
       "171 2020-01-05 19:54:00                0.00                         NaN\n",
       "172 2020-01-05 20:54:00                0.00                         NaN\n",
       "173 2020-01-05 21:54:00                0.00                         NaN\n",
       "174 2020-01-05 22:00:00                 NaN                         NaN\n",
       "175 2020-01-05 22:54:00                0.00                         NaN\n",
       "176 2020-01-05 23:54:00                0.00                         NaN\n",
       "177 2020-01-05 23:59:00                 NaN                         NaN"
      ]
     },
     "execution_count": 6,
     "metadata": {},
     "output_type": "execute_result"
    }
   ],
   "source": [
    "mask = (Boston[\"DATE\"] >= \"2020-01-05\") & (Boston[\"DATE\"] < \"2020-01-06\")\n",
    "jan1st = Boston[mask]\n",
    "jan1st[[\"DATE\", \"HourlyPrecipitation\", \"HourlyPresentWeatherType\"]]"
   ]
  },
  {
   "cell_type": "markdown",
   "id": "21e0ebe3",
   "metadata": {},
   "source": [
    "After looking at multiple days, it seems like there isn't really a predictable pattern for when the measurements are taken, and there are often far more than 24 observations per day."
   ]
  },
  {
   "cell_type": "markdown",
   "id": "7d7039e3",
   "metadata": {},
   "source": [
    "To solve this, I'm going to make a loop that looks through each hour to see if it rained at all. The column I am going to use to do so will be \"HourlyPresentWeatherType\", because the \"HourlyPrecipitation\" column doesn't distinguish between types of precipitation (i.e. snow vs drizzle vs rain). We want to just count rain, which is given by the weather type column as \"RA\"."
   ]
  },
  {
   "cell_type": "markdown",
   "id": "c37f5c63",
   "metadata": {},
   "source": [
    "I want to make sure I can count the amount of hours that it rained first. To do so, I'm going to see if I can count an hour in which rain was measured twice. (I went into the excel sheet to find the first hour where rain was measured twice in one hour.)"
   ]
  },
  {
   "cell_type": "code",
   "execution_count": 7,
   "id": "2744f612",
   "metadata": {},
   "outputs": [
    {
     "data": {
      "text/html": [
       "<div>\n",
       "<style scoped>\n",
       "    .dataframe tbody tr th:only-of-type {\n",
       "        vertical-align: middle;\n",
       "    }\n",
       "\n",
       "    .dataframe tbody tr th {\n",
       "        vertical-align: top;\n",
       "    }\n",
       "\n",
       "    .dataframe thead th {\n",
       "        text-align: right;\n",
       "    }\n",
       "</style>\n",
       "<table border=\"1\" class=\"dataframe\">\n",
       "  <thead>\n",
       "    <tr style=\"text-align: right;\">\n",
       "      <th></th>\n",
       "      <th>DATE</th>\n",
       "      <th>HourlyPresentWeatherType</th>\n",
       "    </tr>\n",
       "  </thead>\n",
       "  <tbody>\n",
       "    <tr>\n",
       "      <th>119</th>\n",
       "      <td>2020-01-04 12:39:00</td>\n",
       "      <td>-RA:02 BR:1 |RA |RA</td>\n",
       "    </tr>\n",
       "    <tr>\n",
       "      <th>120</th>\n",
       "      <td>2020-01-04 12:54:00</td>\n",
       "      <td>-RA:02 BR:1 |RA |RA</td>\n",
       "    </tr>\n",
       "  </tbody>\n",
       "</table>\n",
       "</div>"
      ],
      "text/plain": [
       "                   DATE HourlyPresentWeatherType\n",
       "119 2020-01-04 12:39:00      -RA:02 BR:1 |RA |RA\n",
       "120 2020-01-04 12:54:00      -RA:02 BR:1 |RA |RA"
      ]
     },
     "execution_count": 7,
     "metadata": {},
     "output_type": "execute_result"
    }
   ],
   "source": [
    "#in this hour \"RA\" was reported twice\n",
    "mask = (Boston[\"DATE\"] >= \"2020-01-04 12:00:00\") & (Boston[\"DATE\"] < \"2020-01-04 13:00:00\")\n",
    "Bostonhour = Boston[mask]\n",
    "Bostonhour[[\"DATE\", \"HourlyPresentWeatherType\"]]"
   ]
  },
  {
   "cell_type": "code",
   "execution_count": 8,
   "id": "23b2d33c",
   "metadata": {},
   "outputs": [
    {
     "data": {
      "text/html": [
       "<div>\n",
       "<style scoped>\n",
       "    .dataframe tbody tr th:only-of-type {\n",
       "        vertical-align: middle;\n",
       "    }\n",
       "\n",
       "    .dataframe tbody tr th {\n",
       "        vertical-align: top;\n",
       "    }\n",
       "\n",
       "    .dataframe thead th {\n",
       "        text-align: right;\n",
       "    }\n",
       "</style>\n",
       "<table border=\"1\" class=\"dataframe\">\n",
       "  <thead>\n",
       "    <tr style=\"text-align: right;\">\n",
       "      <th></th>\n",
       "      <th>DATE</th>\n",
       "      <th>HourlyPresentWeatherType</th>\n",
       "    </tr>\n",
       "  </thead>\n",
       "  <tbody>\n",
       "    <tr>\n",
       "      <th>138</th>\n",
       "      <td>2020-01-04 23:38:00</td>\n",
       "      <td>-RA:02 |RA |RA</td>\n",
       "    </tr>\n",
       "    <tr>\n",
       "      <th>139</th>\n",
       "      <td>2020-01-04 23:54:00</td>\n",
       "      <td>-RA:02 |RA |RA</td>\n",
       "    </tr>\n",
       "  </tbody>\n",
       "</table>\n",
       "</div>"
      ],
      "text/plain": [
       "                   DATE HourlyPresentWeatherType\n",
       "138 2020-01-04 23:38:00           -RA:02 |RA |RA\n",
       "139 2020-01-04 23:54:00           -RA:02 |RA |RA"
      ]
     },
     "execution_count": 8,
     "metadata": {},
     "output_type": "execute_result"
    }
   ],
   "source": [
    "#in this hour \"RA\" was reported twice\n",
    "hour = 23\n",
    "mask = (Boston[\"DATE\"] >= pd.Timestamp(2020, 1, 4, hour, 0)) & (Boston[\"DATE\"] < pd.Timestamp(2020, 1, 4, hour, 59)) \n",
    "Bostonhour = Boston[mask]\n",
    "Bostonhour[[\"DATE\", \"HourlyPresentWeatherType\"]]"
   ]
  },
  {
   "cell_type": "code",
   "execution_count": 9,
   "id": "67b47b9b",
   "metadata": {},
   "outputs": [
    {
     "data": {
      "text/plain": [
       "138    True\n",
       "139    True\n",
       "Name: HourlyPresentWeatherType, dtype: bool"
      ]
     },
     "execution_count": 9,
     "metadata": {},
     "output_type": "execute_result"
    }
   ],
   "source": [
    "#making a mask for weather in rained within that hour\n",
    "hour_mask = Bostonhour[\"HourlyPresentWeatherType\"].str.contains(\"RA\")\n",
    "hour_mask"
   ]
  },
  {
   "cell_type": "code",
   "execution_count": 10,
   "id": "b5b74c9c",
   "metadata": {},
   "outputs": [
    {
     "data": {
      "text/plain": [
       "True"
      ]
     },
     "execution_count": 10,
     "metadata": {},
     "output_type": "execute_result"
    }
   ],
   "source": [
    "True in hour_mask.values"
   ]
  },
  {
   "cell_type": "markdown",
   "id": "06e3d0e5",
   "metadata": {},
   "source": [
    "After running all, we'll do a simple counter to count how many times \"RA\" shows up once in an hour. Here's an example for the 23rd hour of January 4th that we just did:"
   ]
  },
  {
   "cell_type": "code",
   "execution_count": 11,
   "id": "ff485a4c",
   "metadata": {},
   "outputs": [
    {
     "data": {
      "text/plain": [
       "1"
      ]
     },
     "execution_count": 11,
     "metadata": {},
     "output_type": "execute_result"
    }
   ],
   "source": [
    "count = 0\n",
    "if(True in hour_mask.values):\n",
    "        count = count + 1\n",
    "count"
   ]
  },
  {
   "cell_type": "markdown",
   "id": "a8db92d8",
   "metadata": {},
   "source": [
    "Now that we figured out how, we're going to iterate through all hours of the year, and count all of the hours that it rained."
   ]
  },
  {
   "cell_type": "markdown",
   "id": "20e3667a",
   "metadata": {},
   "source": [
    "This for loop counts the hours in a day that \"RA\" (rain) was reported for each hour of the day of January 4th:"
   ]
  },
  {
   "cell_type": "code",
   "execution_count": 12,
   "id": "c2b07817",
   "metadata": {},
   "outputs": [
    {
     "data": {
      "text/plain": [
       "6"
      ]
     },
     "execution_count": 12,
     "metadata": {},
     "output_type": "execute_result"
    }
   ],
   "source": [
    "count = 0\n",
    "for hour in range(0,24):\n",
    "    mask = (Boston[\"DATE\"] >= pd.Timestamp(2020, 1, 4, hour, 0)) & (Boston[\"DATE\"] < pd.Timestamp(2020, 1, 4, hour, 59))\n",
    "    Bostonhour = Boston[mask]\n",
    "    hour_mask = Bostonhour[\"HourlyPresentWeatherType\"].str.contains(\"RA\")\n",
    "    if(True in hour_mask.values):\n",
    "        count = count + 1\n",
    "    \n",
    "\n",
    "count"
   ]
  },
  {
   "cell_type": "markdown",
   "id": "1f580460",
   "metadata": {},
   "source": [
    "*Rain was reported during 6 different hours on Jan 1, 2020*"
   ]
  },
  {
   "cell_type": "markdown",
   "id": "8fe2a6c7",
   "metadata": {},
   "source": [
    "This for loop builds upon the previous by adding days:"
   ]
  },
  {
   "cell_type": "code",
   "execution_count": 13,
   "id": "397b87e8",
   "metadata": {},
   "outputs": [
    {
     "data": {
      "text/plain": [
       "36"
      ]
     },
     "execution_count": 13,
     "metadata": {},
     "output_type": "execute_result"
    }
   ],
   "source": [
    "count = 0\n",
    "for day in range(1, 32):\n",
    "    for hour in range(0,24):\n",
    "        mask = (Boston[\"DATE\"] >= pd.Timestamp(2020, 1, day, hour, 0)) & (Boston[\"DATE\"] < pd.Timestamp(2020, 1, day, hour, 59))\n",
    "        Bostonhour = Boston[mask]\n",
    "        hour_mask = Bostonhour[\"HourlyPresentWeatherType\"].str.contains(\"RA\")\n",
    "        if(True in hour_mask.values):\n",
    "            count = count + 1\n",
    "    \n",
    "count"
   ]
  },
  {
   "cell_type": "markdown",
   "id": "8836eb2d",
   "metadata": {},
   "source": [
    "*Rain was reported during 36 different hours in Jan 2020*"
   ]
  },
  {
   "cell_type": "markdown",
   "id": "5866d5ed",
   "metadata": {},
   "source": [
    "Doing every month will be a bit more complicated because each month doesn't have the same amount of days. Here, I made a list of all the months of the year such that a given month's index is equal to the number of the month - 1 (for example, the index of September is 9 - 1 = 8), and by accessing any of the months in that list, the number of days in that month can also be accessed (`length_of_month[8]` gives the number of days in the month of September). I'm first going to test that it works for the month of January:"
   ]
  },
  {
   "cell_type": "code",
   "execution_count": 14,
   "id": "f05a4d93",
   "metadata": {},
   "outputs": [
    {
     "data": {
      "text/plain": [
       "36"
      ]
     },
     "execution_count": 14,
     "metadata": {},
     "output_type": "execute_result"
    }
   ],
   "source": [
    "count = 0\n",
    "month = 1\n",
    "length_of_month = [31, 29, 31, 30, 31, 30, 31, 31, 30, 31, 30, 31]\n",
    "month_index = month - 1\n",
    "for day in range(1, length_of_month[month_index]+1):\n",
    "    for hour in range(0,24):\n",
    "        mask = (Boston[\"DATE\"] >= pd.Timestamp(2020, 1, day, hour, 0)) & (Boston[\"DATE\"] < pd.Timestamp(2020, 1, day, hour, 59))\n",
    "        Bostonhour = Boston[mask]\n",
    "        hour_mask = Bostonhour[\"HourlyPresentWeatherType\"].str.contains(\"RA\")\n",
    "        if(True in hour_mask.values):\n",
    "            count = count + 1\n",
    "    \n",
    "count"
   ]
  },
  {
   "cell_type": "markdown",
   "id": "e78119da",
   "metadata": {},
   "source": [
    "Seemed like it worked because it yielded the same count as the previous version of the loop (36 both times). So now we'll just add a loop to iterate through all the months:"
   ]
  },
  {
   "cell_type": "code",
   "execution_count": 15,
   "id": "0c72c502",
   "metadata": {},
   "outputs": [
    {
     "data": {
      "text/plain": [
       "813"
      ]
     },
     "execution_count": 15,
     "metadata": {},
     "output_type": "execute_result"
    }
   ],
   "source": [
    "count = 0\n",
    "for month in range(1, 13):\n",
    "    length_of_month = [31, 29, 31, 30, 31, 30, 31, 31, 30, 31, 30, 31]\n",
    "    month_index = month - 1\n",
    "    for day in range(1, length_of_month[month_index]+1):\n",
    "        for hour in range(0,24):\n",
    "            mask = (Boston[\"DATE\"] >= pd.Timestamp(2020, month, day, hour, 0)) & (Boston[\"DATE\"] < pd.Timestamp(2020, month, day, hour, 59))\n",
    "            Bostonhour = Boston[mask]\n",
    "            hour_mask = Bostonhour[\"HourlyPresentWeatherType\"].str.contains(\"RA\")\n",
    "            if(True in hour_mask.values):\n",
    "                count = count + 1\n",
    "    \n",
    "count"
   ]
  },
  {
   "cell_type": "markdown",
   "id": "ad9b8a0f",
   "metadata": {},
   "source": [
    "There we have it: **Rain was reported during 813 different hours in Boston in 2020**. Now lets just apply it to the other cities."
   ]
  },
  {
   "cell_type": "code",
   "execution_count": 16,
   "id": "186d7e80",
   "metadata": {},
   "outputs": [],
   "source": [
    "cities_list = [Phoenix, LosAngeles, SanFran, Denver, Jacksonville, Atlanta,\n",
    "              Chicago, Boston, Minneapolis, Ithaca, NewYork, Portland, Philidelphia,\n",
    "              Dallas, Saltlake, WashingtonD, Bellingham, Seattle]"
   ]
  },
  {
   "cell_type": "markdown",
   "id": "6bad551f",
   "metadata": {},
   "source": [
    "For reference, here is the index of each city:\n",
    "* 0: Phoenix, \n",
    "* 1: LosAngeles, \n",
    "* 2: SanFran, \n",
    "* 3: Denver, \n",
    "* 4: Jacksonville, \n",
    "* 5: Atlanta,\n",
    "* 6: Chicago, \n",
    "* 7: Boston, \n",
    "* 8: Minneapolis, \n",
    "* 9: Ithaca,\n",
    "* 10: NewYork, \n",
    "* 11: Portland, \n",
    "* 12: Philidelphia,\n",
    "* 13: Dallas, \n",
    "* 14: Saltlake, \n",
    "* 15: WashingtonD, \n",
    "* 16: Bellingham,\n",
    "* 17: Seattle"
   ]
  },
  {
   "cell_type": "markdown",
   "id": "a4813485",
   "metadata": {},
   "source": [
    "First I'm going to test that it works on Phoenix:"
   ]
  },
  {
   "cell_type": "code",
   "execution_count": 17,
   "id": "66695f05",
   "metadata": {},
   "outputs": [
    {
     "data": {
      "text/plain": [
       "85"
      ]
     },
     "execution_count": 17,
     "metadata": {},
     "output_type": "execute_result"
    }
   ],
   "source": [
    "city = cities_list[0] #Phoenix has an index of 0\n",
    "count = 0\n",
    "city[\"DATE\"] = pd.to_datetime(city[\"DATE\"])\n",
    "\n",
    "for month in range(1, 13):\n",
    "    length_of_month = [31, 29, 31, 30, 31, 30, 31, 31, 30, 31, 30, 31]\n",
    "    month_index = month - 1\n",
    "    for day in range(1, length_of_month[month_index]+1):\n",
    "        for hour in range(0,24):\n",
    "            mask = (city[\"DATE\"] >= pd.Timestamp(2020, month, day, hour, 0)) & (city[\"DATE\"] < pd.Timestamp(2020, month, day, hour, 59))\n",
    "            cityhour = city[mask]\n",
    "            hour_mask = cityhour[\"HourlyPresentWeatherType\"].str.contains(\"RA\")\n",
    "            if(True in hour_mask.values):\n",
    "                count = count + 1\n",
    "    \n",
    "count"
   ]
  },
  {
   "cell_type": "markdown",
   "id": "b89b2a2b",
   "metadata": {},
   "source": [
    "*Rain was reported in just 85 individual hours in Phoenix in 2020.* This makes sense when compared to Boston. More importantly, it works! Let's apply the loop to every city we have data for and add the totals to a list in the order that they are indexed in `cities_list`."
   ]
  },
  {
   "cell_type": "code",
   "execution_count": 18,
   "id": "b67efad2",
   "metadata": {},
   "outputs": [],
   "source": [
    "rain_totals = []\n",
    "for city_index in range(0, len(cities_list)):\n",
    "    city = cities_list[city_index]\n",
    "    count = 0\n",
    "    city[\"DATE\"] = pd.to_datetime(city[\"DATE\"])\n",
    "\n",
    "    for month in range(1, 13):\n",
    "        length_of_month = [31, 29, 31, 30, 31, 30, 31, 31, 30, 31, 30, 31]\n",
    "        month_index = month - 1\n",
    "        for day in range(1, length_of_month[month_index]):\n",
    "            for hour in range(0,24):\n",
    "                mask = (city[\"DATE\"] >= pd.Timestamp(2020, month, day, hour, 0)) & (city[\"DATE\"] < pd.Timestamp(2020, month, day, hour, 59))\n",
    "                cityhour = city[mask]\n",
    "                hour_mask = cityhour[\"HourlyPresentWeatherType\"].str.contains(\"RA\")\n",
    "                if(True in hour_mask.values):\n",
    "                    count = count + 1\n",
    "    \n",
    "    rain_totals.append(count)"
   ]
  },
  {
   "cell_type": "code",
   "execution_count": 19,
   "id": "e82f7b60",
   "metadata": {},
   "outputs": [
    {
     "data": {
      "text/plain": [
       "[85,\n",
       " 167,\n",
       " 160,\n",
       " 158,\n",
       " 538,\n",
       " 798,\n",
       " 597,\n",
       " 776,\n",
       " 403,\n",
       " 758,\n",
       " 825,\n",
       " 1133,\n",
       " 809,\n",
       " 575,\n",
       " 269,\n",
       " 750,\n",
       " 1098,\n",
       " 1123]"
      ]
     },
     "execution_count": 19,
     "metadata": {},
     "output_type": "execute_result"
    }
   ],
   "source": [
    "rain_totals"
   ]
  },
  {
   "cell_type": "code",
   "execution_count": 20,
   "id": "6c98d666",
   "metadata": {},
   "outputs": [
    {
     "data": {
      "text/plain": [
       "['Phoenix',\n",
       " 'LosAngeles',\n",
       " 'SanFran',\n",
       " 'Denver',\n",
       " 'Jacksonville',\n",
       " 'Atlanta',\n",
       " 'Chicago',\n",
       " 'Boston',\n",
       " 'Minneapolis',\n",
       " 'Ithaca',\n",
       " 'NewYork',\n",
       " 'Portland',\n",
       " 'Philidelphia',\n",
       " 'Dallas',\n",
       " 'Saltlake',\n",
       " 'WashingtonD',\n",
       " 'Bellingham',\n",
       " 'Seattle']"
      ]
     },
     "execution_count": 20,
     "metadata": {},
     "output_type": "execute_result"
    }
   ],
   "source": [
    "city_list_with_strings = [\"Phoenix\", \"LosAngeles\", \"SanFran\", \"Denver\", \"Jacksonville\", \"Atlanta\", \"Chicago\", \"Boston\", \"Minneapolis\", \"Ithaca\", \"NewYork\", \"Portland\", \"Philidelphia\", \"Dallas\", \"Saltlake\", \"WashingtonD\", \"Bellingham\", \"Seattle\"]\n",
    "city_list_with_strings"
   ]
  },
  {
   "cell_type": "code",
   "execution_count": 21,
   "id": "7ca4525e",
   "metadata": {},
   "outputs": [
    {
     "data": {
      "text/plain": [
       "Phoenix           85\n",
       "LosAngeles       167\n",
       "SanFran          160\n",
       "Denver           158\n",
       "Jacksonville     538\n",
       "Atlanta          798\n",
       "Chicago          597\n",
       "Boston           776\n",
       "Minneapolis      403\n",
       "Ithaca           758\n",
       "NewYork          825\n",
       "Portland        1133\n",
       "Philidelphia     809\n",
       "Dallas           575\n",
       "Saltlake         269\n",
       "WashingtonD      750\n",
       "Bellingham      1098\n",
       "Seattle         1123\n",
       "dtype: int64"
      ]
     },
     "execution_count": 21,
     "metadata": {},
     "output_type": "execute_result"
    }
   ],
   "source": [
    "rainy_hours = pd.Series(data = rain_totals, index = city_list_with_strings)\n",
    "rainy_hours"
   ]
  },
  {
   "cell_type": "code",
   "execution_count": 22,
   "id": "c237a23e",
   "metadata": {},
   "outputs": [
    {
     "data": {
      "text/plain": [
       "Phoenix           85\n",
       "Denver           158\n",
       "SanFran          160\n",
       "LosAngeles       167\n",
       "Saltlake         269\n",
       "Minneapolis      403\n",
       "Jacksonville     538\n",
       "Dallas           575\n",
       "Chicago          597\n",
       "WashingtonD      750\n",
       "Ithaca           758\n",
       "Boston           776\n",
       "Atlanta          798\n",
       "Philidelphia     809\n",
       "NewYork          825\n",
       "Bellingham      1098\n",
       "Seattle         1123\n",
       "Portland        1133\n",
       "dtype: int64"
      ]
     },
     "execution_count": 22,
     "metadata": {},
     "output_type": "execute_result"
    }
   ],
   "source": [
    "rainy_hours.sort_values()"
   ]
  },
  {
   "cell_type": "code",
   "execution_count": 23,
   "id": "cb7965af",
   "metadata": {},
   "outputs": [
    {
     "data": {
      "text/plain": [
       "count      18.000000\n",
       "mean      612.333333\n",
       "std       343.798847\n",
       "min        85.000000\n",
       "25%       302.500000\n",
       "50%       673.500000\n",
       "75%       806.250000\n",
       "max      1133.000000\n",
       "dtype: float64"
      ]
     },
     "execution_count": 23,
     "metadata": {},
     "output_type": "execute_result"
    }
   ],
   "source": [
    "rainy_hours.describe()"
   ]
  },
  {
   "cell_type": "code",
   "execution_count": 24,
   "id": "98479f72",
   "metadata": {},
   "outputs": [
    {
     "data": {
      "text/plain": [
       "673.5"
      ]
     },
     "execution_count": 24,
     "metadata": {},
     "output_type": "execute_result"
    }
   ],
   "source": [
    "rainy_hours.median()"
   ]
  },
  {
   "cell_type": "markdown",
   "id": "764aeda6",
   "metadata": {},
   "source": [
    "There you have it: **In 2020, Portland had the most hours in which rain was observed at all (1133), and therefore it is the rainiest city in 2020 in this dataset.** Seattle and Bellingham were close behind with both over 1000 hours in which it rained (Seattle only 10 behind at 1123), while Pheonix had by far the lowest amount of hours with rain at 85 hours. Additionally, the average rain hours for all the cities in this data was 612.33 hours."
   ]
  },
  {
   "cell_type": "markdown",
   "id": "18ec4aec",
   "metadata": {},
   "source": [
    "Here are a few justifications for decisions I made with this analysis:\n",
    "* Why were hours with drizzle and snow not included in the count? I left these out because the question was about raininess. Even though it is precipitation, snow is not rain, therefore it was left out. Drizzle was left out however, because I felt that drizzle doesn't have the same effect on a person as rain. When it is just \"drizzling\" outside, you still may go out without a jacket or umbrella. But if it is raining, you notice. You think \"oh, its raining!\". Therefore, for deciding which city was the 'rainiest', I went with counting just rain hours instead of including other types of weather.\n",
    "* Why hours of rain instead of days with rain? Because if days of rain were counted, a city where it typically rains for 12 hours a day may be considered less rainy than a city where it rains for just an hour of the day if the latter city has more days where it rained for that single hour. I consider a city where it rains more hours of the year more rainy than a city where it rains more days of the year."
   ]
  }
 ],
 "metadata": {
  "kernelspec": {
   "display_name": "Python 3",
   "language": "python",
   "name": "python3"
  },
  "language_info": {
   "codemirror_mode": {
    "name": "ipython",
    "version": 3
   },
   "file_extension": ".py",
   "mimetype": "text/x-python",
   "name": "python",
   "nbconvert_exporter": "python",
   "pygments_lexer": "ipython3",
   "version": "3.8.8"
  }
 },
 "nbformat": 4,
 "nbformat_minor": 5
}
