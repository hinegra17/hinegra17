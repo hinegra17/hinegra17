{
 "cells": [
  {
   "cell_type": "markdown",
   "id": "a975571e",
   "metadata": {},
   "source": [
    "# Assignment 2 Question 3\n",
    "Grayson Hineline\n",
    "\n",
    "Note for portfolio: This assignment was conducted when I was very new to Python and the Pandas library. Given my current skills I would have conducted the assignment much more efficiently."
   ]
  },
  {
   "cell_type": "markdown",
   "id": "a9a91527",
   "metadata": {},
   "source": [
    "## Question 3: Which daily metric has the strongest correlation with daily precipitation in Bellingham?"
   ]
  },
  {
   "cell_type": "code",
   "execution_count": 1,
   "id": "e69046bd",
   "metadata": {},
   "outputs": [],
   "source": [
    "import pandas as pd\n",
    "import numpy as np"
   ]
  },
  {
   "cell_type": "markdown",
   "id": "4aebc24e",
   "metadata": {},
   "source": [
    "What we're going to do here is take a whole bunch of the data from all the daily columns in the datasets, and plot them all on scatterplots to see which metric seems to have the strongest correlation with hourly precipitation.\n",
    "*Edit: Originally I was going to compare 3 different cities, but I'm going on my 7th or 8th hour working on this lab now, so I'm going to just do Bellingham.*"
   ]
  },
  {
   "cell_type": "markdown",
   "id": "f6bd40a1",
   "metadata": {},
   "source": [
    "The main problem is going to be all the columns that have objects as their values, and the columns that include categorical data rather than continuous. First we'll look at each daily column to narrow down which ones we can/should use (i.e. which columns can make sense when correlated with a continuous variable like daily precipiation.)"
   ]
  },
  {
   "cell_type": "code",
   "execution_count": 2,
   "id": "20f39289",
   "metadata": {},
   "outputs": [
    {
     "data": {
      "text/html": [
       "<div>\n",
       "<style scoped>\n",
       "    .dataframe tbody tr th:only-of-type {\n",
       "        vertical-align: middle;\n",
       "    }\n",
       "\n",
       "    .dataframe tbody tr th {\n",
       "        vertical-align: top;\n",
       "    }\n",
       "\n",
       "    .dataframe thead th {\n",
       "        text-align: right;\n",
       "    }\n",
       "</style>\n",
       "<table border=\"1\" class=\"dataframe\">\n",
       "  <thead>\n",
       "    <tr style=\"text-align: right;\">\n",
       "      <th></th>\n",
       "      <th>STATION</th>\n",
       "      <th>DATE</th>\n",
       "      <th>REPORT_TYPE</th>\n",
       "      <th>SOURCE</th>\n",
       "      <th>AWND</th>\n",
       "      <th>BackupDirection</th>\n",
       "      <th>BackupDistance</th>\n",
       "      <th>BackupDistanceUnit</th>\n",
       "      <th>BackupElements</th>\n",
       "      <th>BackupElevation</th>\n",
       "      <th>...</th>\n",
       "      <th>ShortDurationPrecipitationValue060</th>\n",
       "      <th>ShortDurationPrecipitationValue080</th>\n",
       "      <th>ShortDurationPrecipitationValue100</th>\n",
       "      <th>ShortDurationPrecipitationValue120</th>\n",
       "      <th>ShortDurationPrecipitationValue150</th>\n",
       "      <th>ShortDurationPrecipitationValue180</th>\n",
       "      <th>Sunrise</th>\n",
       "      <th>Sunset</th>\n",
       "      <th>TStorms</th>\n",
       "      <th>WindEquipmentChangeDate</th>\n",
       "    </tr>\n",
       "  </thead>\n",
       "  <tbody>\n",
       "    <tr>\n",
       "      <th>0</th>\n",
       "      <td>72797624217</td>\n",
       "      <td>2020-01-01T00:14:00</td>\n",
       "      <td>FM-16</td>\n",
       "      <td>7</td>\n",
       "      <td>NaN</td>\n",
       "      <td>NaN</td>\n",
       "      <td>NaN</td>\n",
       "      <td>NaN</td>\n",
       "      <td>NaN</td>\n",
       "      <td>NaN</td>\n",
       "      <td>...</td>\n",
       "      <td>NaN</td>\n",
       "      <td>NaN</td>\n",
       "      <td>NaN</td>\n",
       "      <td>NaN</td>\n",
       "      <td>NaN</td>\n",
       "      <td>NaN</td>\n",
       "      <td>NaN</td>\n",
       "      <td>NaN</td>\n",
       "      <td>NaN</td>\n",
       "      <td>NaN</td>\n",
       "    </tr>\n",
       "    <tr>\n",
       "      <th>1</th>\n",
       "      <td>72797624217</td>\n",
       "      <td>2020-01-01T00:24:00</td>\n",
       "      <td>FM-16</td>\n",
       "      <td>7</td>\n",
       "      <td>NaN</td>\n",
       "      <td>NaN</td>\n",
       "      <td>NaN</td>\n",
       "      <td>NaN</td>\n",
       "      <td>NaN</td>\n",
       "      <td>NaN</td>\n",
       "      <td>...</td>\n",
       "      <td>NaN</td>\n",
       "      <td>NaN</td>\n",
       "      <td>NaN</td>\n",
       "      <td>NaN</td>\n",
       "      <td>NaN</td>\n",
       "      <td>NaN</td>\n",
       "      <td>NaN</td>\n",
       "      <td>NaN</td>\n",
       "      <td>NaN</td>\n",
       "      <td>NaN</td>\n",
       "    </tr>\n",
       "    <tr>\n",
       "      <th>2</th>\n",
       "      <td>72797624217</td>\n",
       "      <td>2020-01-01T00:53:00</td>\n",
       "      <td>FM-15</td>\n",
       "      <td>7</td>\n",
       "      <td>NaN</td>\n",
       "      <td>NaN</td>\n",
       "      <td>NaN</td>\n",
       "      <td>NaN</td>\n",
       "      <td>NaN</td>\n",
       "      <td>NaN</td>\n",
       "      <td>...</td>\n",
       "      <td>NaN</td>\n",
       "      <td>NaN</td>\n",
       "      <td>NaN</td>\n",
       "      <td>NaN</td>\n",
       "      <td>NaN</td>\n",
       "      <td>NaN</td>\n",
       "      <td>NaN</td>\n",
       "      <td>NaN</td>\n",
       "      <td>NaN</td>\n",
       "      <td>NaN</td>\n",
       "    </tr>\n",
       "    <tr>\n",
       "      <th>3</th>\n",
       "      <td>72797624217</td>\n",
       "      <td>2020-01-01T01:53:00</td>\n",
       "      <td>FM-15</td>\n",
       "      <td>7</td>\n",
       "      <td>NaN</td>\n",
       "      <td>NaN</td>\n",
       "      <td>NaN</td>\n",
       "      <td>NaN</td>\n",
       "      <td>NaN</td>\n",
       "      <td>NaN</td>\n",
       "      <td>...</td>\n",
       "      <td>NaN</td>\n",
       "      <td>NaN</td>\n",
       "      <td>NaN</td>\n",
       "      <td>NaN</td>\n",
       "      <td>NaN</td>\n",
       "      <td>NaN</td>\n",
       "      <td>NaN</td>\n",
       "      <td>NaN</td>\n",
       "      <td>NaN</td>\n",
       "      <td>NaN</td>\n",
       "    </tr>\n",
       "    <tr>\n",
       "      <th>4</th>\n",
       "      <td>72797624217</td>\n",
       "      <td>2020-01-01T02:53:00</td>\n",
       "      <td>FM-15</td>\n",
       "      <td>7</td>\n",
       "      <td>NaN</td>\n",
       "      <td>NaN</td>\n",
       "      <td>NaN</td>\n",
       "      <td>NaN</td>\n",
       "      <td>NaN</td>\n",
       "      <td>NaN</td>\n",
       "      <td>...</td>\n",
       "      <td>NaN</td>\n",
       "      <td>NaN</td>\n",
       "      <td>NaN</td>\n",
       "      <td>NaN</td>\n",
       "      <td>NaN</td>\n",
       "      <td>NaN</td>\n",
       "      <td>NaN</td>\n",
       "      <td>NaN</td>\n",
       "      <td>NaN</td>\n",
       "      <td>NaN</td>\n",
       "    </tr>\n",
       "    <tr>\n",
       "      <th>...</th>\n",
       "      <td>...</td>\n",
       "      <td>...</td>\n",
       "      <td>...</td>\n",
       "      <td>...</td>\n",
       "      <td>...</td>\n",
       "      <td>...</td>\n",
       "      <td>...</td>\n",
       "      <td>...</td>\n",
       "      <td>...</td>\n",
       "      <td>...</td>\n",
       "      <td>...</td>\n",
       "      <td>...</td>\n",
       "      <td>...</td>\n",
       "      <td>...</td>\n",
       "      <td>...</td>\n",
       "      <td>...</td>\n",
       "      <td>...</td>\n",
       "      <td>...</td>\n",
       "      <td>...</td>\n",
       "      <td>...</td>\n",
       "      <td>...</td>\n",
       "    </tr>\n",
       "    <tr>\n",
       "      <th>11343</th>\n",
       "      <td>72797624217</td>\n",
       "      <td>2020-12-31T20:53:00</td>\n",
       "      <td>FM-15</td>\n",
       "      <td>4</td>\n",
       "      <td>NaN</td>\n",
       "      <td>NaN</td>\n",
       "      <td>NaN</td>\n",
       "      <td>NaN</td>\n",
       "      <td>NaN</td>\n",
       "      <td>NaN</td>\n",
       "      <td>...</td>\n",
       "      <td>NaN</td>\n",
       "      <td>NaN</td>\n",
       "      <td>NaN</td>\n",
       "      <td>NaN</td>\n",
       "      <td>NaN</td>\n",
       "      <td>NaN</td>\n",
       "      <td>NaN</td>\n",
       "      <td>NaN</td>\n",
       "      <td>NaN</td>\n",
       "      <td>NaN</td>\n",
       "    </tr>\n",
       "    <tr>\n",
       "      <th>11344</th>\n",
       "      <td>72797624217</td>\n",
       "      <td>2020-12-31T21:53:00</td>\n",
       "      <td>FM-15</td>\n",
       "      <td>4</td>\n",
       "      <td>NaN</td>\n",
       "      <td>NaN</td>\n",
       "      <td>NaN</td>\n",
       "      <td>NaN</td>\n",
       "      <td>NaN</td>\n",
       "      <td>NaN</td>\n",
       "      <td>...</td>\n",
       "      <td>NaN</td>\n",
       "      <td>NaN</td>\n",
       "      <td>NaN</td>\n",
       "      <td>NaN</td>\n",
       "      <td>NaN</td>\n",
       "      <td>NaN</td>\n",
       "      <td>NaN</td>\n",
       "      <td>NaN</td>\n",
       "      <td>NaN</td>\n",
       "      <td>NaN</td>\n",
       "    </tr>\n",
       "    <tr>\n",
       "      <th>11345</th>\n",
       "      <td>72797624217</td>\n",
       "      <td>2020-12-31T22:53:00</td>\n",
       "      <td>FM-15</td>\n",
       "      <td>4</td>\n",
       "      <td>NaN</td>\n",
       "      <td>NaN</td>\n",
       "      <td>NaN</td>\n",
       "      <td>NaN</td>\n",
       "      <td>NaN</td>\n",
       "      <td>NaN</td>\n",
       "      <td>...</td>\n",
       "      <td>NaN</td>\n",
       "      <td>NaN</td>\n",
       "      <td>NaN</td>\n",
       "      <td>NaN</td>\n",
       "      <td>NaN</td>\n",
       "      <td>NaN</td>\n",
       "      <td>NaN</td>\n",
       "      <td>NaN</td>\n",
       "      <td>NaN</td>\n",
       "      <td>NaN</td>\n",
       "    </tr>\n",
       "    <tr>\n",
       "      <th>11346</th>\n",
       "      <td>72797624217</td>\n",
       "      <td>2020-12-31T23:53:00</td>\n",
       "      <td>FM-15</td>\n",
       "      <td>4</td>\n",
       "      <td>NaN</td>\n",
       "      <td>NaN</td>\n",
       "      <td>NaN</td>\n",
       "      <td>NaN</td>\n",
       "      <td>NaN</td>\n",
       "      <td>NaN</td>\n",
       "      <td>...</td>\n",
       "      <td>NaN</td>\n",
       "      <td>NaN</td>\n",
       "      <td>NaN</td>\n",
       "      <td>NaN</td>\n",
       "      <td>NaN</td>\n",
       "      <td>NaN</td>\n",
       "      <td>NaN</td>\n",
       "      <td>NaN</td>\n",
       "      <td>NaN</td>\n",
       "      <td>NaN</td>\n",
       "    </tr>\n",
       "    <tr>\n",
       "      <th>11347</th>\n",
       "      <td>72797624217</td>\n",
       "      <td>2020-12-31T23:59:00</td>\n",
       "      <td>SOD</td>\n",
       "      <td>6</td>\n",
       "      <td>NaN</td>\n",
       "      <td>NaN</td>\n",
       "      <td>NaN</td>\n",
       "      <td>NaN</td>\n",
       "      <td>NaN</td>\n",
       "      <td>NaN</td>\n",
       "      <td>...</td>\n",
       "      <td>NaN</td>\n",
       "      <td>NaN</td>\n",
       "      <td>NaN</td>\n",
       "      <td>NaN</td>\n",
       "      <td>NaN</td>\n",
       "      <td>NaN</td>\n",
       "      <td>803.0</td>\n",
       "      <td>1624.0</td>\n",
       "      <td>NaN</td>\n",
       "      <td>NaN</td>\n",
       "    </tr>\n",
       "  </tbody>\n",
       "</table>\n",
       "<p>11348 rows × 124 columns</p>\n",
       "</div>"
      ],
      "text/plain": [
       "           STATION                 DATE REPORT_TYPE  SOURCE  AWND  \\\n",
       "0      72797624217  2020-01-01T00:14:00       FM-16       7   NaN   \n",
       "1      72797624217  2020-01-01T00:24:00       FM-16       7   NaN   \n",
       "2      72797624217  2020-01-01T00:53:00       FM-15       7   NaN   \n",
       "3      72797624217  2020-01-01T01:53:00       FM-15       7   NaN   \n",
       "4      72797624217  2020-01-01T02:53:00       FM-15       7   NaN   \n",
       "...            ...                  ...         ...     ...   ...   \n",
       "11343  72797624217  2020-12-31T20:53:00       FM-15       4   NaN   \n",
       "11344  72797624217  2020-12-31T21:53:00       FM-15       4   NaN   \n",
       "11345  72797624217  2020-12-31T22:53:00       FM-15       4   NaN   \n",
       "11346  72797624217  2020-12-31T23:53:00       FM-15       4   NaN   \n",
       "11347  72797624217  2020-12-31T23:59:00       SOD         6   NaN   \n",
       "\n",
       "       BackupDirection  BackupDistance  BackupDistanceUnit  BackupElements  \\\n",
       "0                  NaN             NaN                 NaN             NaN   \n",
       "1                  NaN             NaN                 NaN             NaN   \n",
       "2                  NaN             NaN                 NaN             NaN   \n",
       "3                  NaN             NaN                 NaN             NaN   \n",
       "4                  NaN             NaN                 NaN             NaN   \n",
       "...                ...             ...                 ...             ...   \n",
       "11343              NaN             NaN                 NaN             NaN   \n",
       "11344              NaN             NaN                 NaN             NaN   \n",
       "11345              NaN             NaN                 NaN             NaN   \n",
       "11346              NaN             NaN                 NaN             NaN   \n",
       "11347              NaN             NaN                 NaN             NaN   \n",
       "\n",
       "       BackupElevation  ...  ShortDurationPrecipitationValue060  \\\n",
       "0                  NaN  ...                                 NaN   \n",
       "1                  NaN  ...                                 NaN   \n",
       "2                  NaN  ...                                 NaN   \n",
       "3                  NaN  ...                                 NaN   \n",
       "4                  NaN  ...                                 NaN   \n",
       "...                ...  ...                                 ...   \n",
       "11343              NaN  ...                                 NaN   \n",
       "11344              NaN  ...                                 NaN   \n",
       "11345              NaN  ...                                 NaN   \n",
       "11346              NaN  ...                                 NaN   \n",
       "11347              NaN  ...                                 NaN   \n",
       "\n",
       "       ShortDurationPrecipitationValue080  ShortDurationPrecipitationValue100  \\\n",
       "0                                     NaN                                 NaN   \n",
       "1                                     NaN                                 NaN   \n",
       "2                                     NaN                                 NaN   \n",
       "3                                     NaN                                 NaN   \n",
       "4                                     NaN                                 NaN   \n",
       "...                                   ...                                 ...   \n",
       "11343                                 NaN                                 NaN   \n",
       "11344                                 NaN                                 NaN   \n",
       "11345                                 NaN                                 NaN   \n",
       "11346                                 NaN                                 NaN   \n",
       "11347                                 NaN                                 NaN   \n",
       "\n",
       "       ShortDurationPrecipitationValue120  ShortDurationPrecipitationValue150  \\\n",
       "0                                     NaN                                 NaN   \n",
       "1                                     NaN                                 NaN   \n",
       "2                                     NaN                                 NaN   \n",
       "3                                     NaN                                 NaN   \n",
       "4                                     NaN                                 NaN   \n",
       "...                                   ...                                 ...   \n",
       "11343                                 NaN                                 NaN   \n",
       "11344                                 NaN                                 NaN   \n",
       "11345                                 NaN                                 NaN   \n",
       "11346                                 NaN                                 NaN   \n",
       "11347                                 NaN                                 NaN   \n",
       "\n",
       "       ShortDurationPrecipitationValue180  Sunrise  Sunset  TStorms  \\\n",
       "0                                     NaN      NaN     NaN      NaN   \n",
       "1                                     NaN      NaN     NaN      NaN   \n",
       "2                                     NaN      NaN     NaN      NaN   \n",
       "3                                     NaN      NaN     NaN      NaN   \n",
       "4                                     NaN      NaN     NaN      NaN   \n",
       "...                                   ...      ...     ...      ...   \n",
       "11343                                 NaN      NaN     NaN      NaN   \n",
       "11344                                 NaN      NaN     NaN      NaN   \n",
       "11345                                 NaN      NaN     NaN      NaN   \n",
       "11346                                 NaN      NaN     NaN      NaN   \n",
       "11347                                 NaN    803.0  1624.0      NaN   \n",
       "\n",
       "      WindEquipmentChangeDate  \n",
       "0                         NaN  \n",
       "1                         NaN  \n",
       "2                         NaN  \n",
       "3                         NaN  \n",
       "4                         NaN  \n",
       "...                       ...  \n",
       "11343                     NaN  \n",
       "11344                     NaN  \n",
       "11345                     NaN  \n",
       "11346                     NaN  \n",
       "11347                     NaN  \n",
       "\n",
       "[11348 rows x 124 columns]"
      ]
     },
     "execution_count": 2,
     "metadata": {},
     "output_type": "execute_result"
    }
   ],
   "source": [
    "bham = pd.read_csv(\"WA_Bellingham.csv\", low_memory = False)\n",
    "bham"
   ]
  },
  {
   "cell_type": "code",
   "execution_count": 3,
   "id": "dc5c2e01",
   "metadata": {
    "scrolled": false
   },
   "outputs": [
    {
     "name": "stdout",
     "output_type": "stream",
     "text": [
      "<class 'pandas.core.frame.DataFrame'>\n",
      "RangeIndex: 11348 entries, 0 to 11347\n",
      "Data columns (total 124 columns):\n",
      " #    Column                                        Dtype  \n",
      "---   ------                                        -----  \n",
      " 0    STATION                                       int64  \n",
      " 1    DATE                                          object \n",
      " 2    REPORT_TYPE                                   object \n",
      " 3    SOURCE                                        int64  \n",
      " 4    AWND                                          float64\n",
      " 5    BackupDirection                               float64\n",
      " 6    BackupDistance                                float64\n",
      " 7    BackupDistanceUnit                            float64\n",
      " 8    BackupElements                                float64\n",
      " 9    BackupElevation                               float64\n",
      " 10   BackupElevationUnit                           float64\n",
      " 11   BackupEquipment                               float64\n",
      " 12   BackupLatitude                                float64\n",
      " 13   BackupLongitude                               float64\n",
      " 14   BackupName                                    float64\n",
      " 15   CDSD                                          float64\n",
      " 16   CLDD                                          float64\n",
      " 17   DSNW                                          float64\n",
      " 18   DailyAverageDewPointTemperature               float64\n",
      " 19   DailyAverageDryBulbTemperature                object \n",
      " 20   DailyAverageRelativeHumidity                  float64\n",
      " 21   DailyAverageSeaLevelPressure                  float64\n",
      " 22   DailyAverageStationPressure                   float64\n",
      " 23   DailyAverageWetBulbTemperature                float64\n",
      " 24   DailyAverageWindSpeed                         float64\n",
      " 25   DailyCoolingDegreeDays                        object \n",
      " 26   DailyDepartureFromNormalAverageTemperature    object \n",
      " 27   DailyHeatingDegreeDays                        object \n",
      " 28   DailyMaximumDryBulbTemperature                float64\n",
      " 29   DailyMinimumDryBulbTemperature                object \n",
      " 30   DailyPeakWindDirection                        object \n",
      " 31   DailyPeakWindSpeed                            object \n",
      " 32   DailyPrecipitation                            object \n",
      " 33   DailySnowDepth                                float64\n",
      " 34   DailySnowfall                                 float64\n",
      " 35   DailySustainedWindDirection                   float64\n",
      " 36   DailySustainedWindSpeed                       float64\n",
      " 37   DailyWeather                                  object \n",
      " 38   HDSD                                          float64\n",
      " 39   HTDD                                          float64\n",
      " 40   HeavyFog                                      float64\n",
      " 41   HourlyAltimeterSetting                        float64\n",
      " 42   HourlyDewPointTemperature                     object \n",
      " 43   HourlyDryBulbTemperature                      object \n",
      " 44   HourlyPrecipitation                           object \n",
      " 45   HourlyPresentWeatherType                      object \n",
      " 46   HourlyPressureChange                          float64\n",
      " 47   HourlyPressureTendency                        float64\n",
      " 48   HourlyRelativeHumidity                        float64\n",
      " 49   HourlySeaLevelPressure                        object \n",
      " 50   HourlySkyConditions                           object \n",
      " 51   HourlyStationPressure                         float64\n",
      " 52   HourlyVisibility                              object \n",
      " 53   HourlyWetBulbTemperature                      float64\n",
      " 54   HourlyWindDirection                           object \n",
      " 55   HourlyWindGustSpeed                           float64\n",
      " 56   HourlyWindSpeed                               float64\n",
      " 57   MonthlyAverageRH                              float64\n",
      " 58   MonthlyDaysWithGT001Precip                    float64\n",
      " 59   MonthlyDaysWithGT010Precip                    float64\n",
      " 60   MonthlyDaysWithGT32Temp                       float64\n",
      " 61   MonthlyDaysWithGT90Temp                       float64\n",
      " 62   MonthlyDaysWithLT0Temp                        float64\n",
      " 63   MonthlyDaysWithLT32Temp                       float64\n",
      " 64   MonthlyDepartureFromNormalAverageTemperature  float64\n",
      " 65   MonthlyDepartureFromNormalCoolingDegreeDays   float64\n",
      " 66   MonthlyDepartureFromNormalHeatingDegreeDays   float64\n",
      " 67   MonthlyDepartureFromNormalMaximumTemperature  float64\n",
      " 68   MonthlyDepartureFromNormalMinimumTemperature  float64\n",
      " 69   MonthlyDepartureFromNormalPrecipitation       float64\n",
      " 70   MonthlyDewpointTemperature                    float64\n",
      " 71   MonthlyGreatestPrecip                         float64\n",
      " 72   MonthlyGreatestPrecipDate                     float64\n",
      " 73   MonthlyGreatestSnowDepth                      float64\n",
      " 74   MonthlyGreatestSnowDepthDate                  float64\n",
      " 75   MonthlyGreatestSnowfall                       float64\n",
      " 76   MonthlyGreatestSnowfallDate                   float64\n",
      " 77   MonthlyMaxSeaLevelPressureValue               float64\n",
      " 78   MonthlyMaxSeaLevelPressureValueDate           float64\n",
      " 79   MonthlyMaxSeaLevelPressureValueTime           float64\n",
      " 80   MonthlyMaximumTemperature                     float64\n",
      " 81   MonthlyMeanTemperature                        float64\n",
      " 82   MonthlyMinSeaLevelPressureValue               float64\n",
      " 83   MonthlyMinSeaLevelPressureValueDate           float64\n",
      " 84   MonthlyMinSeaLevelPressureValueTime           float64\n",
      " 85   MonthlyMinimumTemperature                     float64\n",
      " 86   MonthlySeaLevelPressure                       float64\n",
      " 87   MonthlyStationPressure                        float64\n",
      " 88   MonthlyTotalLiquidPrecipitation               float64\n",
      " 89   MonthlyTotalSnowfall                          float64\n",
      " 90   MonthlyWetBulb                                float64\n",
      " 91   NormalsCoolingDegreeDay                       float64\n",
      " 92   NormalsHeatingDegreeDay                       float64\n",
      " 93   REM                                           object \n",
      " 94   REPORT_TYPE.1                                 object \n",
      " 95   SOURCE.1                                      int64  \n",
      " 96   ShortDurationEndDate005                       float64\n",
      " 97   ShortDurationEndDate010                       float64\n",
      " 98   ShortDurationEndDate015                       float64\n",
      " 99   ShortDurationEndDate020                       float64\n",
      " 100  ShortDurationEndDate030                       float64\n",
      " 101  ShortDurationEndDate045                       float64\n",
      " 102  ShortDurationEndDate060                       float64\n",
      " 103  ShortDurationEndDate080                       float64\n",
      " 104  ShortDurationEndDate100                       float64\n",
      " 105  ShortDurationEndDate120                       float64\n",
      " 106  ShortDurationEndDate150                       float64\n",
      " 107  ShortDurationEndDate180                       float64\n",
      " 108  ShortDurationPrecipitationValue005            float64\n",
      " 109  ShortDurationPrecipitationValue010            float64\n",
      " 110  ShortDurationPrecipitationValue015            float64\n",
      " 111  ShortDurationPrecipitationValue020            float64\n",
      " 112  ShortDurationPrecipitationValue030            float64\n",
      " 113  ShortDurationPrecipitationValue045            float64\n",
      " 114  ShortDurationPrecipitationValue060            float64\n",
      " 115  ShortDurationPrecipitationValue080            float64\n",
      " 116  ShortDurationPrecipitationValue100            float64\n",
      " 117  ShortDurationPrecipitationValue120            float64\n",
      " 118  ShortDurationPrecipitationValue150            float64\n",
      " 119  ShortDurationPrecipitationValue180            float64\n",
      " 120  Sunrise                                       float64\n",
      " 121  Sunset                                        float64\n",
      " 122  TStorms                                       float64\n",
      " 123  WindEquipmentChangeDate                       float64\n",
      "dtypes: float64(100), int64(3), object(21)\n",
      "memory usage: 10.7+ MB\n"
     ]
    }
   ],
   "source": [
    "bham.info(verbose = True)"
   ]
  },
  {
   "cell_type": "markdown",
   "id": "963559f2",
   "metadata": {},
   "source": [
    "First we're going to filter our data to only include daily data. The documentation says the report types for the \"Summary of day report from U.S. ASOS or AWOS station(s)\" should be labeled SOD in the \"REPORT TYPE\" column. Lets check that there is daily data for all 366 days labeled as \"SOD\""
   ]
  },
  {
   "cell_type": "code",
   "execution_count": 4,
   "id": "b5ff6fac",
   "metadata": {},
   "outputs": [
    {
     "data": {
      "text/plain": [
       "FM-15    8768\n",
       "FM-16    2214\n",
       "SOD       366\n",
       "Name: REPORT_TYPE, dtype: int64"
      ]
     },
     "execution_count": 4,
     "metadata": {},
     "output_type": "execute_result"
    }
   ],
   "source": [
    "bham[\"REPORT_TYPE\"].value_counts()"
   ]
  },
  {
   "cell_type": "markdown",
   "id": "a359630d",
   "metadata": {},
   "source": [
    "Yep, all good, lets pull out just those rows."
   ]
  },
  {
   "cell_type": "code",
   "execution_count": 5,
   "id": "e68c9799",
   "metadata": {},
   "outputs": [
    {
     "data": {
      "text/plain": [
       "0        False\n",
       "1        False\n",
       "2        False\n",
       "3        False\n",
       "4        False\n",
       "         ...  \n",
       "11343    False\n",
       "11344    False\n",
       "11345    False\n",
       "11346    False\n",
       "11347     True\n",
       "Name: REPORT_TYPE, Length: 11348, dtype: bool"
      ]
     },
     "execution_count": 5,
     "metadata": {},
     "output_type": "execute_result"
    }
   ],
   "source": [
    "mask = bham[\"REPORT_TYPE\"] == \"SOD  \" #I know the spaces are there from class\n",
    "mask"
   ]
  },
  {
   "cell_type": "code",
   "execution_count": 6,
   "id": "55fcfdad",
   "metadata": {},
   "outputs": [
    {
     "data": {
      "text/html": [
       "<div>\n",
       "<style scoped>\n",
       "    .dataframe tbody tr th:only-of-type {\n",
       "        vertical-align: middle;\n",
       "    }\n",
       "\n",
       "    .dataframe tbody tr th {\n",
       "        vertical-align: top;\n",
       "    }\n",
       "\n",
       "    .dataframe thead th {\n",
       "        text-align: right;\n",
       "    }\n",
       "</style>\n",
       "<table border=\"1\" class=\"dataframe\">\n",
       "  <thead>\n",
       "    <tr style=\"text-align: right;\">\n",
       "      <th></th>\n",
       "      <th>STATION</th>\n",
       "      <th>DATE</th>\n",
       "      <th>REPORT_TYPE</th>\n",
       "      <th>SOURCE</th>\n",
       "      <th>AWND</th>\n",
       "      <th>BackupDirection</th>\n",
       "      <th>BackupDistance</th>\n",
       "      <th>BackupDistanceUnit</th>\n",
       "      <th>BackupElements</th>\n",
       "      <th>BackupElevation</th>\n",
       "      <th>...</th>\n",
       "      <th>ShortDurationPrecipitationValue060</th>\n",
       "      <th>ShortDurationPrecipitationValue080</th>\n",
       "      <th>ShortDurationPrecipitationValue100</th>\n",
       "      <th>ShortDurationPrecipitationValue120</th>\n",
       "      <th>ShortDurationPrecipitationValue150</th>\n",
       "      <th>ShortDurationPrecipitationValue180</th>\n",
       "      <th>Sunrise</th>\n",
       "      <th>Sunset</th>\n",
       "      <th>TStorms</th>\n",
       "      <th>WindEquipmentChangeDate</th>\n",
       "    </tr>\n",
       "  </thead>\n",
       "  <tbody>\n",
       "    <tr>\n",
       "      <th>27</th>\n",
       "      <td>72797624217</td>\n",
       "      <td>2020-01-01T23:59:00</td>\n",
       "      <td>SOD</td>\n",
       "      <td>6</td>\n",
       "      <td>NaN</td>\n",
       "      <td>NaN</td>\n",
       "      <td>NaN</td>\n",
       "      <td>NaN</td>\n",
       "      <td>NaN</td>\n",
       "      <td>NaN</td>\n",
       "      <td>...</td>\n",
       "      <td>NaN</td>\n",
       "      <td>NaN</td>\n",
       "      <td>NaN</td>\n",
       "      <td>NaN</td>\n",
       "      <td>NaN</td>\n",
       "      <td>NaN</td>\n",
       "      <td>804.0</td>\n",
       "      <td>1624.0</td>\n",
       "      <td>NaN</td>\n",
       "      <td>NaN</td>\n",
       "    </tr>\n",
       "    <tr>\n",
       "      <th>58</th>\n",
       "      <td>72797624217</td>\n",
       "      <td>2020-01-02T23:59:00</td>\n",
       "      <td>SOD</td>\n",
       "      <td>6</td>\n",
       "      <td>NaN</td>\n",
       "      <td>NaN</td>\n",
       "      <td>NaN</td>\n",
       "      <td>NaN</td>\n",
       "      <td>NaN</td>\n",
       "      <td>NaN</td>\n",
       "      <td>...</td>\n",
       "      <td>NaN</td>\n",
       "      <td>NaN</td>\n",
       "      <td>NaN</td>\n",
       "      <td>NaN</td>\n",
       "      <td>NaN</td>\n",
       "      <td>NaN</td>\n",
       "      <td>803.0</td>\n",
       "      <td>1625.0</td>\n",
       "      <td>NaN</td>\n",
       "      <td>NaN</td>\n",
       "    </tr>\n",
       "    <tr>\n",
       "      <th>86</th>\n",
       "      <td>72797624217</td>\n",
       "      <td>2020-01-03T23:59:00</td>\n",
       "      <td>SOD</td>\n",
       "      <td>6</td>\n",
       "      <td>NaN</td>\n",
       "      <td>NaN</td>\n",
       "      <td>NaN</td>\n",
       "      <td>NaN</td>\n",
       "      <td>NaN</td>\n",
       "      <td>NaN</td>\n",
       "      <td>...</td>\n",
       "      <td>NaN</td>\n",
       "      <td>NaN</td>\n",
       "      <td>NaN</td>\n",
       "      <td>NaN</td>\n",
       "      <td>NaN</td>\n",
       "      <td>NaN</td>\n",
       "      <td>803.0</td>\n",
       "      <td>1627.0</td>\n",
       "      <td>NaN</td>\n",
       "      <td>NaN</td>\n",
       "    </tr>\n",
       "    <tr>\n",
       "      <th>115</th>\n",
       "      <td>72797624217</td>\n",
       "      <td>2020-01-04T23:59:00</td>\n",
       "      <td>SOD</td>\n",
       "      <td>6</td>\n",
       "      <td>NaN</td>\n",
       "      <td>NaN</td>\n",
       "      <td>NaN</td>\n",
       "      <td>NaN</td>\n",
       "      <td>NaN</td>\n",
       "      <td>NaN</td>\n",
       "      <td>...</td>\n",
       "      <td>NaN</td>\n",
       "      <td>NaN</td>\n",
       "      <td>NaN</td>\n",
       "      <td>NaN</td>\n",
       "      <td>NaN</td>\n",
       "      <td>NaN</td>\n",
       "      <td>803.0</td>\n",
       "      <td>1628.0</td>\n",
       "      <td>NaN</td>\n",
       "      <td>NaN</td>\n",
       "    </tr>\n",
       "    <tr>\n",
       "      <th>147</th>\n",
       "      <td>72797624217</td>\n",
       "      <td>2020-01-05T23:59:00</td>\n",
       "      <td>SOD</td>\n",
       "      <td>6</td>\n",
       "      <td>NaN</td>\n",
       "      <td>NaN</td>\n",
       "      <td>NaN</td>\n",
       "      <td>NaN</td>\n",
       "      <td>NaN</td>\n",
       "      <td>NaN</td>\n",
       "      <td>...</td>\n",
       "      <td>NaN</td>\n",
       "      <td>NaN</td>\n",
       "      <td>NaN</td>\n",
       "      <td>NaN</td>\n",
       "      <td>NaN</td>\n",
       "      <td>NaN</td>\n",
       "      <td>803.0</td>\n",
       "      <td>1629.0</td>\n",
       "      <td>NaN</td>\n",
       "      <td>NaN</td>\n",
       "    </tr>\n",
       "    <tr>\n",
       "      <th>...</th>\n",
       "      <td>...</td>\n",
       "      <td>...</td>\n",
       "      <td>...</td>\n",
       "      <td>...</td>\n",
       "      <td>...</td>\n",
       "      <td>...</td>\n",
       "      <td>...</td>\n",
       "      <td>...</td>\n",
       "      <td>...</td>\n",
       "      <td>...</td>\n",
       "      <td>...</td>\n",
       "      <td>...</td>\n",
       "      <td>...</td>\n",
       "      <td>...</td>\n",
       "      <td>...</td>\n",
       "      <td>...</td>\n",
       "      <td>...</td>\n",
       "      <td>...</td>\n",
       "      <td>...</td>\n",
       "      <td>...</td>\n",
       "      <td>...</td>\n",
       "    </tr>\n",
       "    <tr>\n",
       "      <th>11188</th>\n",
       "      <td>72797624217</td>\n",
       "      <td>2020-12-27T23:59:00</td>\n",
       "      <td>SOD</td>\n",
       "      <td>6</td>\n",
       "      <td>NaN</td>\n",
       "      <td>NaN</td>\n",
       "      <td>NaN</td>\n",
       "      <td>NaN</td>\n",
       "      <td>NaN</td>\n",
       "      <td>NaN</td>\n",
       "      <td>...</td>\n",
       "      <td>NaN</td>\n",
       "      <td>NaN</td>\n",
       "      <td>NaN</td>\n",
       "      <td>NaN</td>\n",
       "      <td>NaN</td>\n",
       "      <td>NaN</td>\n",
       "      <td>803.0</td>\n",
       "      <td>1621.0</td>\n",
       "      <td>NaN</td>\n",
       "      <td>NaN</td>\n",
       "    </tr>\n",
       "    <tr>\n",
       "      <th>11236</th>\n",
       "      <td>72797624217</td>\n",
       "      <td>2020-12-28T23:59:00</td>\n",
       "      <td>SOD</td>\n",
       "      <td>6</td>\n",
       "      <td>NaN</td>\n",
       "      <td>NaN</td>\n",
       "      <td>NaN</td>\n",
       "      <td>NaN</td>\n",
       "      <td>NaN</td>\n",
       "      <td>NaN</td>\n",
       "      <td>...</td>\n",
       "      <td>NaN</td>\n",
       "      <td>NaN</td>\n",
       "      <td>NaN</td>\n",
       "      <td>NaN</td>\n",
       "      <td>NaN</td>\n",
       "      <td>NaN</td>\n",
       "      <td>803.0</td>\n",
       "      <td>1621.0</td>\n",
       "      <td>NaN</td>\n",
       "      <td>NaN</td>\n",
       "    </tr>\n",
       "    <tr>\n",
       "      <th>11275</th>\n",
       "      <td>72797624217</td>\n",
       "      <td>2020-12-29T23:59:00</td>\n",
       "      <td>SOD</td>\n",
       "      <td>6</td>\n",
       "      <td>NaN</td>\n",
       "      <td>NaN</td>\n",
       "      <td>NaN</td>\n",
       "      <td>NaN</td>\n",
       "      <td>NaN</td>\n",
       "      <td>NaN</td>\n",
       "      <td>...</td>\n",
       "      <td>NaN</td>\n",
       "      <td>NaN</td>\n",
       "      <td>NaN</td>\n",
       "      <td>NaN</td>\n",
       "      <td>NaN</td>\n",
       "      <td>NaN</td>\n",
       "      <td>803.0</td>\n",
       "      <td>1622.0</td>\n",
       "      <td>NaN</td>\n",
       "      <td>NaN</td>\n",
       "    </tr>\n",
       "    <tr>\n",
       "      <th>11304</th>\n",
       "      <td>72797624217</td>\n",
       "      <td>2020-12-30T23:59:00</td>\n",
       "      <td>SOD</td>\n",
       "      <td>6</td>\n",
       "      <td>NaN</td>\n",
       "      <td>NaN</td>\n",
       "      <td>NaN</td>\n",
       "      <td>NaN</td>\n",
       "      <td>NaN</td>\n",
       "      <td>NaN</td>\n",
       "      <td>...</td>\n",
       "      <td>NaN</td>\n",
       "      <td>NaN</td>\n",
       "      <td>NaN</td>\n",
       "      <td>NaN</td>\n",
       "      <td>NaN</td>\n",
       "      <td>NaN</td>\n",
       "      <td>803.0</td>\n",
       "      <td>1623.0</td>\n",
       "      <td>NaN</td>\n",
       "      <td>NaN</td>\n",
       "    </tr>\n",
       "    <tr>\n",
       "      <th>11347</th>\n",
       "      <td>72797624217</td>\n",
       "      <td>2020-12-31T23:59:00</td>\n",
       "      <td>SOD</td>\n",
       "      <td>6</td>\n",
       "      <td>NaN</td>\n",
       "      <td>NaN</td>\n",
       "      <td>NaN</td>\n",
       "      <td>NaN</td>\n",
       "      <td>NaN</td>\n",
       "      <td>NaN</td>\n",
       "      <td>...</td>\n",
       "      <td>NaN</td>\n",
       "      <td>NaN</td>\n",
       "      <td>NaN</td>\n",
       "      <td>NaN</td>\n",
       "      <td>NaN</td>\n",
       "      <td>NaN</td>\n",
       "      <td>803.0</td>\n",
       "      <td>1624.0</td>\n",
       "      <td>NaN</td>\n",
       "      <td>NaN</td>\n",
       "    </tr>\n",
       "  </tbody>\n",
       "</table>\n",
       "<p>366 rows × 124 columns</p>\n",
       "</div>"
      ],
      "text/plain": [
       "           STATION                 DATE REPORT_TYPE  SOURCE  AWND  \\\n",
       "27     72797624217  2020-01-01T23:59:00       SOD         6   NaN   \n",
       "58     72797624217  2020-01-02T23:59:00       SOD         6   NaN   \n",
       "86     72797624217  2020-01-03T23:59:00       SOD         6   NaN   \n",
       "115    72797624217  2020-01-04T23:59:00       SOD         6   NaN   \n",
       "147    72797624217  2020-01-05T23:59:00       SOD         6   NaN   \n",
       "...            ...                  ...         ...     ...   ...   \n",
       "11188  72797624217  2020-12-27T23:59:00       SOD         6   NaN   \n",
       "11236  72797624217  2020-12-28T23:59:00       SOD         6   NaN   \n",
       "11275  72797624217  2020-12-29T23:59:00       SOD         6   NaN   \n",
       "11304  72797624217  2020-12-30T23:59:00       SOD         6   NaN   \n",
       "11347  72797624217  2020-12-31T23:59:00       SOD         6   NaN   \n",
       "\n",
       "       BackupDirection  BackupDistance  BackupDistanceUnit  BackupElements  \\\n",
       "27                 NaN             NaN                 NaN             NaN   \n",
       "58                 NaN             NaN                 NaN             NaN   \n",
       "86                 NaN             NaN                 NaN             NaN   \n",
       "115                NaN             NaN                 NaN             NaN   \n",
       "147                NaN             NaN                 NaN             NaN   \n",
       "...                ...             ...                 ...             ...   \n",
       "11188              NaN             NaN                 NaN             NaN   \n",
       "11236              NaN             NaN                 NaN             NaN   \n",
       "11275              NaN             NaN                 NaN             NaN   \n",
       "11304              NaN             NaN                 NaN             NaN   \n",
       "11347              NaN             NaN                 NaN             NaN   \n",
       "\n",
       "       BackupElevation  ...  ShortDurationPrecipitationValue060  \\\n",
       "27                 NaN  ...                                 NaN   \n",
       "58                 NaN  ...                                 NaN   \n",
       "86                 NaN  ...                                 NaN   \n",
       "115                NaN  ...                                 NaN   \n",
       "147                NaN  ...                                 NaN   \n",
       "...                ...  ...                                 ...   \n",
       "11188              NaN  ...                                 NaN   \n",
       "11236              NaN  ...                                 NaN   \n",
       "11275              NaN  ...                                 NaN   \n",
       "11304              NaN  ...                                 NaN   \n",
       "11347              NaN  ...                                 NaN   \n",
       "\n",
       "       ShortDurationPrecipitationValue080  ShortDurationPrecipitationValue100  \\\n",
       "27                                    NaN                                 NaN   \n",
       "58                                    NaN                                 NaN   \n",
       "86                                    NaN                                 NaN   \n",
       "115                                   NaN                                 NaN   \n",
       "147                                   NaN                                 NaN   \n",
       "...                                   ...                                 ...   \n",
       "11188                                 NaN                                 NaN   \n",
       "11236                                 NaN                                 NaN   \n",
       "11275                                 NaN                                 NaN   \n",
       "11304                                 NaN                                 NaN   \n",
       "11347                                 NaN                                 NaN   \n",
       "\n",
       "       ShortDurationPrecipitationValue120  ShortDurationPrecipitationValue150  \\\n",
       "27                                    NaN                                 NaN   \n",
       "58                                    NaN                                 NaN   \n",
       "86                                    NaN                                 NaN   \n",
       "115                                   NaN                                 NaN   \n",
       "147                                   NaN                                 NaN   \n",
       "...                                   ...                                 ...   \n",
       "11188                                 NaN                                 NaN   \n",
       "11236                                 NaN                                 NaN   \n",
       "11275                                 NaN                                 NaN   \n",
       "11304                                 NaN                                 NaN   \n",
       "11347                                 NaN                                 NaN   \n",
       "\n",
       "       ShortDurationPrecipitationValue180  Sunrise  Sunset  TStorms  \\\n",
       "27                                    NaN    804.0  1624.0      NaN   \n",
       "58                                    NaN    803.0  1625.0      NaN   \n",
       "86                                    NaN    803.0  1627.0      NaN   \n",
       "115                                   NaN    803.0  1628.0      NaN   \n",
       "147                                   NaN    803.0  1629.0      NaN   \n",
       "...                                   ...      ...     ...      ...   \n",
       "11188                                 NaN    803.0  1621.0      NaN   \n",
       "11236                                 NaN    803.0  1621.0      NaN   \n",
       "11275                                 NaN    803.0  1622.0      NaN   \n",
       "11304                                 NaN    803.0  1623.0      NaN   \n",
       "11347                                 NaN    803.0  1624.0      NaN   \n",
       "\n",
       "      WindEquipmentChangeDate  \n",
       "27                        NaN  \n",
       "58                        NaN  \n",
       "86                        NaN  \n",
       "115                       NaN  \n",
       "147                       NaN  \n",
       "...                       ...  \n",
       "11188                     NaN  \n",
       "11236                     NaN  \n",
       "11275                     NaN  \n",
       "11304                     NaN  \n",
       "11347                     NaN  \n",
       "\n",
       "[366 rows x 124 columns]"
      ]
     },
     "execution_count": 6,
     "metadata": {},
     "output_type": "execute_result"
    }
   ],
   "source": [
    "soddata = bham[mask]\n",
    "soddata"
   ]
  },
  {
   "cell_type": "markdown",
   "id": "de096b51",
   "metadata": {},
   "source": [
    "Now lets pull out just the columns with daily data"
   ]
  },
  {
   "cell_type": "code",
   "execution_count": 7,
   "id": "98cbdbfb",
   "metadata": {
    "scrolled": false
   },
   "outputs": [
    {
     "data": {
      "text/html": [
       "<div>\n",
       "<style scoped>\n",
       "    .dataframe tbody tr th:only-of-type {\n",
       "        vertical-align: middle;\n",
       "    }\n",
       "\n",
       "    .dataframe tbody tr th {\n",
       "        vertical-align: top;\n",
       "    }\n",
       "\n",
       "    .dataframe thead th {\n",
       "        text-align: right;\n",
       "    }\n",
       "</style>\n",
       "<table border=\"1\" class=\"dataframe\">\n",
       "  <thead>\n",
       "    <tr style=\"text-align: right;\">\n",
       "      <th></th>\n",
       "      <th>DailyAverageDewPointTemperature</th>\n",
       "      <th>DailyAverageDryBulbTemperature</th>\n",
       "      <th>DailyAverageRelativeHumidity</th>\n",
       "      <th>DailyAverageSeaLevelPressure</th>\n",
       "      <th>DailyAverageStationPressure</th>\n",
       "      <th>DailyAverageWetBulbTemperature</th>\n",
       "      <th>DailyAverageWindSpeed</th>\n",
       "      <th>DailyCoolingDegreeDays</th>\n",
       "      <th>DailyDepartureFromNormalAverageTemperature</th>\n",
       "      <th>DailyHeatingDegreeDays</th>\n",
       "      <th>DailyMaximumDryBulbTemperature</th>\n",
       "      <th>DailyMinimumDryBulbTemperature</th>\n",
       "      <th>DailyPeakWindDirection</th>\n",
       "      <th>DailyPeakWindSpeed</th>\n",
       "      <th>DailyPrecipitation</th>\n",
       "      <th>DailySnowDepth</th>\n",
       "      <th>DailySnowfall</th>\n",
       "      <th>DailySustainedWindDirection</th>\n",
       "      <th>DailySustainedWindSpeed</th>\n",
       "      <th>DailyWeather</th>\n",
       "    </tr>\n",
       "  </thead>\n",
       "  <tbody>\n",
       "    <tr>\n",
       "      <th>27</th>\n",
       "      <td>NaN</td>\n",
       "      <td>49</td>\n",
       "      <td>NaN</td>\n",
       "      <td>NaN</td>\n",
       "      <td>29.60</td>\n",
       "      <td>NaN</td>\n",
       "      <td>8.0</td>\n",
       "      <td>0</td>\n",
       "      <td>11.0</td>\n",
       "      <td>16</td>\n",
       "      <td>53.0</td>\n",
       "      <td>44</td>\n",
       "      <td>280</td>\n",
       "      <td>22</td>\n",
       "      <td>T</td>\n",
       "      <td>0.0</td>\n",
       "      <td>0.0</td>\n",
       "      <td>290.0</td>\n",
       "      <td>14.0</td>\n",
       "      <td>NaN</td>\n",
       "    </tr>\n",
       "    <tr>\n",
       "      <th>58</th>\n",
       "      <td>NaN</td>\n",
       "      <td>44</td>\n",
       "      <td>NaN</td>\n",
       "      <td>NaN</td>\n",
       "      <td>29.85</td>\n",
       "      <td>NaN</td>\n",
       "      <td>7.5</td>\n",
       "      <td>0</td>\n",
       "      <td>6.0</td>\n",
       "      <td>21</td>\n",
       "      <td>50.0</td>\n",
       "      <td>38</td>\n",
       "      <td>160</td>\n",
       "      <td>40</td>\n",
       "      <td>0.20</td>\n",
       "      <td>0.0</td>\n",
       "      <td>0.0</td>\n",
       "      <td>160.0</td>\n",
       "      <td>26.0</td>\n",
       "      <td>RA BR</td>\n",
       "    </tr>\n",
       "    <tr>\n",
       "      <th>86</th>\n",
       "      <td>NaN</td>\n",
       "      <td>55</td>\n",
       "      <td>NaN</td>\n",
       "      <td>NaN</td>\n",
       "      <td>29.59</td>\n",
       "      <td>NaN</td>\n",
       "      <td>21.4</td>\n",
       "      <td>0</td>\n",
       "      <td>16.9</td>\n",
       "      <td>10</td>\n",
       "      <td>61.0</td>\n",
       "      <td>48</td>\n",
       "      <td>160</td>\n",
       "      <td>54</td>\n",
       "      <td>0.10</td>\n",
       "      <td>0.0</td>\n",
       "      <td>0.0</td>\n",
       "      <td>170.0</td>\n",
       "      <td>36.0</td>\n",
       "      <td>RA</td>\n",
       "    </tr>\n",
       "    <tr>\n",
       "      <th>115</th>\n",
       "      <td>NaN</td>\n",
       "      <td>46</td>\n",
       "      <td>NaN</td>\n",
       "      <td>NaN</td>\n",
       "      <td>29.99</td>\n",
       "      <td>NaN</td>\n",
       "      <td>10.9</td>\n",
       "      <td>0</td>\n",
       "      <td>7.8</td>\n",
       "      <td>19</td>\n",
       "      <td>48.0</td>\n",
       "      <td>43</td>\n",
       "      <td>160</td>\n",
       "      <td>29</td>\n",
       "      <td>0.01</td>\n",
       "      <td>0.0</td>\n",
       "      <td>0.0</td>\n",
       "      <td>150.0</td>\n",
       "      <td>22.0</td>\n",
       "      <td>RA</td>\n",
       "    </tr>\n",
       "    <tr>\n",
       "      <th>147</th>\n",
       "      <td>NaN</td>\n",
       "      <td>45</td>\n",
       "      <td>NaN</td>\n",
       "      <td>NaN</td>\n",
       "      <td>30.01</td>\n",
       "      <td>NaN</td>\n",
       "      <td>13.0</td>\n",
       "      <td>0</td>\n",
       "      <td>6.7</td>\n",
       "      <td>20</td>\n",
       "      <td>49.0</td>\n",
       "      <td>41</td>\n",
       "      <td>160</td>\n",
       "      <td>50</td>\n",
       "      <td>0.16</td>\n",
       "      <td>0.0</td>\n",
       "      <td>0.0</td>\n",
       "      <td>160.0</td>\n",
       "      <td>35.0</td>\n",
       "      <td>RA</td>\n",
       "    </tr>\n",
       "    <tr>\n",
       "      <th>...</th>\n",
       "      <td>...</td>\n",
       "      <td>...</td>\n",
       "      <td>...</td>\n",
       "      <td>...</td>\n",
       "      <td>...</td>\n",
       "      <td>...</td>\n",
       "      <td>...</td>\n",
       "      <td>...</td>\n",
       "      <td>...</td>\n",
       "      <td>...</td>\n",
       "      <td>...</td>\n",
       "      <td>...</td>\n",
       "      <td>...</td>\n",
       "      <td>...</td>\n",
       "      <td>...</td>\n",
       "      <td>...</td>\n",
       "      <td>...</td>\n",
       "      <td>...</td>\n",
       "      <td>...</td>\n",
       "      <td>...</td>\n",
       "    </tr>\n",
       "    <tr>\n",
       "      <th>11188</th>\n",
       "      <td>NaN</td>\n",
       "      <td>44</td>\n",
       "      <td>NaN</td>\n",
       "      <td>NaN</td>\n",
       "      <td>29.91</td>\n",
       "      <td>NaN</td>\n",
       "      <td>6.5</td>\n",
       "      <td>0</td>\n",
       "      <td>6.4</td>\n",
       "      <td>21</td>\n",
       "      <td>48.0</td>\n",
       "      <td>39</td>\n",
       "      <td>180</td>\n",
       "      <td>20</td>\n",
       "      <td>0.13</td>\n",
       "      <td>NaN</td>\n",
       "      <td>NaN</td>\n",
       "      <td>160.0</td>\n",
       "      <td>15.0</td>\n",
       "      <td>RA</td>\n",
       "    </tr>\n",
       "    <tr>\n",
       "      <th>11236</th>\n",
       "      <td>NaN</td>\n",
       "      <td>40</td>\n",
       "      <td>NaN</td>\n",
       "      <td>NaN</td>\n",
       "      <td>29.96</td>\n",
       "      <td>NaN</td>\n",
       "      <td>3.2</td>\n",
       "      <td>0</td>\n",
       "      <td>2.3</td>\n",
       "      <td>25</td>\n",
       "      <td>48.0</td>\n",
       "      <td>31</td>\n",
       "      <td>030</td>\n",
       "      <td>11</td>\n",
       "      <td>0.00</td>\n",
       "      <td>NaN</td>\n",
       "      <td>NaN</td>\n",
       "      <td>30.0</td>\n",
       "      <td>9.0</td>\n",
       "      <td>FG BR</td>\n",
       "    </tr>\n",
       "    <tr>\n",
       "      <th>11275</th>\n",
       "      <td>NaN</td>\n",
       "      <td>37</td>\n",
       "      <td>NaN</td>\n",
       "      <td>NaN</td>\n",
       "      <td>30.06</td>\n",
       "      <td>NaN</td>\n",
       "      <td>2.9</td>\n",
       "      <td>0</td>\n",
       "      <td>-0.8</td>\n",
       "      <td>28</td>\n",
       "      <td>41.0</td>\n",
       "      <td>32</td>\n",
       "      <td>160</td>\n",
       "      <td>14</td>\n",
       "      <td>0.41</td>\n",
       "      <td>NaN</td>\n",
       "      <td>NaN</td>\n",
       "      <td>60.0</td>\n",
       "      <td>10.0</td>\n",
       "      <td>RA FG BR</td>\n",
       "    </tr>\n",
       "    <tr>\n",
       "      <th>11304</th>\n",
       "      <td>NaN</td>\n",
       "      <td>46</td>\n",
       "      <td>NaN</td>\n",
       "      <td>NaN</td>\n",
       "      <td>29.64</td>\n",
       "      <td>NaN</td>\n",
       "      <td>19.4</td>\n",
       "      <td>0</td>\n",
       "      <td>8.2</td>\n",
       "      <td>19</td>\n",
       "      <td>50.0</td>\n",
       "      <td>41</td>\n",
       "      <td>180</td>\n",
       "      <td>48</td>\n",
       "      <td>0.35</td>\n",
       "      <td>NaN</td>\n",
       "      <td>NaN</td>\n",
       "      <td>160.0</td>\n",
       "      <td>36.0</td>\n",
       "      <td>RA</td>\n",
       "    </tr>\n",
       "    <tr>\n",
       "      <th>11347</th>\n",
       "      <td>NaN</td>\n",
       "      <td>46</td>\n",
       "      <td>NaN</td>\n",
       "      <td>NaN</td>\n",
       "      <td>29.74</td>\n",
       "      <td>NaN</td>\n",
       "      <td>6.0</td>\n",
       "      <td>0</td>\n",
       "      <td>8.1</td>\n",
       "      <td>19</td>\n",
       "      <td>50.0</td>\n",
       "      <td>41</td>\n",
       "      <td>160</td>\n",
       "      <td>23</td>\n",
       "      <td>0.40</td>\n",
       "      <td>NaN</td>\n",
       "      <td>NaN</td>\n",
       "      <td>170.0</td>\n",
       "      <td>18.0</td>\n",
       "      <td>RA BR</td>\n",
       "    </tr>\n",
       "  </tbody>\n",
       "</table>\n",
       "<p>366 rows × 20 columns</p>\n",
       "</div>"
      ],
      "text/plain": [
       "       DailyAverageDewPointTemperature DailyAverageDryBulbTemperature  \\\n",
       "27                                 NaN                             49   \n",
       "58                                 NaN                             44   \n",
       "86                                 NaN                             55   \n",
       "115                                NaN                             46   \n",
       "147                                NaN                             45   \n",
       "...                                ...                            ...   \n",
       "11188                              NaN                             44   \n",
       "11236                              NaN                             40   \n",
       "11275                              NaN                             37   \n",
       "11304                              NaN                             46   \n",
       "11347                              NaN                             46   \n",
       "\n",
       "       DailyAverageRelativeHumidity  DailyAverageSeaLevelPressure  \\\n",
       "27                              NaN                           NaN   \n",
       "58                              NaN                           NaN   \n",
       "86                              NaN                           NaN   \n",
       "115                             NaN                           NaN   \n",
       "147                             NaN                           NaN   \n",
       "...                             ...                           ...   \n",
       "11188                           NaN                           NaN   \n",
       "11236                           NaN                           NaN   \n",
       "11275                           NaN                           NaN   \n",
       "11304                           NaN                           NaN   \n",
       "11347                           NaN                           NaN   \n",
       "\n",
       "       DailyAverageStationPressure  DailyAverageWetBulbTemperature  \\\n",
       "27                           29.60                             NaN   \n",
       "58                           29.85                             NaN   \n",
       "86                           29.59                             NaN   \n",
       "115                          29.99                             NaN   \n",
       "147                          30.01                             NaN   \n",
       "...                            ...                             ...   \n",
       "11188                        29.91                             NaN   \n",
       "11236                        29.96                             NaN   \n",
       "11275                        30.06                             NaN   \n",
       "11304                        29.64                             NaN   \n",
       "11347                        29.74                             NaN   \n",
       "\n",
       "       DailyAverageWindSpeed DailyCoolingDegreeDays  \\\n",
       "27                       8.0                      0   \n",
       "58                       7.5                      0   \n",
       "86                      21.4                      0   \n",
       "115                     10.9                      0   \n",
       "147                     13.0                      0   \n",
       "...                      ...                    ...   \n",
       "11188                    6.5                      0   \n",
       "11236                    3.2                      0   \n",
       "11275                    2.9                      0   \n",
       "11304                   19.4                      0   \n",
       "11347                    6.0                      0   \n",
       "\n",
       "      DailyDepartureFromNormalAverageTemperature DailyHeatingDegreeDays  \\\n",
       "27                                          11.0                     16   \n",
       "58                                           6.0                     21   \n",
       "86                                          16.9                     10   \n",
       "115                                          7.8                     19   \n",
       "147                                          6.7                     20   \n",
       "...                                          ...                    ...   \n",
       "11188                                        6.4                     21   \n",
       "11236                                        2.3                     25   \n",
       "11275                                       -0.8                     28   \n",
       "11304                                        8.2                     19   \n",
       "11347                                        8.1                     19   \n",
       "\n",
       "       DailyMaximumDryBulbTemperature DailyMinimumDryBulbTemperature  \\\n",
       "27                               53.0                             44   \n",
       "58                               50.0                             38   \n",
       "86                               61.0                             48   \n",
       "115                              48.0                             43   \n",
       "147                              49.0                             41   \n",
       "...                               ...                            ...   \n",
       "11188                            48.0                             39   \n",
       "11236                            48.0                             31   \n",
       "11275                            41.0                             32   \n",
       "11304                            50.0                             41   \n",
       "11347                            50.0                             41   \n",
       "\n",
       "      DailyPeakWindDirection DailyPeakWindSpeed DailyPrecipitation  \\\n",
       "27                       280                 22                  T   \n",
       "58                       160                 40               0.20   \n",
       "86                       160                 54               0.10   \n",
       "115                      160                 29               0.01   \n",
       "147                      160                 50               0.16   \n",
       "...                      ...                ...                ...   \n",
       "11188                    180                 20               0.13   \n",
       "11236                    030                 11               0.00   \n",
       "11275                    160                 14               0.41   \n",
       "11304                    180                 48               0.35   \n",
       "11347                    160                 23               0.40   \n",
       "\n",
       "       DailySnowDepth  DailySnowfall  DailySustainedWindDirection  \\\n",
       "27                0.0            0.0                        290.0   \n",
       "58                0.0            0.0                        160.0   \n",
       "86                0.0            0.0                        170.0   \n",
       "115               0.0            0.0                        150.0   \n",
       "147               0.0            0.0                        160.0   \n",
       "...               ...            ...                          ...   \n",
       "11188             NaN            NaN                        160.0   \n",
       "11236             NaN            NaN                         30.0   \n",
       "11275             NaN            NaN                         60.0   \n",
       "11304             NaN            NaN                        160.0   \n",
       "11347             NaN            NaN                        170.0   \n",
       "\n",
       "       DailySustainedWindSpeed DailyWeather  \n",
       "27                        14.0          NaN  \n",
       "58                        26.0        RA BR  \n",
       "86                        36.0           RA  \n",
       "115                       22.0           RA  \n",
       "147                       35.0           RA  \n",
       "...                        ...          ...  \n",
       "11188                     15.0           RA  \n",
       "11236                      9.0        FG BR  \n",
       "11275                     10.0     RA FG BR  \n",
       "11304                     36.0           RA  \n",
       "11347                     18.0        RA BR  \n",
       "\n",
       "[366 rows x 20 columns]"
      ]
     },
     "execution_count": 7,
     "metadata": {},
     "output_type": "execute_result"
    }
   ],
   "source": [
    "dayframe = soddata.iloc[:, 18:38] #we know the indexes from the .info() method earlier\n",
    "dayframe"
   ]
  },
  {
   "cell_type": "markdown",
   "id": "ac74abcb",
   "metadata": {},
   "source": [
    "Crap, it looks like a bunch of the rows are just NaNs."
   ]
  },
  {
   "cell_type": "code",
   "execution_count": 8,
   "id": "1af1a3eb",
   "metadata": {},
   "outputs": [
    {
     "name": "stdout",
     "output_type": "stream",
     "text": [
      "<class 'pandas.core.frame.DataFrame'>\n",
      "Int64Index: 366 entries, 27 to 11347\n",
      "Data columns (total 20 columns):\n",
      " #   Column                                      Non-Null Count  Dtype  \n",
      "---  ------                                      --------------  -----  \n",
      " 0   DailyAverageDewPointTemperature             0 non-null      float64\n",
      " 1   DailyAverageDryBulbTemperature              366 non-null    object \n",
      " 2   DailyAverageRelativeHumidity                0 non-null      float64\n",
      " 3   DailyAverageSeaLevelPressure                0 non-null      float64\n",
      " 4   DailyAverageStationPressure                 351 non-null    float64\n",
      " 5   DailyAverageWetBulbTemperature              0 non-null      float64\n",
      " 6   DailyAverageWindSpeed                       366 non-null    float64\n",
      " 7   DailyCoolingDegreeDays                      366 non-null    object \n",
      " 8   DailyDepartureFromNormalAverageTemperature  366 non-null    object \n",
      " 9   DailyHeatingDegreeDays                      366 non-null    object \n",
      " 10  DailyMaximumDryBulbTemperature              366 non-null    float64\n",
      " 11  DailyMinimumDryBulbTemperature              366 non-null    object \n",
      " 12  DailyPeakWindDirection                      366 non-null    object \n",
      " 13  DailyPeakWindSpeed                          366 non-null    object \n",
      " 14  DailyPrecipitation                          366 non-null    object \n",
      " 15  DailySnowDepth                              328 non-null    float64\n",
      " 16  DailySnowfall                               324 non-null    float64\n",
      " 17  DailySustainedWindDirection                 366 non-null    float64\n",
      " 18  DailySustainedWindSpeed                     366 non-null    float64\n",
      " 19  DailyWeather                                255 non-null    object \n",
      "dtypes: float64(11), object(9)\n",
      "memory usage: 60.0+ KB\n"
     ]
    }
   ],
   "source": [
    "dayframe.info()"
   ]
  },
  {
   "cell_type": "markdown",
   "id": "1641b6e5",
   "metadata": {},
   "source": [
    "So some columns just don't have data for Bellingham. \"DailyAverageDewPointTemperature\", \"DailyAverageRelativeHumidity\", \"DailyAverageSeaLevelPressure\" and \"DailyAverageWetBulbTemperature\" are just all NaNs, so lets drop those."
   ]
  },
  {
   "cell_type": "code",
   "execution_count": 9,
   "id": "b9aab415",
   "metadata": {},
   "outputs": [],
   "source": [
    "dayframe.drop([\"DailyAverageDewPointTemperature\", \"DailyAverageRelativeHumidity\", \"DailyAverageSeaLevelPressure\", \n",
    "               \"DailyAverageWetBulbTemperature\"], axis = \"columns\", inplace = True)"
   ]
  },
  {
   "cell_type": "code",
   "execution_count": 10,
   "id": "44a1c386",
   "metadata": {},
   "outputs": [
    {
     "name": "stdout",
     "output_type": "stream",
     "text": [
      "<class 'pandas.core.frame.DataFrame'>\n",
      "Int64Index: 366 entries, 27 to 11347\n",
      "Data columns (total 16 columns):\n",
      " #   Column                                      Non-Null Count  Dtype  \n",
      "---  ------                                      --------------  -----  \n",
      " 0   DailyAverageDryBulbTemperature              366 non-null    object \n",
      " 1   DailyAverageStationPressure                 351 non-null    float64\n",
      " 2   DailyAverageWindSpeed                       366 non-null    float64\n",
      " 3   DailyCoolingDegreeDays                      366 non-null    object \n",
      " 4   DailyDepartureFromNormalAverageTemperature  366 non-null    object \n",
      " 5   DailyHeatingDegreeDays                      366 non-null    object \n",
      " 6   DailyMaximumDryBulbTemperature              366 non-null    float64\n",
      " 7   DailyMinimumDryBulbTemperature              366 non-null    object \n",
      " 8   DailyPeakWindDirection                      366 non-null    object \n",
      " 9   DailyPeakWindSpeed                          366 non-null    object \n",
      " 10  DailyPrecipitation                          366 non-null    object \n",
      " 11  DailySnowDepth                              328 non-null    float64\n",
      " 12  DailySnowfall                               324 non-null    float64\n",
      " 13  DailySustainedWindDirection                 366 non-null    float64\n",
      " 14  DailySustainedWindSpeed                     366 non-null    float64\n",
      " 15  DailyWeather                                255 non-null    object \n",
      "dtypes: float64(7), object(9)\n",
      "memory usage: 48.6+ KB\n"
     ]
    }
   ],
   "source": [
    "dayframe.info()"
   ]
  },
  {
   "cell_type": "markdown",
   "id": "67311ba3",
   "metadata": {},
   "source": [
    "Alright now we're going to go through the painful process of figuring out which columns we can use. To be used, a column's data must be continuous, or if categorical we must have someway to make it make sense when correlated with hourly precipitation."
   ]
  },
  {
   "cell_type": "code",
   "execution_count": 11,
   "id": "ce7d6c2c",
   "metadata": {
    "scrolled": true
   },
   "outputs": [
    {
     "data": {
      "text/plain": [
       "44     22\n",
       "41     18\n",
       "62     17\n",
       "55     16\n",
       "60     15\n",
       "45     15\n",
       "53     13\n",
       "63     13\n",
       "61     13\n",
       "64     13\n",
       "56     12\n",
       "52     11\n",
       "58     11\n",
       "57     11\n",
       "42     10\n",
       "59     10\n",
       "47     10\n",
       "40     10\n",
       "46     10\n",
       "49      9\n",
       "39      9\n",
       "38      9\n",
       "48      9\n",
       "43      8\n",
       "66      7\n",
       "67      7\n",
       "65      7\n",
       "51      6\n",
       "68      5\n",
       "37      5\n",
       "69      4\n",
       "50      4\n",
       "36      3\n",
       "72      3\n",
       "32      3\n",
       "54      3\n",
       "30      2\n",
       "35      2\n",
       "33      2\n",
       "18      1\n",
       "70      1\n",
       "44s     1\n",
       "34      1\n",
       "24      1\n",
       "43s     1\n",
       "47s     1\n",
       "71      1\n",
       "21      1\n",
       "Name: DailyAverageDryBulbTemperature, dtype: int64"
      ]
     },
     "execution_count": 11,
     "metadata": {},
     "output_type": "execute_result"
    }
   ],
   "source": [
    "dayframe[\"DailyAverageDryBulbTemperature\"].value_counts()"
   ]
  },
  {
   "cell_type": "markdown",
   "id": "5e7dee84",
   "metadata": {},
   "source": [
    "For some reason there are s's at the end of a bunch of these values."
   ]
  },
  {
   "cell_type": "code",
   "execution_count": 12,
   "id": "9495eac4",
   "metadata": {
    "scrolled": true
   },
   "outputs": [
    {
     "data": {
      "text/plain": [
       "27       49.0\n",
       "58       44.0\n",
       "86       55.0\n",
       "115      46.0\n",
       "147      45.0\n",
       "         ... \n",
       "11188    44.0\n",
       "11236    40.0\n",
       "11275    37.0\n",
       "11304    46.0\n",
       "11347    46.0\n",
       "Name: DailyAverageDryBulbTemperature, Length: 366, dtype: float64"
      ]
     },
     "execution_count": 12,
     "metadata": {},
     "output_type": "execute_result"
    }
   ],
   "source": [
    "dayframe[\"DailyAverageDryBulbTemperature\"] = dayframe[\"DailyAverageDryBulbTemperature\"].str.strip(\"s\").astype(float)\n",
    "dayframe[\"DailyAverageDryBulbTemperature\"]"
   ]
  },
  {
   "cell_type": "markdown",
   "id": "1ff2e782",
   "metadata": {},
   "source": [
    "Moving on to DailyCoolingDegreeDays"
   ]
  },
  {
   "cell_type": "code",
   "execution_count": 13,
   "id": "b19be6f3",
   "metadata": {},
   "outputs": [
    {
     "data": {
      "text/plain": [
       "0     335\n",
       "1       7\n",
       "2       7\n",
       "3       5\n",
       "4       4\n",
       "7       3\n",
       "0s      3\n",
       "5       1\n",
       "6       1\n",
       "Name: DailyCoolingDegreeDays, dtype: int64"
      ]
     },
     "execution_count": 13,
     "metadata": {},
     "output_type": "execute_result"
    }
   ],
   "source": [
    "dayframe[\"DailyCoolingDegreeDays\"].value_counts()"
   ]
  },
  {
   "cell_type": "code",
   "execution_count": 14,
   "id": "1ca54170",
   "metadata": {},
   "outputs": [
    {
     "data": {
      "text/plain": [
       "27       0.0\n",
       "58       0.0\n",
       "86       0.0\n",
       "115      0.0\n",
       "147      0.0\n",
       "        ... \n",
       "11188    0.0\n",
       "11236    0.0\n",
       "11275    0.0\n",
       "11304    0.0\n",
       "11347    0.0\n",
       "Name: DailyCoolingDegreeDays, Length: 366, dtype: float64"
      ]
     },
     "execution_count": 14,
     "metadata": {},
     "output_type": "execute_result"
    }
   ],
   "source": [
    "dayframe[\"DailyCoolingDegreeDays\"] = dayframe[\"DailyCoolingDegreeDays\"].str.strip(\"s\").astype(float)\n",
    "dayframe[\"DailyCoolingDegreeDays\"]"
   ]
  },
  {
   "cell_type": "markdown",
   "id": "f5a1c5cc",
   "metadata": {},
   "source": [
    "I'm noticing a pattern here. Are all of the columns that aren't floats but should be just have random \"s\"'s at the end of them?"
   ]
  },
  {
   "cell_type": "code",
   "execution_count": 15,
   "id": "06581d9a",
   "metadata": {},
   "outputs": [
    {
     "name": "stdout",
     "output_type": "stream",
     "text": [
      "<class 'pandas.core.frame.DataFrame'>\n",
      "Int64Index: 366 entries, 27 to 11347\n",
      "Data columns (total 16 columns):\n",
      " #   Column                                      Non-Null Count  Dtype  \n",
      "---  ------                                      --------------  -----  \n",
      " 0   DailyAverageDryBulbTemperature              366 non-null    float64\n",
      " 1   DailyAverageStationPressure                 351 non-null    float64\n",
      " 2   DailyAverageWindSpeed                       366 non-null    float64\n",
      " 3   DailyCoolingDegreeDays                      366 non-null    float64\n",
      " 4   DailyDepartureFromNormalAverageTemperature  366 non-null    object \n",
      " 5   DailyHeatingDegreeDays                      366 non-null    object \n",
      " 6   DailyMaximumDryBulbTemperature              366 non-null    float64\n",
      " 7   DailyMinimumDryBulbTemperature              366 non-null    object \n",
      " 8   DailyPeakWindDirection                      366 non-null    object \n",
      " 9   DailyPeakWindSpeed                          366 non-null    object \n",
      " 10  DailyPrecipitation                          366 non-null    object \n",
      " 11  DailySnowDepth                              328 non-null    float64\n",
      " 12  DailySnowfall                               324 non-null    float64\n",
      " 13  DailySustainedWindDirection                 366 non-null    float64\n",
      " 14  DailySustainedWindSpeed                     366 non-null    float64\n",
      " 15  DailyWeather                                255 non-null    object \n",
      "dtypes: float64(9), object(7)\n",
      "memory usage: 48.6+ KB\n"
     ]
    }
   ],
   "source": [
    "dayframe.info()"
   ]
  },
  {
   "cell_type": "code",
   "execution_count": 16,
   "id": "c79cd26e",
   "metadata": {
    "scrolled": true
   },
   "outputs": [
    {
     "data": {
      "text/plain": [
       "3.6      8\n",
       "1.3      6\n",
       "0.8      6\n",
       "1.7      6\n",
       "4.9      5\n",
       "        ..\n",
       "-5.0     1\n",
       "13.9     1\n",
       "-12.0    1\n",
       "8.0      1\n",
       "13.3     1\n",
       "Name: DailyDepartureFromNormalAverageTemperature, Length: 164, dtype: int64"
      ]
     },
     "execution_count": 16,
     "metadata": {},
     "output_type": "execute_result"
    }
   ],
   "source": [
    "dayframe[\"DailyDepartureFromNormalAverageTemperature\"].value_counts()"
   ]
  },
  {
   "cell_type": "code",
   "execution_count": 17,
   "id": "33aff3ce",
   "metadata": {
    "scrolled": false
   },
   "outputs": [
    {
     "data": {
      "text/plain": [
       "0      35\n",
       "21     22\n",
       "24     18\n",
       "3      17\n",
       "10     16\n",
       "5      15\n",
       "20     15\n",
       "4      13\n",
       "2      13\n",
       "12     13\n",
       "1      13\n",
       "9      12\n",
       "7      11\n",
       "13     11\n",
       "8      11\n",
       "19     10\n",
       "23     10\n",
       "18     10\n",
       "6      10\n",
       "25     10\n",
       "16      9\n",
       "26      9\n",
       "17      9\n",
       "27      9\n",
       "22      8\n",
       "14      6\n",
       "28      5\n",
       "15      4\n",
       "11      3\n",
       "33      3\n",
       "29      3\n",
       "35      2\n",
       "32      2\n",
       "30      2\n",
       "47      1\n",
       "21s     1\n",
       "31      1\n",
       "44      1\n",
       "41      1\n",
       "18s     1\n",
       "22s     1\n",
       "Name: DailyHeatingDegreeDays, dtype: int64"
      ]
     },
     "execution_count": 17,
     "metadata": {},
     "output_type": "execute_result"
    }
   ],
   "source": [
    "dayframe[\"DailyHeatingDegreeDays\"].value_counts()"
   ]
  },
  {
   "cell_type": "code",
   "execution_count": 18,
   "id": "25d8203a",
   "metadata": {
    "scrolled": false
   },
   "outputs": [
    {
     "data": {
      "text/plain": [
       "51     18\n",
       "47     17\n",
       "49     16\n",
       "48     16\n",
       "52     16\n",
       "54     15\n",
       "41     14\n",
       "50     14\n",
       "36     13\n",
       "39     12\n",
       "33     12\n",
       "57     12\n",
       "56     12\n",
       "31     11\n",
       "45     11\n",
       "32     11\n",
       "43     10\n",
       "53     10\n",
       "35      9\n",
       "34      9\n",
       "44      9\n",
       "42      8\n",
       "55      8\n",
       "37      8\n",
       "38      8\n",
       "40      7\n",
       "28      7\n",
       "59      6\n",
       "60      5\n",
       "29      5\n",
       "46      5\n",
       "58      5\n",
       "30      5\n",
       "62      3\n",
       "27      3\n",
       "26      3\n",
       "15      3\n",
       "25      2\n",
       "23      2\n",
       "18      1\n",
       "35s     1\n",
       "19      1\n",
       "61      1\n",
       "36s     1\n",
       "40s     1\n",
       "Name: DailyMinimumDryBulbTemperature, dtype: int64"
      ]
     },
     "execution_count": 18,
     "metadata": {},
     "output_type": "execute_result"
    }
   ],
   "source": [
    "dayframe[\"DailyMinimumDryBulbTemperature\"].value_counts()"
   ]
  },
  {
   "cell_type": "code",
   "execution_count": 19,
   "id": "e9066712",
   "metadata": {
    "scrolled": false
   },
   "outputs": [
    {
     "data": {
      "text/plain": [
       "190     51\n",
       "180     49\n",
       "170     45\n",
       "160     38\n",
       "200     20\n",
       "150     18\n",
       "040     16\n",
       "030     14\n",
       "300     14\n",
       "290     10\n",
       "020      8\n",
       "210      8\n",
       "310      8\n",
       "010      7\n",
       "280      7\n",
       "140      6\n",
       "270      5\n",
       "330      4\n",
       "050      3\n",
       "260      3\n",
       "360      3\n",
       "190s     3\n",
       "170s     2\n",
       "060      2\n",
       "220      2\n",
       "160s     2\n",
       "320      2\n",
       "310s     2\n",
       "240      2\n",
       "340      2\n",
       "350      1\n",
       "140s     1\n",
       "040s     1\n",
       "090      1\n",
       "100      1\n",
       "020s     1\n",
       "250      1\n",
       "120      1\n",
       "130      1\n",
       "210s     1\n",
       "Name: DailyPeakWindDirection, dtype: int64"
      ]
     },
     "execution_count": 19,
     "metadata": {},
     "output_type": "execute_result"
    }
   ],
   "source": [
    "dayframe[\"DailyPeakWindDirection\"].value_counts()"
   ]
  },
  {
   "cell_type": "code",
   "execution_count": 20,
   "id": "e4508860",
   "metadata": {
    "scrolled": false
   },
   "outputs": [
    {
     "data": {
      "text/plain": [
       "14     26\n",
       "17     23\n",
       "16     22\n",
       "23     19\n",
       "15     18\n",
       "20     17\n",
       "13     16\n",
       "21     14\n",
       "22     14\n",
       "18     14\n",
       "12     14\n",
       "19     13\n",
       "24     13\n",
       "25     12\n",
       "26     11\n",
       "32      9\n",
       "10      8\n",
       "11      7\n",
       "40      7\n",
       "29      7\n",
       "30      7\n",
       "28      6\n",
       "37      5\n",
       "46      5\n",
       "27      4\n",
       "9       4\n",
       "31      3\n",
       "27s     3\n",
       "38      3\n",
       "36      3\n",
       "35      3\n",
       "45      2\n",
       "43s     2\n",
       "52      2\n",
       "20s     2\n",
       "42      2\n",
       "57      2\n",
       "39      2\n",
       "44      2\n",
       "43      2\n",
       "8       2\n",
       "34      2\n",
       "50      1\n",
       "35s     1\n",
       "60      1\n",
       "48      1\n",
       "47      1\n",
       "28s     1\n",
       "34s     1\n",
       "54      1\n",
       "21s     1\n",
       "7       1\n",
       "44s     1\n",
       "51      1\n",
       "50s     1\n",
       "41      1\n",
       "Name: DailyPeakWindSpeed, dtype: int64"
      ]
     },
     "execution_count": 20,
     "metadata": {},
     "output_type": "execute_result"
    }
   ],
   "source": [
    "dayframe[\"DailyPeakWindSpeed\"].value_counts()"
   ]
  },
  {
   "cell_type": "code",
   "execution_count": 21,
   "id": "75f3b008",
   "metadata": {},
   "outputs": [
    {
     "data": {
      "text/plain": [
       "0.00    149\n",
       "T        41\n",
       "0.01     17\n",
       "0.06     10\n",
       "0.03      8\n",
       "       ... \n",
       "0.82      1\n",
       "0.64      1\n",
       "0.24      1\n",
       "0.55      1\n",
       "0.38      1\n",
       "Name: DailyPrecipitation, Length: 65, dtype: int64"
      ]
     },
     "execution_count": 21,
     "metadata": {},
     "output_type": "execute_result"
    }
   ],
   "source": [
    "dayframe[\"DailyPrecipitation\"].value_counts()"
   ]
  },
  {
   "cell_type": "code",
   "execution_count": 22,
   "id": "e69bc5ef",
   "metadata": {
    "scrolled": false
   },
   "outputs": [
    {
     "data": {
      "text/plain": [
       "RA BR             84\n",
       "RA                70\n",
       "BR                26\n",
       "FG BR             18\n",
       "RA FG BR          11\n",
       "FG BR HZ           8\n",
       "HZ                 4\n",
       "BR HZ              4\n",
       "RA BR HZ           3\n",
       "RA FG BR HZ        3\n",
       "FZFG BR FG         3\n",
       "SN BR              2\n",
       "FG FZFG BR         2\n",
       "TS RA BR           2\n",
       "RA SN BR           2\n",
       "TS RA              2\n",
       "FG FZFG BR HZ      1\n",
       "FZRA UP            1\n",
       "RA FZRA            1\n",
       "RA SN FG BR HZ     1\n",
       "RA SN BR HZ        1\n",
       "RA BR UP           1\n",
       "SN BR UP           1\n",
       "SN                 1\n",
       "SN HZ              1\n",
       "RA SN FG BR        1\n",
       "RA SN              1\n",
       "Name: DailyWeather, dtype: int64"
      ]
     },
     "execution_count": 22,
     "metadata": {},
     "output_type": "execute_result"
    }
   ],
   "source": [
    "dayframe[\"DailyWeather\"].value_counts()"
   ]
  },
  {
   "cell_type": "markdown",
   "id": "efc18b17",
   "metadata": {},
   "source": [
    "Other than \"DailyWeather\" (which is categorical data I'm not going to include in the correlations stuff because it would really make sense) and \"DailyPrecipitation\", yes there are just annoying \"s\"'s in random places. Lets get rid of them."
   ]
  },
  {
   "cell_type": "code",
   "execution_count": 23,
   "id": "339a0cad",
   "metadata": {},
   "outputs": [],
   "source": [
    "drop_s_list = [\"DailyDepartureFromNormalAverageTemperature\",\"DailyHeatingDegreeDays\",\n",
    "               \"DailyMinimumDryBulbTemperature\",\"DailyPeakWindDirection\",\"DailyPeakWindSpeed\"]\n",
    "\n",
    "for column in drop_s_list:\n",
    "    dayframe[column] = dayframe[column].str.strip(\"s\").astype(float)"
   ]
  },
  {
   "cell_type": "code",
   "execution_count": 24,
   "id": "6585c241",
   "metadata": {},
   "outputs": [
    {
     "name": "stdout",
     "output_type": "stream",
     "text": [
      "<class 'pandas.core.frame.DataFrame'>\n",
      "Int64Index: 366 entries, 27 to 11347\n",
      "Data columns (total 16 columns):\n",
      " #   Column                                      Non-Null Count  Dtype  \n",
      "---  ------                                      --------------  -----  \n",
      " 0   DailyAverageDryBulbTemperature              366 non-null    float64\n",
      " 1   DailyAverageStationPressure                 351 non-null    float64\n",
      " 2   DailyAverageWindSpeed                       366 non-null    float64\n",
      " 3   DailyCoolingDegreeDays                      366 non-null    float64\n",
      " 4   DailyDepartureFromNormalAverageTemperature  366 non-null    float64\n",
      " 5   DailyHeatingDegreeDays                      366 non-null    float64\n",
      " 6   DailyMaximumDryBulbTemperature              366 non-null    float64\n",
      " 7   DailyMinimumDryBulbTemperature              366 non-null    float64\n",
      " 8   DailyPeakWindDirection                      366 non-null    float64\n",
      " 9   DailyPeakWindSpeed                          366 non-null    float64\n",
      " 10  DailyPrecipitation                          366 non-null    object \n",
      " 11  DailySnowDepth                              328 non-null    float64\n",
      " 12  DailySnowfall                               324 non-null    float64\n",
      " 13  DailySustainedWindDirection                 366 non-null    float64\n",
      " 14  DailySustainedWindSpeed                     366 non-null    float64\n",
      " 15  DailyWeather                                255 non-null    object \n",
      "dtypes: float64(14), object(2)\n",
      "memory usage: 48.6+ KB\n"
     ]
    }
   ],
   "source": [
    "dayframe.info()"
   ]
  },
  {
   "cell_type": "markdown",
   "id": "17f843ae",
   "metadata": {},
   "source": [
    "Great now we just have to fix daily precipitation and drop daily weather."
   ]
  },
  {
   "cell_type": "markdown",
   "id": "e0245a2a",
   "metadata": {},
   "source": [
    "As I said, DailyWeather is categorical data that can't really be correlated like the rest of the data that are floats, so we're going to drop it."
   ]
  },
  {
   "cell_type": "code",
   "execution_count": 25,
   "id": "83b61a6b",
   "metadata": {},
   "outputs": [],
   "source": [
    "dayframe.drop(\"DailyWeather\", axis = \"columns\", inplace = True)"
   ]
  },
  {
   "cell_type": "code",
   "execution_count": 26,
   "id": "fb780614",
   "metadata": {},
   "outputs": [
    {
     "name": "stdout",
     "output_type": "stream",
     "text": [
      "<class 'pandas.core.frame.DataFrame'>\n",
      "Int64Index: 366 entries, 27 to 11347\n",
      "Data columns (total 15 columns):\n",
      " #   Column                                      Non-Null Count  Dtype  \n",
      "---  ------                                      --------------  -----  \n",
      " 0   DailyAverageDryBulbTemperature              366 non-null    float64\n",
      " 1   DailyAverageStationPressure                 351 non-null    float64\n",
      " 2   DailyAverageWindSpeed                       366 non-null    float64\n",
      " 3   DailyCoolingDegreeDays                      366 non-null    float64\n",
      " 4   DailyDepartureFromNormalAverageTemperature  366 non-null    float64\n",
      " 5   DailyHeatingDegreeDays                      366 non-null    float64\n",
      " 6   DailyMaximumDryBulbTemperature              366 non-null    float64\n",
      " 7   DailyMinimumDryBulbTemperature              366 non-null    float64\n",
      " 8   DailyPeakWindDirection                      366 non-null    float64\n",
      " 9   DailyPeakWindSpeed                          366 non-null    float64\n",
      " 10  DailyPrecipitation                          366 non-null    object \n",
      " 11  DailySnowDepth                              328 non-null    float64\n",
      " 12  DailySnowfall                               324 non-null    float64\n",
      " 13  DailySustainedWindDirection                 366 non-null    float64\n",
      " 14  DailySustainedWindSpeed                     366 non-null    float64\n",
      "dtypes: float64(14), object(1)\n",
      "memory usage: 45.8+ KB\n"
     ]
    }
   ],
   "source": [
    "dayframe.info()"
   ]
  },
  {
   "cell_type": "markdown",
   "id": "ea2de31d",
   "metadata": {},
   "source": [
    "Let's fix daily precipitation. The methodology is the same as removing the \"s\"'s, but this time we have to replace the \"T\"'s as well. Given that the \"T\"s mean a \"trace\" amount of precipitation had occured, let's just mark them as 0.001s. That way when we look at the final data we can see if the trace days have anything correlated with them."
   ]
  },
  {
   "cell_type": "code",
   "execution_count": 27,
   "id": "856b33b6",
   "metadata": {},
   "outputs": [
    {
     "data": {
      "text/plain": [
       "27       0.001\n",
       "58       0.200\n",
       "86       0.100\n",
       "115      0.010\n",
       "147      0.160\n",
       "         ...  \n",
       "11188    0.130\n",
       "11236    0.000\n",
       "11275    0.410\n",
       "11304    0.350\n",
       "11347    0.400\n",
       "Name: DailyPrecipitation, Length: 366, dtype: float64"
      ]
     },
     "execution_count": 27,
     "metadata": {},
     "output_type": "execute_result"
    }
   ],
   "source": [
    "dayframe[\"DailyPrecipitation\"] = dayframe[\"DailyPrecipitation\"].str.replace(\"T\", \"0.001\")\n",
    "dayframe[\"DailyPrecipitation\"] = dayframe[\"DailyPrecipitation\"].str.strip(\"s\").astype(float)\n",
    "dayframe[\"DailyPrecipitation\"]"
   ]
  },
  {
   "cell_type": "code",
   "execution_count": 28,
   "id": "3e091f60",
   "metadata": {},
   "outputs": [
    {
     "name": "stdout",
     "output_type": "stream",
     "text": [
      "<class 'pandas.core.frame.DataFrame'>\n",
      "Int64Index: 366 entries, 27 to 11347\n",
      "Data columns (total 15 columns):\n",
      " #   Column                                      Non-Null Count  Dtype  \n",
      "---  ------                                      --------------  -----  \n",
      " 0   DailyAverageDryBulbTemperature              366 non-null    float64\n",
      " 1   DailyAverageStationPressure                 351 non-null    float64\n",
      " 2   DailyAverageWindSpeed                       366 non-null    float64\n",
      " 3   DailyCoolingDegreeDays                      366 non-null    float64\n",
      " 4   DailyDepartureFromNormalAverageTemperature  366 non-null    float64\n",
      " 5   DailyHeatingDegreeDays                      366 non-null    float64\n",
      " 6   DailyMaximumDryBulbTemperature              366 non-null    float64\n",
      " 7   DailyMinimumDryBulbTemperature              366 non-null    float64\n",
      " 8   DailyPeakWindDirection                      366 non-null    float64\n",
      " 9   DailyPeakWindSpeed                          366 non-null    float64\n",
      " 10  DailyPrecipitation                          366 non-null    float64\n",
      " 11  DailySnowDepth                              328 non-null    float64\n",
      " 12  DailySnowfall                               324 non-null    float64\n",
      " 13  DailySustainedWindDirection                 366 non-null    float64\n",
      " 14  DailySustainedWindSpeed                     366 non-null    float64\n",
      "dtypes: float64(15)\n",
      "memory usage: 45.8 KB\n"
     ]
    }
   ],
   "source": [
    "dayframe.info()"
   ]
  },
  {
   "cell_type": "markdown",
   "id": "583e85c7",
   "metadata": {},
   "source": [
    "Finally I want to look at the data for daily precipitation."
   ]
  },
  {
   "cell_type": "code",
   "execution_count": 29,
   "id": "c194f62b",
   "metadata": {},
   "outputs": [
    {
     "data": {
      "text/plain": [
       "count    366.000000\n",
       "mean       0.113123\n",
       "std        0.222980\n",
       "min        0.000000\n",
       "25%        0.000000\n",
       "50%        0.001000\n",
       "75%        0.130000\n",
       "max        1.820000\n",
       "Name: DailyPrecipitation, dtype: float64"
      ]
     },
     "execution_count": 29,
     "metadata": {},
     "output_type": "execute_result"
    }
   ],
   "source": [
    "dayframe[\"DailyPrecipitation\"].describe()"
   ]
  },
  {
   "cell_type": "code",
   "execution_count": 30,
   "id": "68f1577a",
   "metadata": {},
   "outputs": [
    {
     "data": {
      "text/plain": [
       "<AxesSubplot:ylabel='Frequency'>"
      ]
     },
     "execution_count": 30,
     "metadata": {},
     "output_type": "execute_result"
    },
    {
     "data": {
      "image/png": "[encoded data removed]",
      "text/plain": [
       "<Figure size 432x288 with 1 Axes>"
      ]
     },
     "metadata": {
      "needs_background": "light"
     },
     "output_type": "display_data"
    }
   ],
   "source": [
    "dayframe[\"DailyPrecipitation\"].plot.hist()"
   ]
  },
  {
   "cell_type": "markdown",
   "id": "5c68e863",
   "metadata": {},
   "source": [
    "Looks like the majority of the time it rains between 0 and 0.25 inches per day."
   ]
  },
  {
   "cell_type": "markdown",
   "id": "d911222d",
   "metadata": {},
   "source": [
    "Alright, let's make some scatterplots!"
   ]
  },
  {
   "cell_type": "code",
   "execution_count": 31,
   "id": "7c60c8fc",
   "metadata": {
    "scrolled": false
   },
   "outputs": [
    {
     "data": {
      "image/png": "[encoded data removed]",
      "text/plain": [
       "<Figure size 432x288 with 1 Axes>"
      ]
     },
     "metadata": {
      "needs_background": "light"
     },
     "output_type": "display_data"
    },
    {
     "data": {
      "image/png": "[encoded data removed]",
      "text/plain": [
       "<Figure size 432x288 with 1 Axes>"
      ]
     },
     "metadata": {
      "needs_background": "light"
     },
     "output_type": "display_data"
    },
    {
     "data": {
      "image/png": "[encoded data removed]",
      "text/plain": [
       "<Figure size 432x288 with 1 Axes>"
      ]
     },
     "metadata": {
      "needs_background": "light"
     },
     "output_type": "display_data"
    },
    {
     "data": {
      "image/png": "[encoded data removed]",
      "text/plain": [
       "<Figure size 432x288 with 1 Axes>"
      ]
     },
     "metadata": {
      "needs_background": "light"
     },
     "output_type": "display_data"
    },
    {
     "data": {
      "image/png": "[encoded data removed]",
      "text/plain": [
       "<Figure size 432x288 with 1 Axes>"
      ]
     },
     "metadata": {
      "needs_background": "light"
     },
     "output_type": "display_data"
    },
    {
     "data": {
      "image/png": "[encoded data removed]",
      "text/plain": [
       "<Figure size 432x288 with 1 Axes>"
      ]
     },
     "metadata": {
      "needs_background": "light"
     },
     "output_type": "display_data"
    },
    {
     "data": {
      "image/png": "[encoded data removed]",
      "text/plain": [
       "<Figure size 432x288 with 1 Axes>"
      ]
     },
     "metadata": {
      "needs_background": "light"
     },
     "output_type": "display_data"
    },
    {
     "data": {
      "image/png": "[encoded data removed]",
      "text/plain": [
       "<Figure size 432x288 with 1 Axes>"
      ]
     },
     "metadata": {
      "needs_background": "light"
     },
     "output_type": "display_data"
    },
    {
     "data": {
      "image/png": "[encoded data removed]",
      "text/plain": [
       "<Figure size 432x288 with 1 Axes>"
      ]
     },
     "metadata": {
      "needs_background": "light"
     },
     "output_type": "display_data"
    },
    {
     "data": {
      "image/png": "[encoded data removed]",
      "text/plain": [
       "<Figure size 432x288 with 1 Axes>"
      ]
     },
     "metadata": {
      "needs_background": "light"
     },
     "output_type": "display_data"
    },
    {
     "data": {
      "image/png": "[encoded data removed]",
      "text/plain": [
       "<Figure size 432x288 with 1 Axes>"
      ]
     },
     "metadata": {
      "needs_background": "light"
     },
     "output_type": "display_data"
    },
    {
     "data": {
      "image/png": "[encoded data removed]",
      "text/plain": [
       "<Figure size 432x288 with 1 Axes>"
      ]
     },
     "metadata": {
      "needs_background": "light"
     },
     "output_type": "display_data"
    },
    {
     "data": {
      "image/png": "[encoded data removed]",
      "text/plain": [
       "<Figure size 432x288 with 1 Axes>"
      ]
     },
     "metadata": {
      "needs_background": "light"
     },
     "output_type": "display_data"
    },
    {
     "data": {
      "image/png": "[encoded data removed]",
      "text/plain": [
       "<Figure size 432x288 with 1 Axes>"
      ]
     },
     "metadata": {
      "needs_background": "light"
     },
     "output_type": "display_data"
    },
    {
     "data": {
      "image/png": "[encoded data removed]",
      "text/plain": [
       "<Figure size 432x288 with 1 Axes>"
      ]
     },
     "metadata": {
      "needs_background": "light"
     },
     "output_type": "display_data"
    }
   ],
   "source": [
    "for column in dayframe.columns:\n",
    "    dayframe.plot.scatter(x = column, y = \"DailyPrecipitation\")"
   ]
  },
  {
   "cell_type": "markdown",
   "id": "452b38d7",
   "metadata": {},
   "source": [
    "Well that was underwelming. None of these variables seem to be that strong predictors of daily precipitation. However, there are a couple interesting things:\n",
    "* The DailyAverageStationPressure had the most days with precipition when under 30 inches of mercury was recorded.\n",
    "* Days with postive DailyDepartureFromNormalAverageTemperature tended to have higher amounts of precipitation.\n",
    "* Precipitation seemed to occur more often in days when the wind direction was between 150 and 200 degrees, meaning that precipitation may be more likely when the wind is blowing south and slightly east.\n",
    "* You would have thought that higher wind speeds would mean higher precipitation, but supprisingly it isn't."
   ]
  }
 ],
 "metadata": {
  "kernelspec": {
   "display_name": "Python 3",
   "language": "python",
   "name": "python3"
  },
  "language_info": {
   "codemirror_mode": {
    "name": "ipython",
    "version": 3
   },
   "file_extension": ".py",
   "mimetype": "text/x-python",
   "name": "python",
   "nbconvert_exporter": "python",
   "pygments_lexer": "ipython3",
   "version": "3.8.8"
  }
 },
 "nbformat": 4,
 "nbformat_minor": 5
}
