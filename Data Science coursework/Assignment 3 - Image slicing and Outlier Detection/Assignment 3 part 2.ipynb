{
 "cells": [
  {
   "cell_type": "markdown",
   "id": "771b1894",
   "metadata": {},
   "source": [
    "# Assignment 3 Part 2\n",
    "Grayson Hineline\n",
    "\n",
    "Note for portfolio: This is a fun project. In this Part 1, I am tasked with slicing the images in two videos to reconstruct the photos. If you think of an image as a a bunch of images stacked on top of each other to form a box, these tasks were to out parts of that box in a slice such that an entirely new, warped image could be formed."
   ]
  },
  {
   "cell_type": "markdown",
   "id": "185ff8e1",
   "metadata": {},
   "source": [
    "Import the things we'll need:"
   ]
  },
  {
   "cell_type": "code",
   "execution_count": 62,
   "id": "2c186ca6",
   "metadata": {},
   "outputs": [],
   "source": [
    "import pandas as pd\n",
    "import numpy as np\n",
    "import imageio\n",
    "import matplotlib.pyplot as plt\n",
    "import seaborn as sns"
   ]
  },
  {
   "cell_type": "markdown",
   "id": "4227801a",
   "metadata": {},
   "source": [
    "From the professor: The following CSV file contains an index of all the images you have to work with. It has columns for just the Filename and the full URL where the image lives."
   ]
  },
  {
   "cell_type": "code",
   "execution_count": 63,
   "id": "ec085a03",
   "metadata": {},
   "outputs": [
    {
     "data": {
      "text/html": [
       "<div>\n",
       "<style scoped>\n",
       "    .dataframe tbody tr th:only-of-type {\n",
       "        vertical-align: middle;\n",
       "    }\n",
       "\n",
       "    .dataframe tbody tr th {\n",
       "        vertical-align: top;\n",
       "    }\n",
       "\n",
       "    .dataframe thead th {\n",
       "        text-align: right;\n",
       "    }\n",
       "</style>\n",
       "<table border=\"1\" class=\"dataframe\">\n",
       "  <thead>\n",
       "    <tr style=\"text-align: right;\">\n",
       "      <th></th>\n",
       "      <th>Filename</th>\n",
       "      <th>URL</th>\n",
       "    </tr>\n",
       "  </thead>\n",
       "  <tbody>\n",
       "    <tr>\n",
       "      <th>0</th>\n",
       "      <td>ecu-per-00000.jpeg</td>\n",
       "      <td>https://facultyweb.cs.wwu.edu/~wehrwes/courses...</td>\n",
       "    </tr>\n",
       "    <tr>\n",
       "      <th>1</th>\n",
       "      <td>ecu-per-00001.jpeg</td>\n",
       "      <td>https://facultyweb.cs.wwu.edu/~wehrwes/courses...</td>\n",
       "    </tr>\n",
       "    <tr>\n",
       "      <th>2</th>\n",
       "      <td>ecu-per-00002.jpeg</td>\n",
       "      <td>https://facultyweb.cs.wwu.edu/~wehrwes/courses...</td>\n",
       "    </tr>\n",
       "    <tr>\n",
       "      <th>3</th>\n",
       "      <td>ecu-per-00003.jpeg</td>\n",
       "      <td>https://facultyweb.cs.wwu.edu/~wehrwes/courses...</td>\n",
       "    </tr>\n",
       "    <tr>\n",
       "      <th>4</th>\n",
       "      <td>ecu-per-00004.jpeg</td>\n",
       "      <td>https://facultyweb.cs.wwu.edu/~wehrwes/courses...</td>\n",
       "    </tr>\n",
       "    <tr>\n",
       "      <th>...</th>\n",
       "      <td>...</td>\n",
       "      <td>...</td>\n",
       "    </tr>\n",
       "    <tr>\n",
       "      <th>3348</th>\n",
       "      <td>ecu-per-03350.jpeg</td>\n",
       "      <td>https://facultyweb.cs.wwu.edu/~wehrwes/courses...</td>\n",
       "    </tr>\n",
       "    <tr>\n",
       "      <th>3349</th>\n",
       "      <td>ecu-per-03351.jpeg</td>\n",
       "      <td>https://facultyweb.cs.wwu.edu/~wehrwes/courses...</td>\n",
       "    </tr>\n",
       "    <tr>\n",
       "      <th>3350</th>\n",
       "      <td>ecu-per-03352.jpeg</td>\n",
       "      <td>https://facultyweb.cs.wwu.edu/~wehrwes/courses...</td>\n",
       "    </tr>\n",
       "    <tr>\n",
       "      <th>3351</th>\n",
       "      <td>ecu-per-03353.jpeg</td>\n",
       "      <td>https://facultyweb.cs.wwu.edu/~wehrwes/courses...</td>\n",
       "    </tr>\n",
       "    <tr>\n",
       "      <th>3352</th>\n",
       "      <td>ecu-per-03354.jpeg</td>\n",
       "      <td>https://facultyweb.cs.wwu.edu/~wehrwes/courses...</td>\n",
       "    </tr>\n",
       "  </tbody>\n",
       "</table>\n",
       "<p>3353 rows × 2 columns</p>\n",
       "</div>"
      ],
      "text/plain": [
       "                Filename                                                URL\n",
       "0     ecu-per-00000.jpeg  https://facultyweb.cs.wwu.edu/~wehrwes/courses...\n",
       "1     ecu-per-00001.jpeg  https://facultyweb.cs.wwu.edu/~wehrwes/courses...\n",
       "2     ecu-per-00002.jpeg  https://facultyweb.cs.wwu.edu/~wehrwes/courses...\n",
       "3     ecu-per-00003.jpeg  https://facultyweb.cs.wwu.edu/~wehrwes/courses...\n",
       "4     ecu-per-00004.jpeg  https://facultyweb.cs.wwu.edu/~wehrwes/courses...\n",
       "...                  ...                                                ...\n",
       "3348  ecu-per-03350.jpeg  https://facultyweb.cs.wwu.edu/~wehrwes/courses...\n",
       "3349  ecu-per-03351.jpeg  https://facultyweb.cs.wwu.edu/~wehrwes/courses...\n",
       "3350  ecu-per-03352.jpeg  https://facultyweb.cs.wwu.edu/~wehrwes/courses...\n",
       "3351  ecu-per-03353.jpeg  https://facultyweb.cs.wwu.edu/~wehrwes/courses...\n",
       "3352  ecu-per-03354.jpeg  https://facultyweb.cs.wwu.edu/~wehrwes/courses...\n",
       "\n",
       "[3353 rows x 2 columns]"
      ]
     },
     "execution_count": 63,
     "metadata": {},
     "output_type": "execute_result"
    }
   ],
   "source": [
    "image_index = pd.read_csv(\"https://facultyweb.cs.wwu.edu/~wehrwes/courses/data311_21f/data/ecu-per.csv\")\n",
    "image_index"
   ]
  },
  {
   "cell_type": "markdown",
   "id": "1a1c6010",
   "metadata": {},
   "source": [
    "From the professor: Your job is to augment the `image_index` DataFrame with an additional column called `Inlier` with type `bool` which is `True` if that row corresponds to a real image (i.e, is an inlier), and `False` if it corresponds to a bogus image (i.e., an outlier)."
   ]
  },
  {
   "cell_type": "markdown",
   "id": "a47397fd",
   "metadata": {},
   "source": [
    "--------------------------------------------------------------------------"
   ]
  },
  {
   "cell_type": "markdown",
   "id": "5a48b43f",
   "metadata": {},
   "source": [
    "First I want to look at a random sample of 10 images just to see what most of them look like."
   ]
  },
  {
   "cell_type": "code",
   "execution_count": 64,
   "id": "fe46cbbd",
   "metadata": {},
   "outputs": [],
   "source": [
    "samplen10 = image_index.sample(n=10).reset_index()"
   ]
  },
  {
   "cell_type": "code",
   "execution_count": 65,
   "id": "94e7d9ab",
   "metadata": {},
   "outputs": [
    {
     "data": {
      "text/html": [
       "<div>\n",
       "<style scoped>\n",
       "    .dataframe tbody tr th:only-of-type {\n",
       "        vertical-align: middle;\n",
       "    }\n",
       "\n",
       "    .dataframe tbody tr th {\n",
       "        vertical-align: top;\n",
       "    }\n",
       "\n",
       "    .dataframe thead th {\n",
       "        text-align: right;\n",
       "    }\n",
       "</style>\n",
       "<table border=\"1\" class=\"dataframe\">\n",
       "  <thead>\n",
       "    <tr style=\"text-align: right;\">\n",
       "      <th></th>\n",
       "      <th>index</th>\n",
       "      <th>Filename</th>\n",
       "      <th>URL</th>\n",
       "    </tr>\n",
       "  </thead>\n",
       "  <tbody>\n",
       "    <tr>\n",
       "      <th>0</th>\n",
       "      <td>247</td>\n",
       "      <td>ecu-per-00247.jpeg</td>\n",
       "      <td>https://facultyweb.cs.wwu.edu/~wehrwes/courses...</td>\n",
       "    </tr>\n",
       "    <tr>\n",
       "      <th>1</th>\n",
       "      <td>271</td>\n",
       "      <td>ecu-per-00271.jpeg</td>\n",
       "      <td>https://facultyweb.cs.wwu.edu/~wehrwes/courses...</td>\n",
       "    </tr>\n",
       "    <tr>\n",
       "      <th>2</th>\n",
       "      <td>15</td>\n",
       "      <td>ecu-per-00015.jpeg</td>\n",
       "      <td>https://facultyweb.cs.wwu.edu/~wehrwes/courses...</td>\n",
       "    </tr>\n",
       "    <tr>\n",
       "      <th>3</th>\n",
       "      <td>2003</td>\n",
       "      <td>ecu-per-02003.jpeg</td>\n",
       "      <td>https://facultyweb.cs.wwu.edu/~wehrwes/courses...</td>\n",
       "    </tr>\n",
       "    <tr>\n",
       "      <th>4</th>\n",
       "      <td>2599</td>\n",
       "      <td>ecu-per-02601.jpeg</td>\n",
       "      <td>https://facultyweb.cs.wwu.edu/~wehrwes/courses...</td>\n",
       "    </tr>\n",
       "    <tr>\n",
       "      <th>5</th>\n",
       "      <td>1391</td>\n",
       "      <td>ecu-per-01391.jpeg</td>\n",
       "      <td>https://facultyweb.cs.wwu.edu/~wehrwes/courses...</td>\n",
       "    </tr>\n",
       "    <tr>\n",
       "      <th>6</th>\n",
       "      <td>2215</td>\n",
       "      <td>ecu-per-02216.jpeg</td>\n",
       "      <td>https://facultyweb.cs.wwu.edu/~wehrwes/courses...</td>\n",
       "    </tr>\n",
       "    <tr>\n",
       "      <th>7</th>\n",
       "      <td>1716</td>\n",
       "      <td>ecu-per-01716.jpeg</td>\n",
       "      <td>https://facultyweb.cs.wwu.edu/~wehrwes/courses...</td>\n",
       "    </tr>\n",
       "    <tr>\n",
       "      <th>8</th>\n",
       "      <td>3042</td>\n",
       "      <td>ecu-per-03044.jpeg</td>\n",
       "      <td>https://facultyweb.cs.wwu.edu/~wehrwes/courses...</td>\n",
       "    </tr>\n",
       "    <tr>\n",
       "      <th>9</th>\n",
       "      <td>2475</td>\n",
       "      <td>ecu-per-02477.jpeg</td>\n",
       "      <td>https://facultyweb.cs.wwu.edu/~wehrwes/courses...</td>\n",
       "    </tr>\n",
       "  </tbody>\n",
       "</table>\n",
       "</div>"
      ],
      "text/plain": [
       "   index            Filename  \\\n",
       "0    247  ecu-per-00247.jpeg   \n",
       "1    271  ecu-per-00271.jpeg   \n",
       "2     15  ecu-per-00015.jpeg   \n",
       "3   2003  ecu-per-02003.jpeg   \n",
       "4   2599  ecu-per-02601.jpeg   \n",
       "5   1391  ecu-per-01391.jpeg   \n",
       "6   2215  ecu-per-02216.jpeg   \n",
       "7   1716  ecu-per-01716.jpeg   \n",
       "8   3042  ecu-per-03044.jpeg   \n",
       "9   2475  ecu-per-02477.jpeg   \n",
       "\n",
       "                                                 URL  \n",
       "0  https://facultyweb.cs.wwu.edu/~wehrwes/courses...  \n",
       "1  https://facultyweb.cs.wwu.edu/~wehrwes/courses...  \n",
       "2  https://facultyweb.cs.wwu.edu/~wehrwes/courses...  \n",
       "3  https://facultyweb.cs.wwu.edu/~wehrwes/courses...  \n",
       "4  https://facultyweb.cs.wwu.edu/~wehrwes/courses...  \n",
       "5  https://facultyweb.cs.wwu.edu/~wehrwes/courses...  \n",
       "6  https://facultyweb.cs.wwu.edu/~wehrwes/courses...  \n",
       "7  https://facultyweb.cs.wwu.edu/~wehrwes/courses...  \n",
       "8  https://facultyweb.cs.wwu.edu/~wehrwes/courses...  \n",
       "9  https://facultyweb.cs.wwu.edu/~wehrwes/courses...  "
      ]
     },
     "execution_count": 65,
     "metadata": {},
     "output_type": "execute_result"
    }
   ],
   "source": [
    "samplen10"
   ]
  },
  {
   "cell_type": "code",
   "execution_count": 66,
   "id": "8e11bfec",
   "metadata": {},
   "outputs": [
    {
     "data": {
      "text/plain": [
       "<matplotlib.image.AxesImage at 0x218727665b0>"
      ]
     },
     "execution_count": 66,
     "metadata": {},
     "output_type": "execute_result"
    },
    {
     "data": {
      "image/png": "[encoded data removed]",
      "text/plain": [
       "<Figure size 432x288 with 1 Axes>"
      ]
     },
     "metadata": {
      "needs_background": "light"
     },
     "output_type": "display_data"
    }
   ],
   "source": [
    "plt.imshow(imageio.imread(samplen10[\"URL\"][1])) "
   ]
  },
  {
   "cell_type": "code",
   "execution_count": 67,
   "id": "9a3ec7e3",
   "metadata": {},
   "outputs": [
    {
     "data": {
      "text/plain": [
       "<matplotlib.image.AxesImage at 0x218727bf7f0>"
      ]
     },
     "execution_count": 67,
     "metadata": {},
     "output_type": "execute_result"
    },
    {
     "data": {
      "image/png": "[encoded data removed]",
      "text/plain": [
       "<Figure size 432x288 with 1 Axes>"
      ]
     },
     "metadata": {
      "needs_background": "light"
     },
     "output_type": "display_data"
    }
   ],
   "source": [
    "plt.imshow(imageio.imread(samplen10[\"URL\"][2]))"
   ]
  },
  {
   "cell_type": "code",
   "execution_count": 68,
   "id": "a614e172",
   "metadata": {},
   "outputs": [
    {
     "data": {
      "text/plain": [
       "<matplotlib.image.AxesImage at 0x21872817bb0>"
      ]
     },
     "execution_count": 68,
     "metadata": {},
     "output_type": "execute_result"
    },
    {
     "data": {
      "image/png": "[encoded data removed]",
      "text/plain": [
       "<Figure size 432x288 with 1 Axes>"
      ]
     },
     "metadata": {
      "needs_background": "light"
     },
     "output_type": "display_data"
    }
   ],
   "source": [
    "plt.imshow(imageio.imread(samplen10[\"URL\"][3])) #outlier"
   ]
  },
  {
   "cell_type": "code",
   "execution_count": 69,
   "id": "1652dc29",
   "metadata": {},
   "outputs": [
    {
     "data": {
      "text/plain": [
       "<matplotlib.image.AxesImage at 0x2187290a3a0>"
      ]
     },
     "execution_count": 69,
     "metadata": {},
     "output_type": "execute_result"
    },
    {
     "data": {
      "image/png": "[encoded data removed]",
      "text/plain": [
       "<Figure size 432x288 with 1 Axes>"
      ]
     },
     "metadata": {
      "needs_background": "light"
     },
     "output_type": "display_data"
    }
   ],
   "source": [
    "plt.imshow(imageio.imread(samplen10[\"URL\"][4]))"
   ]
  },
  {
   "cell_type": "code",
   "execution_count": 70,
   "id": "fea18537",
   "metadata": {},
   "outputs": [
    {
     "data": {
      "text/plain": [
       "<matplotlib.image.AxesImage at 0x21870ff4640>"
      ]
     },
     "execution_count": 70,
     "metadata": {},
     "output_type": "execute_result"
    },
    {
     "data": {
      "image/png": "[encoded data removed]",
      "text/plain": [
       "<Figure size 432x288 with 1 Axes>"
      ]
     },
     "metadata": {
      "needs_background": "light"
     },
     "output_type": "display_data"
    }
   ],
   "source": [
    "plt.imshow(imageio.imread(samplen10[\"URL\"][5]))"
   ]
  },
  {
   "cell_type": "code",
   "execution_count": 71,
   "id": "2e1b825c",
   "metadata": {},
   "outputs": [
    {
     "data": {
      "text/plain": [
       "<matplotlib.image.AxesImage at 0x218723a2250>"
      ]
     },
     "execution_count": 71,
     "metadata": {},
     "output_type": "execute_result"
    },
    {
     "data": {
      "image/png": "[encoded data removed]",
      "text/plain": [
       "<Figure size 432x288 with 1 Axes>"
      ]
     },
     "metadata": {
      "needs_background": "light"
     },
     "output_type": "display_data"
    }
   ],
   "source": [
    "plt.imshow(imageio.imread(samplen10[\"URL\"][6])) #outlier"
   ]
  },
  {
   "cell_type": "code",
   "execution_count": 72,
   "id": "5b6339b2",
   "metadata": {},
   "outputs": [
    {
     "data": {
      "text/plain": [
       "<matplotlib.image.AxesImage at 0x218729e68e0>"
      ]
     },
     "execution_count": 72,
     "metadata": {},
     "output_type": "execute_result"
    },
    {
     "data": {
      "image/png": "[encoded data removed]",
      "text/plain": [
       "<Figure size 432x288 with 1 Axes>"
      ]
     },
     "metadata": {
      "needs_background": "light"
     },
     "output_type": "display_data"
    }
   ],
   "source": [
    "plt.imshow(imageio.imread(samplen10[\"URL\"][7]))"
   ]
  },
  {
   "cell_type": "code",
   "execution_count": 73,
   "id": "af44f224",
   "metadata": {},
   "outputs": [
    {
     "data": {
      "text/plain": [
       "<matplotlib.image.AxesImage at 0x21872a42a60>"
      ]
     },
     "execution_count": 73,
     "metadata": {},
     "output_type": "execute_result"
    },
    {
     "data": {
      "image/png": "[encoded data removed]",
      "text/plain": [
       "<Figure size 432x288 with 1 Axes>"
      ]
     },
     "metadata": {
      "needs_background": "light"
     },
     "output_type": "display_data"
    }
   ],
   "source": [
    "plt.imshow(imageio.imread(samplen10[\"URL\"][8]))"
   ]
  },
  {
   "cell_type": "code",
   "execution_count": 74,
   "id": "81b79b87",
   "metadata": {},
   "outputs": [
    {
     "data": {
      "text/plain": [
       "<matplotlib.image.AxesImage at 0x21872a9bbe0>"
      ]
     },
     "execution_count": 74,
     "metadata": {},
     "output_type": "execute_result"
    },
    {
     "data": {
      "image/png": "[encoded data removed]",
      "text/plain": [
       "<Figure size 432x288 with 1 Axes>"
      ]
     },
     "metadata": {
      "needs_background": "light"
     },
     "output_type": "display_data"
    }
   ],
   "source": [
    "plt.imshow(imageio.imread(samplen10[\"URL\"][9])) #outlier"
   ]
  },
  {
   "cell_type": "markdown",
   "id": "7d30f3ce",
   "metadata": {},
   "source": [
    "Well look at that, just by looking at a random sample of 10 images we found some outliers. Lets look at the properties of those rows vs some of the rows we know are fine from the images we just printed."
   ]
  },
  {
   "cell_type": "code",
   "execution_count": 75,
   "id": "fc962e81",
   "metadata": {
    "scrolled": true
   },
   "outputs": [
    {
     "data": {
      "text/plain": [
       "Array([[[245, 242, 237],\n",
       "        [245, 242, 237],\n",
       "        [245, 242, 237],\n",
       "        ...,\n",
       "        [245, 242, 237],\n",
       "        [245, 242, 237],\n",
       "        [245, 242, 237]],\n",
       "\n",
       "       [[245, 242, 237],\n",
       "        [245, 242, 237],\n",
       "        [245, 242, 237],\n",
       "        ...,\n",
       "        [245, 242, 237],\n",
       "        [245, 242, 237],\n",
       "        [245, 242, 237]],\n",
       "\n",
       "       [[245, 242, 237],\n",
       "        [245, 242, 237],\n",
       "        [245, 242, 237],\n",
       "        ...,\n",
       "        [245, 242, 237],\n",
       "        [245, 242, 237],\n",
       "        [245, 242, 237]],\n",
       "\n",
       "       ...,\n",
       "\n",
       "       [[245, 242, 237],\n",
       "        [245, 242, 237],\n",
       "        [245, 242, 237],\n",
       "        ...,\n",
       "        [245, 242, 237],\n",
       "        [245, 242, 237],\n",
       "        [245, 242, 237]],\n",
       "\n",
       "       [[245, 242, 237],\n",
       "        [245, 242, 237],\n",
       "        [245, 242, 237],\n",
       "        ...,\n",
       "        [245, 242, 237],\n",
       "        [245, 242, 237],\n",
       "        [245, 242, 237]],\n",
       "\n",
       "       [[245, 242, 237],\n",
       "        [245, 242, 237],\n",
       "        [245, 242, 237],\n",
       "        ...,\n",
       "        [245, 242, 237],\n",
       "        [245, 242, 237],\n",
       "        [245, 242, 237]]], dtype=uint8)"
      ]
     },
     "execution_count": 75,
     "metadata": {},
     "output_type": "execute_result"
    }
   ],
   "source": [
    "# In the random sample the weird rows 3, 6 and 9 were originally rows 2003, 2482, and 2475 respectively\n",
    "weirdImage = imageio.imread(image_index[\"URL\"][2003])\n",
    "weirdImage"
   ]
  },
  {
   "cell_type": "markdown",
   "id": "178833c5",
   "metadata": {},
   "source": [
    "From just looking at the values, it looks like they're all the same numbers. Let's look at a bunch of summary statistics to see whats going on."
   ]
  },
  {
   "cell_type": "markdown",
   "id": "14491114",
   "metadata": {},
   "source": [
    "Making a function that returns some summary statistics of a given array:"
   ]
  },
  {
   "cell_type": "code",
   "execution_count": 76,
   "id": "0e42e11b",
   "metadata": {},
   "outputs": [],
   "source": [
    "def sumStats(array):\n",
    "    sumDict = {\n",
    "        \"Count non-zero\" : np.count_nonzero(array),\n",
    "        \"Standard Deviation\" : np.std(array),\n",
    "        #Sum\" : np.sum(array), realized I can't include the sum or else it makes the numbers in the series too big\n",
    "        \"Mean\" : np.mean(array),\n",
    "        \"Median\" : np.median(array),\n",
    "        \"Min\" : np.amin(array),\n",
    "        \"Max\" : np.amax(array)\n",
    "    }\n",
    "    return pd.Series(sumDict)"
   ]
  },
  {
   "cell_type": "markdown",
   "id": "94e84500",
   "metadata": {},
   "source": [
    "Now lets use this function on the arrays we just tested"
   ]
  },
  {
   "cell_type": "code",
   "execution_count": 77,
   "id": "74b87ac2",
   "metadata": {},
   "outputs": [
    {
     "data": {
      "text/plain": [
       "Count non-zero        12288.000000\n",
       "Standard Deviation        4.851529\n",
       "Mean                    240.626058\n",
       "Median                  242.000000\n",
       "Min                     201.000000\n",
       "Max                     251.000000\n",
       "dtype: float64"
      ]
     },
     "execution_count": 77,
     "metadata": {},
     "output_type": "execute_result"
    }
   ],
   "source": [
    "sumStats(weirdImage)"
   ]
  },
  {
   "cell_type": "markdown",
   "id": "741c3f13",
   "metadata": {},
   "source": [
    "So all of the values are between 200 and 251, and the average is 241."
   ]
  },
  {
   "cell_type": "code",
   "execution_count": 78,
   "id": "5b45a686",
   "metadata": {},
   "outputs": [
    {
     "data": {
      "text/plain": [
       "Count non-zero        12288.000000\n",
       "Standard Deviation        4.851529\n",
       "Mean                    240.626058\n",
       "Median                  242.000000\n",
       "Min                     201.000000\n",
       "Max                     251.000000\n",
       "dtype: float64"
      ]
     },
     "execution_count": 78,
     "metadata": {},
     "output_type": "execute_result"
    }
   ],
   "source": [
    "weirdImage2 = imageio.imread(image_index[\"URL\"][2215])\n",
    "sumStats(weirdImage2)"
   ]
  },
  {
   "cell_type": "markdown",
   "id": "2508ee2d",
   "metadata": {},
   "source": [
    "Same deal. Let's look at one more."
   ]
  },
  {
   "cell_type": "markdown",
   "id": "41848e56",
   "metadata": {},
   "source": [
    "Both of these bogus images had the exact same summary statistics. Let's look at a couple normal ones for comparison"
   ]
  },
  {
   "cell_type": "code",
   "execution_count": 79,
   "id": "bde72bc8",
   "metadata": {},
   "outputs": [
    {
     "data": {
      "text/plain": [
       "Count non-zero        12288.000000\n",
       "Standard Deviation       30.245142\n",
       "Mean                     79.118815\n",
       "Median                   77.000000\n",
       "Min                       1.000000\n",
       "Max                     172.000000\n",
       "dtype: float64"
      ]
     },
     "execution_count": 79,
     "metadata": {},
     "output_type": "execute_result"
    }
   ],
   "source": [
    "normalImage1 = imageio.imread(image_index[\"URL\"][271])\n",
    "sumStats(normalImage1)"
   ]
  },
  {
   "cell_type": "code",
   "execution_count": 80,
   "id": "4fe97508",
   "metadata": {},
   "outputs": [
    {
     "data": {
      "text/plain": [
       "Count non-zero        12287.000000\n",
       "Standard Deviation       42.162164\n",
       "Mean                    144.045492\n",
       "Median                  146.000000\n",
       "Min                       0.000000\n",
       "Max                     255.000000\n",
       "dtype: float64"
      ]
     },
     "execution_count": 80,
     "metadata": {},
     "output_type": "execute_result"
    }
   ],
   "source": [
    "normalImage2 = imageio.imread(image_index[\"URL\"][15])\n",
    "sumStats(normalImage2)"
   ]
  },
  {
   "cell_type": "code",
   "execution_count": 81,
   "id": "5a8ad3a3",
   "metadata": {},
   "outputs": [
    {
     "data": {
      "text/plain": [
       "Count non-zero        12286.000000\n",
       "Standard Deviation       15.159674\n",
       "Mean                     46.940511\n",
       "Median                   44.000000\n",
       "Min                       0.000000\n",
       "Max                     105.000000\n",
       "dtype: float64"
      ]
     },
     "execution_count": 81,
     "metadata": {},
     "output_type": "execute_result"
    }
   ],
   "source": [
    "normalImage3 = imageio.imread(image_index[\"URL\"][2599])\n",
    "sumStats(normalImage3)"
   ]
  },
  {
   "cell_type": "markdown",
   "id": "2bbd61a9",
   "metadata": {},
   "source": [
    "The means of the normal images are substantially lower. Furthermore, the std's of all of them seem to be mostly much larger as well."
   ]
  },
  {
   "cell_type": "markdown",
   "id": "11cb86eb",
   "metadata": {},
   "source": [
    "From this sample, I now think that the means of the outlier images are usually different from the means of the normal images. So lets make a column of the means of the images in our dataframe and then plot it."
   ]
  },
  {
   "cell_type": "code",
   "execution_count": 82,
   "id": "4a73420b",
   "metadata": {},
   "outputs": [
    {
     "data": {
      "text/plain": [
       "240.62605794270834"
      ]
     },
     "execution_count": 82,
     "metadata": {},
     "output_type": "execute_result"
    }
   ],
   "source": [
    "def getArrayMean(row):\n",
    "    return np.mean(imageio.imread(row))\n",
    "\n",
    "getArrayMean(image_index[\"URL\"][2733]) #test"
   ]
  },
  {
   "cell_type": "code",
   "execution_count": 83,
   "id": "d3b1fa09",
   "metadata": {},
   "outputs": [
    {
     "data": {
      "text/html": [
       "<div>\n",
       "<style scoped>\n",
       "    .dataframe tbody tr th:only-of-type {\n",
       "        vertical-align: middle;\n",
       "    }\n",
       "\n",
       "    .dataframe tbody tr th {\n",
       "        vertical-align: top;\n",
       "    }\n",
       "\n",
       "    .dataframe thead th {\n",
       "        text-align: right;\n",
       "    }\n",
       "</style>\n",
       "<table border=\"1\" class=\"dataframe\">\n",
       "  <thead>\n",
       "    <tr style=\"text-align: right;\">\n",
       "      <th></th>\n",
       "      <th>Filename</th>\n",
       "      <th>URL</th>\n",
       "      <th>Array Mean</th>\n",
       "    </tr>\n",
       "  </thead>\n",
       "  <tbody>\n",
       "    <tr>\n",
       "      <th>0</th>\n",
       "      <td>ecu-per-00000.jpeg</td>\n",
       "      <td>https://facultyweb.cs.wwu.edu/~wehrwes/courses...</td>\n",
       "      <td>70.236003</td>\n",
       "    </tr>\n",
       "    <tr>\n",
       "      <th>1</th>\n",
       "      <td>ecu-per-00001.jpeg</td>\n",
       "      <td>https://facultyweb.cs.wwu.edu/~wehrwes/courses...</td>\n",
       "      <td>70.236003</td>\n",
       "    </tr>\n",
       "    <tr>\n",
       "      <th>2</th>\n",
       "      <td>ecu-per-00002.jpeg</td>\n",
       "      <td>https://facultyweb.cs.wwu.edu/~wehrwes/courses...</td>\n",
       "      <td>65.725911</td>\n",
       "    </tr>\n",
       "    <tr>\n",
       "      <th>3</th>\n",
       "      <td>ecu-per-00003.jpeg</td>\n",
       "      <td>https://facultyweb.cs.wwu.edu/~wehrwes/courses...</td>\n",
       "      <td>49.841471</td>\n",
       "    </tr>\n",
       "    <tr>\n",
       "      <th>4</th>\n",
       "      <td>ecu-per-00004.jpeg</td>\n",
       "      <td>https://facultyweb.cs.wwu.edu/~wehrwes/courses...</td>\n",
       "      <td>86.958252</td>\n",
       "    </tr>\n",
       "    <tr>\n",
       "      <th>...</th>\n",
       "      <td>...</td>\n",
       "      <td>...</td>\n",
       "      <td>...</td>\n",
       "    </tr>\n",
       "    <tr>\n",
       "      <th>3348</th>\n",
       "      <td>ecu-per-03350.jpeg</td>\n",
       "      <td>https://facultyweb.cs.wwu.edu/~wehrwes/courses...</td>\n",
       "      <td>39.511230</td>\n",
       "    </tr>\n",
       "    <tr>\n",
       "      <th>3349</th>\n",
       "      <td>ecu-per-03351.jpeg</td>\n",
       "      <td>https://facultyweb.cs.wwu.edu/~wehrwes/courses...</td>\n",
       "      <td>56.775472</td>\n",
       "    </tr>\n",
       "    <tr>\n",
       "      <th>3350</th>\n",
       "      <td>ecu-per-03352.jpeg</td>\n",
       "      <td>https://facultyweb.cs.wwu.edu/~wehrwes/courses...</td>\n",
       "      <td>41.453451</td>\n",
       "    </tr>\n",
       "    <tr>\n",
       "      <th>3351</th>\n",
       "      <td>ecu-per-03353.jpeg</td>\n",
       "      <td>https://facultyweb.cs.wwu.edu/~wehrwes/courses...</td>\n",
       "      <td>46.192952</td>\n",
       "    </tr>\n",
       "    <tr>\n",
       "      <th>3352</th>\n",
       "      <td>ecu-per-03354.jpeg</td>\n",
       "      <td>https://facultyweb.cs.wwu.edu/~wehrwes/courses...</td>\n",
       "      <td>85.430094</td>\n",
       "    </tr>\n",
       "  </tbody>\n",
       "</table>\n",
       "<p>3353 rows × 3 columns</p>\n",
       "</div>"
      ],
      "text/plain": [
       "                Filename                                                URL  \\\n",
       "0     ecu-per-00000.jpeg  https://facultyweb.cs.wwu.edu/~wehrwes/courses...   \n",
       "1     ecu-per-00001.jpeg  https://facultyweb.cs.wwu.edu/~wehrwes/courses...   \n",
       "2     ecu-per-00002.jpeg  https://facultyweb.cs.wwu.edu/~wehrwes/courses...   \n",
       "3     ecu-per-00003.jpeg  https://facultyweb.cs.wwu.edu/~wehrwes/courses...   \n",
       "4     ecu-per-00004.jpeg  https://facultyweb.cs.wwu.edu/~wehrwes/courses...   \n",
       "...                  ...                                                ...   \n",
       "3348  ecu-per-03350.jpeg  https://facultyweb.cs.wwu.edu/~wehrwes/courses...   \n",
       "3349  ecu-per-03351.jpeg  https://facultyweb.cs.wwu.edu/~wehrwes/courses...   \n",
       "3350  ecu-per-03352.jpeg  https://facultyweb.cs.wwu.edu/~wehrwes/courses...   \n",
       "3351  ecu-per-03353.jpeg  https://facultyweb.cs.wwu.edu/~wehrwes/courses...   \n",
       "3352  ecu-per-03354.jpeg  https://facultyweb.cs.wwu.edu/~wehrwes/courses...   \n",
       "\n",
       "      Array Mean  \n",
       "0      70.236003  \n",
       "1      70.236003  \n",
       "2      65.725911  \n",
       "3      49.841471  \n",
       "4      86.958252  \n",
       "...          ...  \n",
       "3348   39.511230  \n",
       "3349   56.775472  \n",
       "3350   41.453451  \n",
       "3351   46.192952  \n",
       "3352   85.430094  \n",
       "\n",
       "[3353 rows x 3 columns]"
      ]
     },
     "execution_count": 83,
     "metadata": {},
     "output_type": "execute_result"
    }
   ],
   "source": [
    "image_index[\"Array Mean\"] = image_index[\"URL\"].apply(getArrayMean)\n",
    "image_index"
   ]
  },
  {
   "cell_type": "code",
   "execution_count": 84,
   "id": "5e5d2039",
   "metadata": {},
   "outputs": [
    {
     "data": {
      "text/plain": [
       "count    3353.000000\n",
       "mean       96.991364\n",
       "std        75.856462\n",
       "min         3.332194\n",
       "25%        43.954427\n",
       "50%        62.042480\n",
       "75%       109.918213\n",
       "max       254.000000\n",
       "Name: Array Mean, dtype: float64"
      ]
     },
     "execution_count": 84,
     "metadata": {},
     "output_type": "execute_result"
    }
   ],
   "source": [
    "image_index[\"Array Mean\"].describe()"
   ]
  },
  {
   "cell_type": "code",
   "execution_count": 85,
   "id": "6d6456ef",
   "metadata": {},
   "outputs": [
    {
     "data": {
      "text/plain": [
       "<AxesSubplot:xlabel='Array Mean', ylabel='Count'>"
      ]
     },
     "execution_count": 85,
     "metadata": {},
     "output_type": "execute_result"
    },
    {
     "data": {
      "image/png": "[encoded data removed]",
      "text/plain": [
       "<Figure size 432x288 with 1 Axes>"
      ]
     },
     "metadata": {
      "needs_background": "light"
     },
     "output_type": "display_data"
    }
   ],
   "source": [
    "sns.histplot(image_index[\"Array Mean\"])"
   ]
  },
  {
   "cell_type": "markdown",
   "id": "798f8517",
   "metadata": {},
   "source": [
    "Well, judging from the shape of this, think I may have found the outliers. Other than the massive amount of outliers with values just below 250, The rest of the dat looks kind of gaussian."
   ]
  },
  {
   "cell_type": "markdown",
   "id": "84b5a202",
   "metadata": {},
   "source": [
    "Let's make some z scores for the averages and plot that. \n",
    "\n",
    "*Note: In hindsight, I realize that I could have done all of the following analysis on the means instead of the z-scores*"
   ]
  },
  {
   "cell_type": "code",
   "execution_count": 86,
   "id": "c59861c0",
   "metadata": {},
   "outputs": [
    {
     "data": {
      "text/plain": [
       "<AxesSubplot:xlabel='Z-Score for Mean', ylabel='Count'>"
      ]
     },
     "execution_count": 86,
     "metadata": {},
     "output_type": "execute_result"
    },
    {
     "data": {
      "image/png": "[encoded data removed]",
      "text/plain": [
       "<Figure size 432x288 with 1 Axes>"
      ]
     },
     "metadata": {
      "needs_background": "light"
     },
     "output_type": "display_data"
    }
   ],
   "source": [
    "image_index[\"Z-Score for Mean\"] = (image_index[\"Array Mean\"] - image_index[\"Array Mean\"].mean()) /  image_index[\"Array Mean\"].std()\n",
    "sns.histplot(image_index[\"Z-Score for Mean\"])"
   ]
  },
  {
   "cell_type": "code",
   "execution_count": 87,
   "id": "4cdcc5a8",
   "metadata": {
    "scrolled": true
   },
   "outputs": [
    {
     "data": {
      "text/plain": [
       "count    3.353000e+03\n",
       "mean    -9.119226e-15\n",
       "std      1.000000e+00\n",
       "min     -1.234689e+00\n",
       "25%     -6.991749e-01\n",
       "50%     -4.607239e-01\n",
       "75%      1.704120e-01\n",
       "max      2.069812e+00\n",
       "Name: Z-Score for Mean, dtype: float64"
      ]
     },
     "execution_count": 87,
     "metadata": {},
     "output_type": "execute_result"
    }
   ],
   "source": [
    "image_index[\"Z-Score for Mean\"].describe()"
   ]
  },
  {
   "cell_type": "code",
   "execution_count": 88,
   "id": "0dfd8561",
   "metadata": {},
   "outputs": [
    {
     "data": {
      "text/plain": [
       "-0.235687      1\n",
       "-0.330609      1\n",
       "-0.754337      1\n",
       "-0.607397      1\n",
       "-0.597081      1\n",
       "            ... \n",
       " 2.069812      2\n",
       "-0.899772      2\n",
       "-0.658169      2\n",
       "-0.680756      2\n",
       " 1.893506    611\n",
       "Name: Z-Score for Mean, Length: 2691, dtype: int64"
      ]
     },
     "execution_count": 88,
     "metadata": {},
     "output_type": "execute_result"
    }
   ],
   "source": [
    "image_index[\"Z-Score for Mean\"].value_counts().sort_values()"
   ]
  },
  {
   "cell_type": "markdown",
   "id": "4e9597a8",
   "metadata": {},
   "source": [
    "Wow. So the z-scores for 611 images are all 1.8935. I'm pretty sure those are all outliers, but we need to do some testing to make sure."
   ]
  },
  {
   "cell_type": "markdown",
   "id": "49494852",
   "metadata": {},
   "source": [
    "To see in what ranges the z-score of an image's mean indicates that they're probably bogus, I continuously tested these samples."
   ]
  },
  {
   "cell_type": "markdown",
   "id": "7cf0f0c9",
   "metadata": {},
   "source": [
    "First I looked at z-scores over 1"
   ]
  },
  {
   "cell_type": "code",
   "execution_count": 89,
   "id": "368f35c0",
   "metadata": {},
   "outputs": [
    {
     "data": {
      "text/html": [
       "<div>\n",
       "<style scoped>\n",
       "    .dataframe tbody tr th:only-of-type {\n",
       "        vertical-align: middle;\n",
       "    }\n",
       "\n",
       "    .dataframe tbody tr th {\n",
       "        vertical-align: top;\n",
       "    }\n",
       "\n",
       "    .dataframe thead th {\n",
       "        text-align: right;\n",
       "    }\n",
       "</style>\n",
       "<table border=\"1\" class=\"dataframe\">\n",
       "  <thead>\n",
       "    <tr style=\"text-align: right;\">\n",
       "      <th></th>\n",
       "      <th>Filename</th>\n",
       "      <th>URL</th>\n",
       "      <th>Array Mean</th>\n",
       "      <th>Z-Score for Mean</th>\n",
       "    </tr>\n",
       "  </thead>\n",
       "  <tbody>\n",
       "    <tr>\n",
       "      <th>123</th>\n",
       "      <td>ecu-per-00123.jpeg</td>\n",
       "      <td>https://facultyweb.cs.wwu.edu/~wehrwes/courses...</td>\n",
       "      <td>200.901611</td>\n",
       "      <td>1.369827</td>\n",
       "    </tr>\n",
       "    <tr>\n",
       "      <th>124</th>\n",
       "      <td>ecu-per-00124.jpeg</td>\n",
       "      <td>https://facultyweb.cs.wwu.edu/~wehrwes/courses...</td>\n",
       "      <td>191.097493</td>\n",
       "      <td>1.240582</td>\n",
       "    </tr>\n",
       "    <tr>\n",
       "      <th>1328</th>\n",
       "      <td>ecu-per-01328.jpeg</td>\n",
       "      <td>https://facultyweb.cs.wwu.edu/~wehrwes/courses...</td>\n",
       "      <td>174.524333</td>\n",
       "      <td>1.022101</td>\n",
       "    </tr>\n",
       "    <tr>\n",
       "      <th>1329</th>\n",
       "      <td>ecu-per-01329.jpeg</td>\n",
       "      <td>https://facultyweb.cs.wwu.edu/~wehrwes/courses...</td>\n",
       "      <td>200.988607</td>\n",
       "      <td>1.370974</td>\n",
       "    </tr>\n",
       "    <tr>\n",
       "      <th>1330</th>\n",
       "      <td>ecu-per-01330.jpeg</td>\n",
       "      <td>https://facultyweb.cs.wwu.edu/~wehrwes/courses...</td>\n",
       "      <td>189.228760</td>\n",
       "      <td>1.215946</td>\n",
       "    </tr>\n",
       "    <tr>\n",
       "      <th>...</th>\n",
       "      <td>...</td>\n",
       "      <td>...</td>\n",
       "      <td>...</td>\n",
       "      <td>...</td>\n",
       "    </tr>\n",
       "    <tr>\n",
       "      <th>2807</th>\n",
       "      <td>ecu-per-02809.jpeg</td>\n",
       "      <td>https://facultyweb.cs.wwu.edu/~wehrwes/courses...</td>\n",
       "      <td>226.405924</td>\n",
       "      <td>1.706045</td>\n",
       "    </tr>\n",
       "    <tr>\n",
       "      <th>2906</th>\n",
       "      <td>ecu-per-02908.jpeg</td>\n",
       "      <td>https://facultyweb.cs.wwu.edu/~wehrwes/courses...</td>\n",
       "      <td>197.203613</td>\n",
       "      <td>1.321077</td>\n",
       "    </tr>\n",
       "    <tr>\n",
       "      <th>3259</th>\n",
       "      <td>ecu-per-03261.jpeg</td>\n",
       "      <td>https://facultyweb.cs.wwu.edu/~wehrwes/courses...</td>\n",
       "      <td>228.486491</td>\n",
       "      <td>1.733473</td>\n",
       "    </tr>\n",
       "    <tr>\n",
       "      <th>3260</th>\n",
       "      <td>ecu-per-03262.jpeg</td>\n",
       "      <td>https://facultyweb.cs.wwu.edu/~wehrwes/courses...</td>\n",
       "      <td>253.434570</td>\n",
       "      <td>2.062358</td>\n",
       "    </tr>\n",
       "    <tr>\n",
       "      <th>3261</th>\n",
       "      <td>ecu-per-03263.jpeg</td>\n",
       "      <td>https://facultyweb.cs.wwu.edu/~wehrwes/courses...</td>\n",
       "      <td>223.194499</td>\n",
       "      <td>1.663710</td>\n",
       "    </tr>\n",
       "  </tbody>\n",
       "</table>\n",
       "<p>686 rows × 4 columns</p>\n",
       "</div>"
      ],
      "text/plain": [
       "                Filename                                                URL  \\\n",
       "123   ecu-per-00123.jpeg  https://facultyweb.cs.wwu.edu/~wehrwes/courses...   \n",
       "124   ecu-per-00124.jpeg  https://facultyweb.cs.wwu.edu/~wehrwes/courses...   \n",
       "1328  ecu-per-01328.jpeg  https://facultyweb.cs.wwu.edu/~wehrwes/courses...   \n",
       "1329  ecu-per-01329.jpeg  https://facultyweb.cs.wwu.edu/~wehrwes/courses...   \n",
       "1330  ecu-per-01330.jpeg  https://facultyweb.cs.wwu.edu/~wehrwes/courses...   \n",
       "...                  ...                                                ...   \n",
       "2807  ecu-per-02809.jpeg  https://facultyweb.cs.wwu.edu/~wehrwes/courses...   \n",
       "2906  ecu-per-02908.jpeg  https://facultyweb.cs.wwu.edu/~wehrwes/courses...   \n",
       "3259  ecu-per-03261.jpeg  https://facultyweb.cs.wwu.edu/~wehrwes/courses...   \n",
       "3260  ecu-per-03262.jpeg  https://facultyweb.cs.wwu.edu/~wehrwes/courses...   \n",
       "3261  ecu-per-03263.jpeg  https://facultyweb.cs.wwu.edu/~wehrwes/courses...   \n",
       "\n",
       "      Array Mean  Z-Score for Mean  \n",
       "123   200.901611          1.369827  \n",
       "124   191.097493          1.240582  \n",
       "1328  174.524333          1.022101  \n",
       "1329  200.988607          1.370974  \n",
       "1330  189.228760          1.215946  \n",
       "...          ...               ...  \n",
       "2807  226.405924          1.706045  \n",
       "2906  197.203613          1.321077  \n",
       "3259  228.486491          1.733473  \n",
       "3260  253.434570          2.062358  \n",
       "3261  223.194499          1.663710  \n",
       "\n",
       "[686 rows x 4 columns]"
      ]
     },
     "execution_count": 89,
     "metadata": {},
     "output_type": "execute_result"
    }
   ],
   "source": [
    "hyp_outliers = image_index[image_index[\"Z-Score for Mean\"] > 1]\n",
    "hyp_outliers"
   ]
  },
  {
   "cell_type": "markdown",
   "id": "5e4f4186",
   "metadata": {},
   "source": [
    "Then I just pulled a random image out of these 686 over and over again to see if it was bogus or not."
   ]
  },
  {
   "cell_type": "code",
   "execution_count": 90,
   "id": "abde6b2a",
   "metadata": {},
   "outputs": [
    {
     "data": {
      "text/html": [
       "<div>\n",
       "<style scoped>\n",
       "    .dataframe tbody tr th:only-of-type {\n",
       "        vertical-align: middle;\n",
       "    }\n",
       "\n",
       "    .dataframe tbody tr th {\n",
       "        vertical-align: top;\n",
       "    }\n",
       "\n",
       "    .dataframe thead th {\n",
       "        text-align: right;\n",
       "    }\n",
       "</style>\n",
       "<table border=\"1\" class=\"dataframe\">\n",
       "  <thead>\n",
       "    <tr style=\"text-align: right;\">\n",
       "      <th></th>\n",
       "      <th>index</th>\n",
       "      <th>Filename</th>\n",
       "      <th>URL</th>\n",
       "      <th>Array Mean</th>\n",
       "      <th>Z-Score for Mean</th>\n",
       "    </tr>\n",
       "  </thead>\n",
       "  <tbody>\n",
       "    <tr>\n",
       "      <th>0</th>\n",
       "      <td>2189</td>\n",
       "      <td>ecu-per-02190.jpeg</td>\n",
       "      <td>https://facultyweb.cs.wwu.edu/~wehrwes/courses...</td>\n",
       "      <td>240.626058</td>\n",
       "      <td>1.893506</td>\n",
       "    </tr>\n",
       "  </tbody>\n",
       "</table>\n",
       "</div>"
      ],
      "text/plain": [
       "   index            Filename  \\\n",
       "0   2189  ecu-per-02190.jpeg   \n",
       "\n",
       "                                                 URL  Array Mean  \\\n",
       "0  https://facultyweb.cs.wwu.edu/~wehrwes/courses...  240.626058   \n",
       "\n",
       "   Z-Score for Mean  \n",
       "0          1.893506  "
      ]
     },
     "execution_count": 90,
     "metadata": {},
     "output_type": "execute_result"
    }
   ],
   "source": [
    "sample = hyp_outliers.sample(n=1).reset_index()\n",
    "sample"
   ]
  },
  {
   "cell_type": "code",
   "execution_count": 91,
   "id": "4ec765fe",
   "metadata": {},
   "outputs": [
    {
     "name": "stdout",
     "output_type": "stream",
     "text": [
      "Main df index: 2189\n"
     ]
    },
    {
     "data": {
      "text/plain": [
       "<matplotlib.image.AxesImage at 0x21872cccac0>"
      ]
     },
     "execution_count": 91,
     "metadata": {},
     "output_type": "execute_result"
    },
    {
     "data": {
      "image/png": "[encoded data removed]",
      "text/plain": [
       "<Figure size 432x288 with 1 Axes>"
      ]
     },
     "metadata": {
      "needs_background": "light"
     },
     "output_type": "display_data"
    }
   ],
   "source": [
    "print(\"Main df index: \" + str(sample[\"index\"][0]))\n",
    "plt.imshow(imageio.imread(sample[\"URL\"][0]))"
   ]
  },
  {
   "cell_type": "markdown",
   "id": "b0977490",
   "metadata": {},
   "source": [
    "Importantly, some of the images with z-scores greater than 1 appeared as real images. But one z-score kept recurring for images that were bogus, 1.893506. I decided from this to split the sets I was testing from 1.0-1.7 and from 1.7 and up."
   ]
  },
  {
   "cell_type": "markdown",
   "id": "322f0568",
   "metadata": {},
   "source": [
    "First I did between 1.0 and 1.7"
   ]
  },
  {
   "cell_type": "code",
   "execution_count": 92,
   "id": "1c4b2d3e",
   "metadata": {
    "scrolled": true
   },
   "outputs": [
    {
     "data": {
      "text/html": [
       "<div>\n",
       "<style scoped>\n",
       "    .dataframe tbody tr th:only-of-type {\n",
       "        vertical-align: middle;\n",
       "    }\n",
       "\n",
       "    .dataframe tbody tr th {\n",
       "        vertical-align: top;\n",
       "    }\n",
       "\n",
       "    .dataframe thead th {\n",
       "        text-align: right;\n",
       "    }\n",
       "</style>\n",
       "<table border=\"1\" class=\"dataframe\">\n",
       "  <thead>\n",
       "    <tr style=\"text-align: right;\">\n",
       "      <th></th>\n",
       "      <th>Filename</th>\n",
       "      <th>URL</th>\n",
       "      <th>Array Mean</th>\n",
       "      <th>Z-Score for Mean</th>\n",
       "    </tr>\n",
       "  </thead>\n",
       "  <tbody>\n",
       "    <tr>\n",
       "      <th>123</th>\n",
       "      <td>ecu-per-00123.jpeg</td>\n",
       "      <td>https://facultyweb.cs.wwu.edu/~wehrwes/courses...</td>\n",
       "      <td>200.901611</td>\n",
       "      <td>1.369827</td>\n",
       "    </tr>\n",
       "    <tr>\n",
       "      <th>124</th>\n",
       "      <td>ecu-per-00124.jpeg</td>\n",
       "      <td>https://facultyweb.cs.wwu.edu/~wehrwes/courses...</td>\n",
       "      <td>191.097493</td>\n",
       "      <td>1.240582</td>\n",
       "    </tr>\n",
       "    <tr>\n",
       "      <th>1328</th>\n",
       "      <td>ecu-per-01328.jpeg</td>\n",
       "      <td>https://facultyweb.cs.wwu.edu/~wehrwes/courses...</td>\n",
       "      <td>174.524333</td>\n",
       "      <td>1.022101</td>\n",
       "    </tr>\n",
       "    <tr>\n",
       "      <th>1329</th>\n",
       "      <td>ecu-per-01329.jpeg</td>\n",
       "      <td>https://facultyweb.cs.wwu.edu/~wehrwes/courses...</td>\n",
       "      <td>200.988607</td>\n",
       "      <td>1.370974</td>\n",
       "    </tr>\n",
       "    <tr>\n",
       "      <th>1330</th>\n",
       "      <td>ecu-per-01330.jpeg</td>\n",
       "      <td>https://facultyweb.cs.wwu.edu/~wehrwes/courses...</td>\n",
       "      <td>189.228760</td>\n",
       "      <td>1.215946</td>\n",
       "    </tr>\n",
       "    <tr>\n",
       "      <th>1331</th>\n",
       "      <td>ecu-per-01331.jpeg</td>\n",
       "      <td>https://facultyweb.cs.wwu.edu/~wehrwes/courses...</td>\n",
       "      <td>202.023926</td>\n",
       "      <td>1.384622</td>\n",
       "    </tr>\n",
       "    <tr>\n",
       "      <th>1332</th>\n",
       "      <td>ecu-per-01332.jpeg</td>\n",
       "      <td>https://facultyweb.cs.wwu.edu/~wehrwes/courses...</td>\n",
       "      <td>199.635905</td>\n",
       "      <td>1.353142</td>\n",
       "    </tr>\n",
       "    <tr>\n",
       "      <th>1345</th>\n",
       "      <td>ecu-per-01345.jpeg</td>\n",
       "      <td>https://facultyweb.cs.wwu.edu/~wehrwes/courses...</td>\n",
       "      <td>203.777832</td>\n",
       "      <td>1.407744</td>\n",
       "    </tr>\n",
       "    <tr>\n",
       "      <th>1355</th>\n",
       "      <td>ecu-per-01355.jpeg</td>\n",
       "      <td>https://facultyweb.cs.wwu.edu/~wehrwes/courses...</td>\n",
       "      <td>213.510254</td>\n",
       "      <td>1.536044</td>\n",
       "    </tr>\n",
       "    <tr>\n",
       "      <th>1357</th>\n",
       "      <td>ecu-per-01357.jpeg</td>\n",
       "      <td>https://facultyweb.cs.wwu.edu/~wehrwes/courses...</td>\n",
       "      <td>200.784180</td>\n",
       "      <td>1.368279</td>\n",
       "    </tr>\n",
       "    <tr>\n",
       "      <th>1368</th>\n",
       "      <td>ecu-per-01368.jpeg</td>\n",
       "      <td>https://facultyweb.cs.wwu.edu/~wehrwes/courses...</td>\n",
       "      <td>199.762858</td>\n",
       "      <td>1.354815</td>\n",
       "    </tr>\n",
       "    <tr>\n",
       "      <th>1377</th>\n",
       "      <td>ecu-per-01377.jpeg</td>\n",
       "      <td>https://facultyweb.cs.wwu.edu/~wehrwes/courses...</td>\n",
       "      <td>212.236979</td>\n",
       "      <td>1.519259</td>\n",
       "    </tr>\n",
       "    <tr>\n",
       "      <th>1378</th>\n",
       "      <td>ecu-per-01378.jpeg</td>\n",
       "      <td>https://facultyweb.cs.wwu.edu/~wehrwes/courses...</td>\n",
       "      <td>208.324626</td>\n",
       "      <td>1.467683</td>\n",
       "    </tr>\n",
       "    <tr>\n",
       "      <th>1484</th>\n",
       "      <td>ecu-per-01484.jpeg</td>\n",
       "      <td>https://facultyweb.cs.wwu.edu/~wehrwes/courses...</td>\n",
       "      <td>225.268717</td>\n",
       "      <td>1.691054</td>\n",
       "    </tr>\n",
       "    <tr>\n",
       "      <th>1601</th>\n",
       "      <td>ecu-per-01601.jpeg</td>\n",
       "      <td>https://facultyweb.cs.wwu.edu/~wehrwes/courses...</td>\n",
       "      <td>173.895833</td>\n",
       "      <td>1.013816</td>\n",
       "    </tr>\n",
       "    <tr>\n",
       "      <th>1603</th>\n",
       "      <td>ecu-per-01603.jpeg</td>\n",
       "      <td>https://facultyweb.cs.wwu.edu/~wehrwes/courses...</td>\n",
       "      <td>204.461019</td>\n",
       "      <td>1.416750</td>\n",
       "    </tr>\n",
       "    <tr>\n",
       "      <th>1607</th>\n",
       "      <td>ecu-per-01607.jpeg</td>\n",
       "      <td>https://facultyweb.cs.wwu.edu/~wehrwes/courses...</td>\n",
       "      <td>173.272786</td>\n",
       "      <td>1.005602</td>\n",
       "    </tr>\n",
       "    <tr>\n",
       "      <th>1632</th>\n",
       "      <td>ecu-per-01632.jpeg</td>\n",
       "      <td>https://facultyweb.cs.wwu.edu/~wehrwes/courses...</td>\n",
       "      <td>201.566325</td>\n",
       "      <td>1.378590</td>\n",
       "    </tr>\n",
       "    <tr>\n",
       "      <th>1658</th>\n",
       "      <td>ecu-per-01658.jpeg</td>\n",
       "      <td>https://facultyweb.cs.wwu.edu/~wehrwes/courses...</td>\n",
       "      <td>218.978516</td>\n",
       "      <td>1.608131</td>\n",
       "    </tr>\n",
       "    <tr>\n",
       "      <th>1675</th>\n",
       "      <td>ecu-per-01675.jpeg</td>\n",
       "      <td>https://facultyweb.cs.wwu.edu/~wehrwes/courses...</td>\n",
       "      <td>185.432048</td>\n",
       "      <td>1.165895</td>\n",
       "    </tr>\n",
       "    <tr>\n",
       "      <th>1677</th>\n",
       "      <td>ecu-per-01677.jpeg</td>\n",
       "      <td>https://facultyweb.cs.wwu.edu/~wehrwes/courses...</td>\n",
       "      <td>204.236084</td>\n",
       "      <td>1.413785</td>\n",
       "    </tr>\n",
       "    <tr>\n",
       "      <th>1680</th>\n",
       "      <td>ecu-per-01680.jpeg</td>\n",
       "      <td>https://facultyweb.cs.wwu.edu/~wehrwes/courses...</td>\n",
       "      <td>180.837809</td>\n",
       "      <td>1.105330</td>\n",
       "    </tr>\n",
       "    <tr>\n",
       "      <th>1688</th>\n",
       "      <td>ecu-per-01688.jpeg</td>\n",
       "      <td>https://facultyweb.cs.wwu.edu/~wehrwes/courses...</td>\n",
       "      <td>207.115723</td>\n",
       "      <td>1.451747</td>\n",
       "    </tr>\n",
       "    <tr>\n",
       "      <th>1696</th>\n",
       "      <td>ecu-per-01696.jpeg</td>\n",
       "      <td>https://facultyweb.cs.wwu.edu/~wehrwes/courses...</td>\n",
       "      <td>175.187256</td>\n",
       "      <td>1.030840</td>\n",
       "    </tr>\n",
       "    <tr>\n",
       "      <th>1698</th>\n",
       "      <td>ecu-per-01698.jpeg</td>\n",
       "      <td>https://facultyweb.cs.wwu.edu/~wehrwes/courses...</td>\n",
       "      <td>186.258789</td>\n",
       "      <td>1.176794</td>\n",
       "    </tr>\n",
       "    <tr>\n",
       "      <th>1776</th>\n",
       "      <td>ecu-per-01776.jpeg</td>\n",
       "      <td>https://facultyweb.cs.wwu.edu/~wehrwes/courses...</td>\n",
       "      <td>185.717773</td>\n",
       "      <td>1.169662</td>\n",
       "    </tr>\n",
       "    <tr>\n",
       "      <th>1777</th>\n",
       "      <td>ecu-per-01777.jpeg</td>\n",
       "      <td>https://facultyweb.cs.wwu.edu/~wehrwes/courses...</td>\n",
       "      <td>209.284912</td>\n",
       "      <td>1.480343</td>\n",
       "    </tr>\n",
       "    <tr>\n",
       "      <th>1780</th>\n",
       "      <td>ecu-per-01780.jpeg</td>\n",
       "      <td>https://facultyweb.cs.wwu.edu/~wehrwes/courses...</td>\n",
       "      <td>188.298258</td>\n",
       "      <td>1.203680</td>\n",
       "    </tr>\n",
       "    <tr>\n",
       "      <th>1786</th>\n",
       "      <td>ecu-per-01786.jpeg</td>\n",
       "      <td>https://facultyweb.cs.wwu.edu/~wehrwes/courses...</td>\n",
       "      <td>193.180257</td>\n",
       "      <td>1.268038</td>\n",
       "    </tr>\n",
       "    <tr>\n",
       "      <th>2081</th>\n",
       "      <td>ecu-per-02081.jpeg</td>\n",
       "      <td>https://facultyweb.cs.wwu.edu/~wehrwes/courses...</td>\n",
       "      <td>191.246745</td>\n",
       "      <td>1.242549</td>\n",
       "    </tr>\n",
       "    <tr>\n",
       "      <th>2124</th>\n",
       "      <td>ecu-per-02124.jpeg</td>\n",
       "      <td>https://facultyweb.cs.wwu.edu/~wehrwes/courses...</td>\n",
       "      <td>216.128988</td>\n",
       "      <td>1.570567</td>\n",
       "    </tr>\n",
       "    <tr>\n",
       "      <th>2247</th>\n",
       "      <td>ecu-per-02248.jpeg</td>\n",
       "      <td>https://facultyweb.cs.wwu.edu/~wehrwes/courses...</td>\n",
       "      <td>190.788737</td>\n",
       "      <td>1.236511</td>\n",
       "    </tr>\n",
       "    <tr>\n",
       "      <th>2248</th>\n",
       "      <td>ecu-per-02249.jpeg</td>\n",
       "      <td>https://facultyweb.cs.wwu.edu/~wehrwes/courses...</td>\n",
       "      <td>190.788737</td>\n",
       "      <td>1.236511</td>\n",
       "    </tr>\n",
       "    <tr>\n",
       "      <th>2253</th>\n",
       "      <td>ecu-per-02254.jpeg</td>\n",
       "      <td>https://facultyweb.cs.wwu.edu/~wehrwes/courses...</td>\n",
       "      <td>185.116455</td>\n",
       "      <td>1.161735</td>\n",
       "    </tr>\n",
       "    <tr>\n",
       "      <th>2281</th>\n",
       "      <td>ecu-per-02283.jpeg</td>\n",
       "      <td>https://facultyweb.cs.wwu.edu/~wehrwes/courses...</td>\n",
       "      <td>202.034261</td>\n",
       "      <td>1.384759</td>\n",
       "    </tr>\n",
       "    <tr>\n",
       "      <th>2283</th>\n",
       "      <td>ecu-per-02285.jpeg</td>\n",
       "      <td>https://facultyweb.cs.wwu.edu/~wehrwes/courses...</td>\n",
       "      <td>194.150960</td>\n",
       "      <td>1.280835</td>\n",
       "    </tr>\n",
       "    <tr>\n",
       "      <th>2545</th>\n",
       "      <td>ecu-per-02547.jpeg</td>\n",
       "      <td>https://facultyweb.cs.wwu.edu/~wehrwes/courses...</td>\n",
       "      <td>208.519613</td>\n",
       "      <td>1.470254</td>\n",
       "    </tr>\n",
       "    <tr>\n",
       "      <th>2906</th>\n",
       "      <td>ecu-per-02908.jpeg</td>\n",
       "      <td>https://facultyweb.cs.wwu.edu/~wehrwes/courses...</td>\n",
       "      <td>197.203613</td>\n",
       "      <td>1.321077</td>\n",
       "    </tr>\n",
       "    <tr>\n",
       "      <th>3261</th>\n",
       "      <td>ecu-per-03263.jpeg</td>\n",
       "      <td>https://facultyweb.cs.wwu.edu/~wehrwes/courses...</td>\n",
       "      <td>223.194499</td>\n",
       "      <td>1.663710</td>\n",
       "    </tr>\n",
       "  </tbody>\n",
       "</table>\n",
       "</div>"
      ],
      "text/plain": [
       "                Filename                                                URL  \\\n",
       "123   ecu-per-00123.jpeg  https://facultyweb.cs.wwu.edu/~wehrwes/courses...   \n",
       "124   ecu-per-00124.jpeg  https://facultyweb.cs.wwu.edu/~wehrwes/courses...   \n",
       "1328  ecu-per-01328.jpeg  https://facultyweb.cs.wwu.edu/~wehrwes/courses...   \n",
       "1329  ecu-per-01329.jpeg  https://facultyweb.cs.wwu.edu/~wehrwes/courses...   \n",
       "1330  ecu-per-01330.jpeg  https://facultyweb.cs.wwu.edu/~wehrwes/courses...   \n",
       "1331  ecu-per-01331.jpeg  https://facultyweb.cs.wwu.edu/~wehrwes/courses...   \n",
       "1332  ecu-per-01332.jpeg  https://facultyweb.cs.wwu.edu/~wehrwes/courses...   \n",
       "1345  ecu-per-01345.jpeg  https://facultyweb.cs.wwu.edu/~wehrwes/courses...   \n",
       "1355  ecu-per-01355.jpeg  https://facultyweb.cs.wwu.edu/~wehrwes/courses...   \n",
       "1357  ecu-per-01357.jpeg  https://facultyweb.cs.wwu.edu/~wehrwes/courses...   \n",
       "1368  ecu-per-01368.jpeg  https://facultyweb.cs.wwu.edu/~wehrwes/courses...   \n",
       "1377  ecu-per-01377.jpeg  https://facultyweb.cs.wwu.edu/~wehrwes/courses...   \n",
       "1378  ecu-per-01378.jpeg  https://facultyweb.cs.wwu.edu/~wehrwes/courses...   \n",
       "1484  ecu-per-01484.jpeg  https://facultyweb.cs.wwu.edu/~wehrwes/courses...   \n",
       "1601  ecu-per-01601.jpeg  https://facultyweb.cs.wwu.edu/~wehrwes/courses...   \n",
       "1603  ecu-per-01603.jpeg  https://facultyweb.cs.wwu.edu/~wehrwes/courses...   \n",
       "1607  ecu-per-01607.jpeg  https://facultyweb.cs.wwu.edu/~wehrwes/courses...   \n",
       "1632  ecu-per-01632.jpeg  https://facultyweb.cs.wwu.edu/~wehrwes/courses...   \n",
       "1658  ecu-per-01658.jpeg  https://facultyweb.cs.wwu.edu/~wehrwes/courses...   \n",
       "1675  ecu-per-01675.jpeg  https://facultyweb.cs.wwu.edu/~wehrwes/courses...   \n",
       "1677  ecu-per-01677.jpeg  https://facultyweb.cs.wwu.edu/~wehrwes/courses...   \n",
       "1680  ecu-per-01680.jpeg  https://facultyweb.cs.wwu.edu/~wehrwes/courses...   \n",
       "1688  ecu-per-01688.jpeg  https://facultyweb.cs.wwu.edu/~wehrwes/courses...   \n",
       "1696  ecu-per-01696.jpeg  https://facultyweb.cs.wwu.edu/~wehrwes/courses...   \n",
       "1698  ecu-per-01698.jpeg  https://facultyweb.cs.wwu.edu/~wehrwes/courses...   \n",
       "1776  ecu-per-01776.jpeg  https://facultyweb.cs.wwu.edu/~wehrwes/courses...   \n",
       "1777  ecu-per-01777.jpeg  https://facultyweb.cs.wwu.edu/~wehrwes/courses...   \n",
       "1780  ecu-per-01780.jpeg  https://facultyweb.cs.wwu.edu/~wehrwes/courses...   \n",
       "1786  ecu-per-01786.jpeg  https://facultyweb.cs.wwu.edu/~wehrwes/courses...   \n",
       "2081  ecu-per-02081.jpeg  https://facultyweb.cs.wwu.edu/~wehrwes/courses...   \n",
       "2124  ecu-per-02124.jpeg  https://facultyweb.cs.wwu.edu/~wehrwes/courses...   \n",
       "2247  ecu-per-02248.jpeg  https://facultyweb.cs.wwu.edu/~wehrwes/courses...   \n",
       "2248  ecu-per-02249.jpeg  https://facultyweb.cs.wwu.edu/~wehrwes/courses...   \n",
       "2253  ecu-per-02254.jpeg  https://facultyweb.cs.wwu.edu/~wehrwes/courses...   \n",
       "2281  ecu-per-02283.jpeg  https://facultyweb.cs.wwu.edu/~wehrwes/courses...   \n",
       "2283  ecu-per-02285.jpeg  https://facultyweb.cs.wwu.edu/~wehrwes/courses...   \n",
       "2545  ecu-per-02547.jpeg  https://facultyweb.cs.wwu.edu/~wehrwes/courses...   \n",
       "2906  ecu-per-02908.jpeg  https://facultyweb.cs.wwu.edu/~wehrwes/courses...   \n",
       "3261  ecu-per-03263.jpeg  https://facultyweb.cs.wwu.edu/~wehrwes/courses...   \n",
       "\n",
       "      Array Mean  Z-Score for Mean  \n",
       "123   200.901611          1.369827  \n",
       "124   191.097493          1.240582  \n",
       "1328  174.524333          1.022101  \n",
       "1329  200.988607          1.370974  \n",
       "1330  189.228760          1.215946  \n",
       "1331  202.023926          1.384622  \n",
       "1332  199.635905          1.353142  \n",
       "1345  203.777832          1.407744  \n",
       "1355  213.510254          1.536044  \n",
       "1357  200.784180          1.368279  \n",
       "1368  199.762858          1.354815  \n",
       "1377  212.236979          1.519259  \n",
       "1378  208.324626          1.467683  \n",
       "1484  225.268717          1.691054  \n",
       "1601  173.895833          1.013816  \n",
       "1603  204.461019          1.416750  \n",
       "1607  173.272786          1.005602  \n",
       "1632  201.566325          1.378590  \n",
       "1658  218.978516          1.608131  \n",
       "1675  185.432048          1.165895  \n",
       "1677  204.236084          1.413785  \n",
       "1680  180.837809          1.105330  \n",
       "1688  207.115723          1.451747  \n",
       "1696  175.187256          1.030840  \n",
       "1698  186.258789          1.176794  \n",
       "1776  185.717773          1.169662  \n",
       "1777  209.284912          1.480343  \n",
       "1780  188.298258          1.203680  \n",
       "1786  193.180257          1.268038  \n",
       "2081  191.246745          1.242549  \n",
       "2124  216.128988          1.570567  \n",
       "2247  190.788737          1.236511  \n",
       "2248  190.788737          1.236511  \n",
       "2253  185.116455          1.161735  \n",
       "2281  202.034261          1.384759  \n",
       "2283  194.150960          1.280835  \n",
       "2545  208.519613          1.470254  \n",
       "2906  197.203613          1.321077  \n",
       "3261  223.194499          1.663710  "
      ]
     },
     "execution_count": 92,
     "metadata": {},
     "output_type": "execute_result"
    }
   ],
   "source": [
    "hyp_outliers = image_index[(image_index[\"Z-Score for Mean\"] > 1) & (image_index[\"Z-Score for Mean\"] < 1.7)]\n",
    "hyp_outliers"
   ]
  },
  {
   "cell_type": "code",
   "execution_count": 93,
   "id": "22428e7e",
   "metadata": {},
   "outputs": [
    {
     "data": {
      "text/html": [
       "<div>\n",
       "<style scoped>\n",
       "    .dataframe tbody tr th:only-of-type {\n",
       "        vertical-align: middle;\n",
       "    }\n",
       "\n",
       "    .dataframe tbody tr th {\n",
       "        vertical-align: top;\n",
       "    }\n",
       "\n",
       "    .dataframe thead th {\n",
       "        text-align: right;\n",
       "    }\n",
       "</style>\n",
       "<table border=\"1\" class=\"dataframe\">\n",
       "  <thead>\n",
       "    <tr style=\"text-align: right;\">\n",
       "      <th></th>\n",
       "      <th>index</th>\n",
       "      <th>Filename</th>\n",
       "      <th>URL</th>\n",
       "      <th>Array Mean</th>\n",
       "      <th>Z-Score for Mean</th>\n",
       "    </tr>\n",
       "  </thead>\n",
       "  <tbody>\n",
       "    <tr>\n",
       "      <th>0</th>\n",
       "      <td>1368</td>\n",
       "      <td>ecu-per-01368.jpeg</td>\n",
       "      <td>https://facultyweb.cs.wwu.edu/~wehrwes/courses...</td>\n",
       "      <td>199.762858</td>\n",
       "      <td>1.354815</td>\n",
       "    </tr>\n",
       "  </tbody>\n",
       "</table>\n",
       "</div>"
      ],
      "text/plain": [
       "   index            Filename  \\\n",
       "0   1368  ecu-per-01368.jpeg   \n",
       "\n",
       "                                                 URL  Array Mean  \\\n",
       "0  https://facultyweb.cs.wwu.edu/~wehrwes/courses...  199.762858   \n",
       "\n",
       "   Z-Score for Mean  \n",
       "0          1.354815  "
      ]
     },
     "execution_count": 93,
     "metadata": {},
     "output_type": "execute_result"
    }
   ],
   "source": [
    "sample = hyp_outliers.sample(n=1).reset_index()\n",
    "sample"
   ]
  },
  {
   "cell_type": "code",
   "execution_count": 94,
   "id": "6c0a92f1",
   "metadata": {},
   "outputs": [
    {
     "name": "stdout",
     "output_type": "stream",
     "text": [
      "Main df index: 1368\n"
     ]
    },
    {
     "data": {
      "text/plain": [
       "<matplotlib.image.AxesImage at 0x21873cfe550>"
      ]
     },
     "execution_count": 94,
     "metadata": {},
     "output_type": "execute_result"
    },
    {
     "data": {
      "image/png": "[encoded data removed]",
      "text/plain": [
       "<Figure size 432x288 with 1 Axes>"
      ]
     },
     "metadata": {
      "needs_background": "light"
     },
     "output_type": "display_data"
    }
   ],
   "source": [
    "print(\"Main df index: \" + str(sample[\"index\"][0]))\n",
    "plt.imshow(imageio.imread(sample[\"URL\"][0]))"
   ]
  },
  {
   "cell_type": "markdown",
   "id": "08a88d88",
   "metadata": {},
   "source": [
    "After testing this a bunch of times, I did not find a single bogus image with a z-score from 1.0 - 1.7. Let's now test 1.7 and up."
   ]
  },
  {
   "cell_type": "code",
   "execution_count": 95,
   "id": "9b9653b9",
   "metadata": {},
   "outputs": [
    {
     "data": {
      "text/html": [
       "<div>\n",
       "<style scoped>\n",
       "    .dataframe tbody tr th:only-of-type {\n",
       "        vertical-align: middle;\n",
       "    }\n",
       "\n",
       "    .dataframe tbody tr th {\n",
       "        vertical-align: top;\n",
       "    }\n",
       "\n",
       "    .dataframe thead th {\n",
       "        text-align: right;\n",
       "    }\n",
       "</style>\n",
       "<table border=\"1\" class=\"dataframe\">\n",
       "  <thead>\n",
       "    <tr style=\"text-align: right;\">\n",
       "      <th></th>\n",
       "      <th>Filename</th>\n",
       "      <th>URL</th>\n",
       "      <th>Array Mean</th>\n",
       "      <th>Z-Score for Mean</th>\n",
       "    </tr>\n",
       "  </thead>\n",
       "  <tbody>\n",
       "    <tr>\n",
       "      <th>1356</th>\n",
       "      <td>ecu-per-01356.jpeg</td>\n",
       "      <td>https://facultyweb.cs.wwu.edu/~wehrwes/courses...</td>\n",
       "      <td>232.709717</td>\n",
       "      <td>1.789147</td>\n",
       "    </tr>\n",
       "    <tr>\n",
       "      <th>1365</th>\n",
       "      <td>ecu-per-01365.jpeg</td>\n",
       "      <td>https://facultyweb.cs.wwu.edu/~wehrwes/courses...</td>\n",
       "      <td>243.180908</td>\n",
       "      <td>1.927186</td>\n",
       "    </tr>\n",
       "    <tr>\n",
       "      <th>1366</th>\n",
       "      <td>ecu-per-01366.jpeg</td>\n",
       "      <td>https://facultyweb.cs.wwu.edu/~wehrwes/courses...</td>\n",
       "      <td>248.432861</td>\n",
       "      <td>1.996422</td>\n",
       "    </tr>\n",
       "    <tr>\n",
       "      <th>1369</th>\n",
       "      <td>ecu-per-01369.jpeg</td>\n",
       "      <td>https://facultyweb.cs.wwu.edu/~wehrwes/courses...</td>\n",
       "      <td>251.110921</td>\n",
       "      <td>2.031726</td>\n",
       "    </tr>\n",
       "    <tr>\n",
       "      <th>1370</th>\n",
       "      <td>ecu-per-01370.jpeg</td>\n",
       "      <td>https://facultyweb.cs.wwu.edu/~wehrwes/courses...</td>\n",
       "      <td>245.705485</td>\n",
       "      <td>1.960467</td>\n",
       "    </tr>\n",
       "    <tr>\n",
       "      <th>...</th>\n",
       "      <td>...</td>\n",
       "      <td>...</td>\n",
       "      <td>...</td>\n",
       "      <td>...</td>\n",
       "    </tr>\n",
       "    <tr>\n",
       "      <th>2795</th>\n",
       "      <td>ecu-per-02797.jpeg</td>\n",
       "      <td>https://facultyweb.cs.wwu.edu/~wehrwes/courses...</td>\n",
       "      <td>240.626058</td>\n",
       "      <td>1.893506</td>\n",
       "    </tr>\n",
       "    <tr>\n",
       "      <th>2796</th>\n",
       "      <td>ecu-per-02798.jpeg</td>\n",
       "      <td>https://facultyweb.cs.wwu.edu/~wehrwes/courses...</td>\n",
       "      <td>240.626058</td>\n",
       "      <td>1.893506</td>\n",
       "    </tr>\n",
       "    <tr>\n",
       "      <th>2807</th>\n",
       "      <td>ecu-per-02809.jpeg</td>\n",
       "      <td>https://facultyweb.cs.wwu.edu/~wehrwes/courses...</td>\n",
       "      <td>226.405924</td>\n",
       "      <td>1.706045</td>\n",
       "    </tr>\n",
       "    <tr>\n",
       "      <th>3259</th>\n",
       "      <td>ecu-per-03261.jpeg</td>\n",
       "      <td>https://facultyweb.cs.wwu.edu/~wehrwes/courses...</td>\n",
       "      <td>228.486491</td>\n",
       "      <td>1.733473</td>\n",
       "    </tr>\n",
       "    <tr>\n",
       "      <th>3260</th>\n",
       "      <td>ecu-per-03262.jpeg</td>\n",
       "      <td>https://facultyweb.cs.wwu.edu/~wehrwes/courses...</td>\n",
       "      <td>253.434570</td>\n",
       "      <td>2.062358</td>\n",
       "    </tr>\n",
       "  </tbody>\n",
       "</table>\n",
       "<p>647 rows × 4 columns</p>\n",
       "</div>"
      ],
      "text/plain": [
       "                Filename                                                URL  \\\n",
       "1356  ecu-per-01356.jpeg  https://facultyweb.cs.wwu.edu/~wehrwes/courses...   \n",
       "1365  ecu-per-01365.jpeg  https://facultyweb.cs.wwu.edu/~wehrwes/courses...   \n",
       "1366  ecu-per-01366.jpeg  https://facultyweb.cs.wwu.edu/~wehrwes/courses...   \n",
       "1369  ecu-per-01369.jpeg  https://facultyweb.cs.wwu.edu/~wehrwes/courses...   \n",
       "1370  ecu-per-01370.jpeg  https://facultyweb.cs.wwu.edu/~wehrwes/courses...   \n",
       "...                  ...                                                ...   \n",
       "2795  ecu-per-02797.jpeg  https://facultyweb.cs.wwu.edu/~wehrwes/courses...   \n",
       "2796  ecu-per-02798.jpeg  https://facultyweb.cs.wwu.edu/~wehrwes/courses...   \n",
       "2807  ecu-per-02809.jpeg  https://facultyweb.cs.wwu.edu/~wehrwes/courses...   \n",
       "3259  ecu-per-03261.jpeg  https://facultyweb.cs.wwu.edu/~wehrwes/courses...   \n",
       "3260  ecu-per-03262.jpeg  https://facultyweb.cs.wwu.edu/~wehrwes/courses...   \n",
       "\n",
       "      Array Mean  Z-Score for Mean  \n",
       "1356  232.709717          1.789147  \n",
       "1365  243.180908          1.927186  \n",
       "1366  248.432861          1.996422  \n",
       "1369  251.110921          2.031726  \n",
       "1370  245.705485          1.960467  \n",
       "...          ...               ...  \n",
       "2795  240.626058          1.893506  \n",
       "2796  240.626058          1.893506  \n",
       "2807  226.405924          1.706045  \n",
       "3259  228.486491          1.733473  \n",
       "3260  253.434570          2.062358  \n",
       "\n",
       "[647 rows x 4 columns]"
      ]
     },
     "execution_count": 95,
     "metadata": {},
     "output_type": "execute_result"
    }
   ],
   "source": [
    "hyp_outliers = image_index[image_index[\"Z-Score for Mean\"] > 1.7]\n",
    "hyp_outliers"
   ]
  },
  {
   "cell_type": "code",
   "execution_count": 96,
   "id": "cff9ceb4",
   "metadata": {},
   "outputs": [
    {
     "data": {
      "text/html": [
       "<div>\n",
       "<style scoped>\n",
       "    .dataframe tbody tr th:only-of-type {\n",
       "        vertical-align: middle;\n",
       "    }\n",
       "\n",
       "    .dataframe tbody tr th {\n",
       "        vertical-align: top;\n",
       "    }\n",
       "\n",
       "    .dataframe thead th {\n",
       "        text-align: right;\n",
       "    }\n",
       "</style>\n",
       "<table border=\"1\" class=\"dataframe\">\n",
       "  <thead>\n",
       "    <tr style=\"text-align: right;\">\n",
       "      <th></th>\n",
       "      <th>index</th>\n",
       "      <th>Filename</th>\n",
       "      <th>URL</th>\n",
       "      <th>Array Mean</th>\n",
       "      <th>Z-Score for Mean</th>\n",
       "    </tr>\n",
       "  </thead>\n",
       "  <tbody>\n",
       "    <tr>\n",
       "      <th>0</th>\n",
       "      <td>2434</td>\n",
       "      <td>ecu-per-02436.jpeg</td>\n",
       "      <td>https://facultyweb.cs.wwu.edu/~wehrwes/courses...</td>\n",
       "      <td>240.626058</td>\n",
       "      <td>1.893506</td>\n",
       "    </tr>\n",
       "  </tbody>\n",
       "</table>\n",
       "</div>"
      ],
      "text/plain": [
       "   index            Filename  \\\n",
       "0   2434  ecu-per-02436.jpeg   \n",
       "\n",
       "                                                 URL  Array Mean  \\\n",
       "0  https://facultyweb.cs.wwu.edu/~wehrwes/courses...  240.626058   \n",
       "\n",
       "   Z-Score for Mean  \n",
       "0          1.893506  "
      ]
     },
     "execution_count": 96,
     "metadata": {},
     "output_type": "execute_result"
    }
   ],
   "source": [
    "sample = hyp_outliers.sample(n=1).reset_index()\n",
    "sample"
   ]
  },
  {
   "cell_type": "code",
   "execution_count": 97,
   "id": "d6c251c3",
   "metadata": {},
   "outputs": [
    {
     "name": "stdout",
     "output_type": "stream",
     "text": [
      "Main df index: 2434\n"
     ]
    },
    {
     "data": {
      "text/plain": [
       "<matplotlib.image.AxesImage at 0x21873d57f10>"
      ]
     },
     "execution_count": 97,
     "metadata": {},
     "output_type": "execute_result"
    },
    {
     "data": {
      "image/png": "[encoded data removed]",
      "text/plain": [
       "<Figure size 432x288 with 1 Axes>"
      ]
     },
     "metadata": {
      "needs_background": "light"
     },
     "output_type": "display_data"
    }
   ],
   "source": [
    "print(\"Main df index: \" + str(sample[\"index\"][0]))\n",
    "plt.imshow(imageio.imread(sample[\"URL\"][0]))"
   ]
  },
  {
   "cell_type": "markdown",
   "id": "8325eaf8",
   "metadata": {},
   "source": [
    "While almost all of these images tested were bogus, I found couple real images with z-scores above 2.0 and one at 1.789, meaning that it may just be images with z-scores of 1.893 that are bogus. Now I'll test between 1.8 and 1.9:"
   ]
  },
  {
   "cell_type": "code",
   "execution_count": 98,
   "id": "9ceb2269",
   "metadata": {},
   "outputs": [
    {
     "data": {
      "text/html": [
       "<div>\n",
       "<style scoped>\n",
       "    .dataframe tbody tr th:only-of-type {\n",
       "        vertical-align: middle;\n",
       "    }\n",
       "\n",
       "    .dataframe tbody tr th {\n",
       "        vertical-align: top;\n",
       "    }\n",
       "\n",
       "    .dataframe thead th {\n",
       "        text-align: right;\n",
       "    }\n",
       "</style>\n",
       "<table border=\"1\" class=\"dataframe\">\n",
       "  <thead>\n",
       "    <tr style=\"text-align: right;\">\n",
       "      <th></th>\n",
       "      <th>Filename</th>\n",
       "      <th>URL</th>\n",
       "      <th>Array Mean</th>\n",
       "      <th>Z-Score for Mean</th>\n",
       "    </tr>\n",
       "  </thead>\n",
       "  <tbody>\n",
       "    <tr>\n",
       "      <th>1482</th>\n",
       "      <td>ecu-per-01482.jpeg</td>\n",
       "      <td>https://facultyweb.cs.wwu.edu/~wehrwes/courses...</td>\n",
       "      <td>237.925863</td>\n",
       "      <td>1.857910</td>\n",
       "    </tr>\n",
       "    <tr>\n",
       "      <th>1604</th>\n",
       "      <td>ecu-per-01604.jpeg</td>\n",
       "      <td>https://facultyweb.cs.wwu.edu/~wehrwes/courses...</td>\n",
       "      <td>236.926270</td>\n",
       "      <td>1.844733</td>\n",
       "    </tr>\n",
       "    <tr>\n",
       "      <th>1781</th>\n",
       "      <td>ecu-per-01781.jpeg</td>\n",
       "      <td>https://facultyweb.cs.wwu.edu/~wehrwes/courses...</td>\n",
       "      <td>234.066325</td>\n",
       "      <td>1.807031</td>\n",
       "    </tr>\n",
       "    <tr>\n",
       "      <th>1790</th>\n",
       "      <td>ecu-per-01790.jpeg</td>\n",
       "      <td>https://facultyweb.cs.wwu.edu/~wehrwes/courses...</td>\n",
       "      <td>238.264160</td>\n",
       "      <td>1.862370</td>\n",
       "    </tr>\n",
       "    <tr>\n",
       "      <th>1823</th>\n",
       "      <td>ecu-per-01823.jpeg</td>\n",
       "      <td>https://facultyweb.cs.wwu.edu/~wehrwes/courses...</td>\n",
       "      <td>240.626058</td>\n",
       "      <td>1.893506</td>\n",
       "    </tr>\n",
       "    <tr>\n",
       "      <th>...</th>\n",
       "      <td>...</td>\n",
       "      <td>...</td>\n",
       "      <td>...</td>\n",
       "      <td>...</td>\n",
       "    </tr>\n",
       "    <tr>\n",
       "      <th>2792</th>\n",
       "      <td>ecu-per-02794.jpeg</td>\n",
       "      <td>https://facultyweb.cs.wwu.edu/~wehrwes/courses...</td>\n",
       "      <td>240.626058</td>\n",
       "      <td>1.893506</td>\n",
       "    </tr>\n",
       "    <tr>\n",
       "      <th>2793</th>\n",
       "      <td>ecu-per-02795.jpeg</td>\n",
       "      <td>https://facultyweb.cs.wwu.edu/~wehrwes/courses...</td>\n",
       "      <td>240.626058</td>\n",
       "      <td>1.893506</td>\n",
       "    </tr>\n",
       "    <tr>\n",
       "      <th>2794</th>\n",
       "      <td>ecu-per-02796.jpeg</td>\n",
       "      <td>https://facultyweb.cs.wwu.edu/~wehrwes/courses...</td>\n",
       "      <td>240.626058</td>\n",
       "      <td>1.893506</td>\n",
       "    </tr>\n",
       "    <tr>\n",
       "      <th>2795</th>\n",
       "      <td>ecu-per-02797.jpeg</td>\n",
       "      <td>https://facultyweb.cs.wwu.edu/~wehrwes/courses...</td>\n",
       "      <td>240.626058</td>\n",
       "      <td>1.893506</td>\n",
       "    </tr>\n",
       "    <tr>\n",
       "      <th>2796</th>\n",
       "      <td>ecu-per-02798.jpeg</td>\n",
       "      <td>https://facultyweb.cs.wwu.edu/~wehrwes/courses...</td>\n",
       "      <td>240.626058</td>\n",
       "      <td>1.893506</td>\n",
       "    </tr>\n",
       "  </tbody>\n",
       "</table>\n",
       "<p>616 rows × 4 columns</p>\n",
       "</div>"
      ],
      "text/plain": [
       "                Filename                                                URL  \\\n",
       "1482  ecu-per-01482.jpeg  https://facultyweb.cs.wwu.edu/~wehrwes/courses...   \n",
       "1604  ecu-per-01604.jpeg  https://facultyweb.cs.wwu.edu/~wehrwes/courses...   \n",
       "1781  ecu-per-01781.jpeg  https://facultyweb.cs.wwu.edu/~wehrwes/courses...   \n",
       "1790  ecu-per-01790.jpeg  https://facultyweb.cs.wwu.edu/~wehrwes/courses...   \n",
       "1823  ecu-per-01823.jpeg  https://facultyweb.cs.wwu.edu/~wehrwes/courses...   \n",
       "...                  ...                                                ...   \n",
       "2792  ecu-per-02794.jpeg  https://facultyweb.cs.wwu.edu/~wehrwes/courses...   \n",
       "2793  ecu-per-02795.jpeg  https://facultyweb.cs.wwu.edu/~wehrwes/courses...   \n",
       "2794  ecu-per-02796.jpeg  https://facultyweb.cs.wwu.edu/~wehrwes/courses...   \n",
       "2795  ecu-per-02797.jpeg  https://facultyweb.cs.wwu.edu/~wehrwes/courses...   \n",
       "2796  ecu-per-02798.jpeg  https://facultyweb.cs.wwu.edu/~wehrwes/courses...   \n",
       "\n",
       "      Array Mean  Z-Score for Mean  \n",
       "1482  237.925863          1.857910  \n",
       "1604  236.926270          1.844733  \n",
       "1781  234.066325          1.807031  \n",
       "1790  238.264160          1.862370  \n",
       "1823  240.626058          1.893506  \n",
       "...          ...               ...  \n",
       "2792  240.626058          1.893506  \n",
       "2793  240.626058          1.893506  \n",
       "2794  240.626058          1.893506  \n",
       "2795  240.626058          1.893506  \n",
       "2796  240.626058          1.893506  \n",
       "\n",
       "[616 rows x 4 columns]"
      ]
     },
     "execution_count": 98,
     "metadata": {},
     "output_type": "execute_result"
    }
   ],
   "source": [
    "hyp_outliers = image_index[(image_index[\"Z-Score for Mean\"] > 1.8) & (image_index[\"Z-Score for Mean\"] < 1.9)]\n",
    "hyp_outliers"
   ]
  },
  {
   "cell_type": "code",
   "execution_count": 99,
   "id": "775ded55",
   "metadata": {},
   "outputs": [
    {
     "data": {
      "text/plain": [
       "1.807031      1\n",
       "1.816651      1\n",
       "1.844733      1\n",
       "1.857910      1\n",
       "1.862370      1\n",
       "1.893506    611\n",
       "Name: Z-Score for Mean, dtype: int64"
      ]
     },
     "execution_count": 99,
     "metadata": {},
     "output_type": "execute_result"
    }
   ],
   "source": [
    "hyp_outliers[\"Z-Score for Mean\"].value_counts().sort_index()"
   ]
  },
  {
   "cell_type": "markdown",
   "id": "3b9a3ac4",
   "metadata": {},
   "source": [
    "Aw there's so many of them that testing just the values that are 1.893506 might be smart to conclude that those are just the outliers. Let's test that and then and then quickly test the other 5."
   ]
  },
  {
   "cell_type": "code",
   "execution_count": 100,
   "id": "860d176d",
   "metadata": {},
   "outputs": [
    {
     "data": {
      "text/html": [
       "<div>\n",
       "<style scoped>\n",
       "    .dataframe tbody tr th:only-of-type {\n",
       "        vertical-align: middle;\n",
       "    }\n",
       "\n",
       "    .dataframe tbody tr th {\n",
       "        vertical-align: top;\n",
       "    }\n",
       "\n",
       "    .dataframe thead th {\n",
       "        text-align: right;\n",
       "    }\n",
       "</style>\n",
       "<table border=\"1\" class=\"dataframe\">\n",
       "  <thead>\n",
       "    <tr style=\"text-align: right;\">\n",
       "      <th></th>\n",
       "      <th>Filename</th>\n",
       "      <th>URL</th>\n",
       "      <th>Array Mean</th>\n",
       "      <th>Z-Score for Mean</th>\n",
       "    </tr>\n",
       "  </thead>\n",
       "  <tbody>\n",
       "    <tr>\n",
       "      <th>1823</th>\n",
       "      <td>ecu-per-01823.jpeg</td>\n",
       "      <td>https://facultyweb.cs.wwu.edu/~wehrwes/courses...</td>\n",
       "      <td>240.626058</td>\n",
       "      <td>1.893506</td>\n",
       "    </tr>\n",
       "    <tr>\n",
       "      <th>1824</th>\n",
       "      <td>ecu-per-01824.jpeg</td>\n",
       "      <td>https://facultyweb.cs.wwu.edu/~wehrwes/courses...</td>\n",
       "      <td>240.626058</td>\n",
       "      <td>1.893506</td>\n",
       "    </tr>\n",
       "    <tr>\n",
       "      <th>1825</th>\n",
       "      <td>ecu-per-01825.jpeg</td>\n",
       "      <td>https://facultyweb.cs.wwu.edu/~wehrwes/courses...</td>\n",
       "      <td>240.626058</td>\n",
       "      <td>1.893506</td>\n",
       "    </tr>\n",
       "    <tr>\n",
       "      <th>1826</th>\n",
       "      <td>ecu-per-01826.jpeg</td>\n",
       "      <td>https://facultyweb.cs.wwu.edu/~wehrwes/courses...</td>\n",
       "      <td>240.626058</td>\n",
       "      <td>1.893506</td>\n",
       "    </tr>\n",
       "    <tr>\n",
       "      <th>1827</th>\n",
       "      <td>ecu-per-01827.jpeg</td>\n",
       "      <td>https://facultyweb.cs.wwu.edu/~wehrwes/courses...</td>\n",
       "      <td>240.626058</td>\n",
       "      <td>1.893506</td>\n",
       "    </tr>\n",
       "    <tr>\n",
       "      <th>...</th>\n",
       "      <td>...</td>\n",
       "      <td>...</td>\n",
       "      <td>...</td>\n",
       "      <td>...</td>\n",
       "    </tr>\n",
       "    <tr>\n",
       "      <th>2792</th>\n",
       "      <td>ecu-per-02794.jpeg</td>\n",
       "      <td>https://facultyweb.cs.wwu.edu/~wehrwes/courses...</td>\n",
       "      <td>240.626058</td>\n",
       "      <td>1.893506</td>\n",
       "    </tr>\n",
       "    <tr>\n",
       "      <th>2793</th>\n",
       "      <td>ecu-per-02795.jpeg</td>\n",
       "      <td>https://facultyweb.cs.wwu.edu/~wehrwes/courses...</td>\n",
       "      <td>240.626058</td>\n",
       "      <td>1.893506</td>\n",
       "    </tr>\n",
       "    <tr>\n",
       "      <th>2794</th>\n",
       "      <td>ecu-per-02796.jpeg</td>\n",
       "      <td>https://facultyweb.cs.wwu.edu/~wehrwes/courses...</td>\n",
       "      <td>240.626058</td>\n",
       "      <td>1.893506</td>\n",
       "    </tr>\n",
       "    <tr>\n",
       "      <th>2795</th>\n",
       "      <td>ecu-per-02797.jpeg</td>\n",
       "      <td>https://facultyweb.cs.wwu.edu/~wehrwes/courses...</td>\n",
       "      <td>240.626058</td>\n",
       "      <td>1.893506</td>\n",
       "    </tr>\n",
       "    <tr>\n",
       "      <th>2796</th>\n",
       "      <td>ecu-per-02798.jpeg</td>\n",
       "      <td>https://facultyweb.cs.wwu.edu/~wehrwes/courses...</td>\n",
       "      <td>240.626058</td>\n",
       "      <td>1.893506</td>\n",
       "    </tr>\n",
       "  </tbody>\n",
       "</table>\n",
       "<p>611 rows × 4 columns</p>\n",
       "</div>"
      ],
      "text/plain": [
       "                Filename                                                URL  \\\n",
       "1823  ecu-per-01823.jpeg  https://facultyweb.cs.wwu.edu/~wehrwes/courses...   \n",
       "1824  ecu-per-01824.jpeg  https://facultyweb.cs.wwu.edu/~wehrwes/courses...   \n",
       "1825  ecu-per-01825.jpeg  https://facultyweb.cs.wwu.edu/~wehrwes/courses...   \n",
       "1826  ecu-per-01826.jpeg  https://facultyweb.cs.wwu.edu/~wehrwes/courses...   \n",
       "1827  ecu-per-01827.jpeg  https://facultyweb.cs.wwu.edu/~wehrwes/courses...   \n",
       "...                  ...                                                ...   \n",
       "2792  ecu-per-02794.jpeg  https://facultyweb.cs.wwu.edu/~wehrwes/courses...   \n",
       "2793  ecu-per-02795.jpeg  https://facultyweb.cs.wwu.edu/~wehrwes/courses...   \n",
       "2794  ecu-per-02796.jpeg  https://facultyweb.cs.wwu.edu/~wehrwes/courses...   \n",
       "2795  ecu-per-02797.jpeg  https://facultyweb.cs.wwu.edu/~wehrwes/courses...   \n",
       "2796  ecu-per-02798.jpeg  https://facultyweb.cs.wwu.edu/~wehrwes/courses...   \n",
       "\n",
       "      Array Mean  Z-Score for Mean  \n",
       "1823  240.626058          1.893506  \n",
       "1824  240.626058          1.893506  \n",
       "1825  240.626058          1.893506  \n",
       "1826  240.626058          1.893506  \n",
       "1827  240.626058          1.893506  \n",
       "...          ...               ...  \n",
       "2792  240.626058          1.893506  \n",
       "2793  240.626058          1.893506  \n",
       "2794  240.626058          1.893506  \n",
       "2795  240.626058          1.893506  \n",
       "2796  240.626058          1.893506  \n",
       "\n",
       "[611 rows x 4 columns]"
      ]
     },
     "execution_count": 100,
     "metadata": {},
     "output_type": "execute_result"
    }
   ],
   "source": [
    "just189values = hyp_outliers[hyp_outliers[\"Z-Score for Mean\"] > 1.87]\n",
    "just189values"
   ]
  },
  {
   "cell_type": "code",
   "execution_count": 101,
   "id": "b3262748",
   "metadata": {},
   "outputs": [
    {
     "data": {
      "text/html": [
       "<div>\n",
       "<style scoped>\n",
       "    .dataframe tbody tr th:only-of-type {\n",
       "        vertical-align: middle;\n",
       "    }\n",
       "\n",
       "    .dataframe tbody tr th {\n",
       "        vertical-align: top;\n",
       "    }\n",
       "\n",
       "    .dataframe thead th {\n",
       "        text-align: right;\n",
       "    }\n",
       "</style>\n",
       "<table border=\"1\" class=\"dataframe\">\n",
       "  <thead>\n",
       "    <tr style=\"text-align: right;\">\n",
       "      <th></th>\n",
       "      <th>index</th>\n",
       "      <th>Filename</th>\n",
       "      <th>URL</th>\n",
       "      <th>Array Mean</th>\n",
       "      <th>Z-Score for Mean</th>\n",
       "    </tr>\n",
       "  </thead>\n",
       "  <tbody>\n",
       "    <tr>\n",
       "      <th>0</th>\n",
       "      <td>1880</td>\n",
       "      <td>ecu-per-01880.jpeg</td>\n",
       "      <td>https://facultyweb.cs.wwu.edu/~wehrwes/courses...</td>\n",
       "      <td>240.626058</td>\n",
       "      <td>1.893506</td>\n",
       "    </tr>\n",
       "  </tbody>\n",
       "</table>\n",
       "</div>"
      ],
      "text/plain": [
       "   index            Filename  \\\n",
       "0   1880  ecu-per-01880.jpeg   \n",
       "\n",
       "                                                 URL  Array Mean  \\\n",
       "0  https://facultyweb.cs.wwu.edu/~wehrwes/courses...  240.626058   \n",
       "\n",
       "   Z-Score for Mean  \n",
       "0          1.893506  "
      ]
     },
     "execution_count": 101,
     "metadata": {},
     "output_type": "execute_result"
    }
   ],
   "source": [
    "sample = just189values.sample(n=1).reset_index()\n",
    "sample"
   ]
  },
  {
   "cell_type": "code",
   "execution_count": 102,
   "id": "e53918ac",
   "metadata": {},
   "outputs": [
    {
     "name": "stdout",
     "output_type": "stream",
     "text": [
      "Main df index: 1880\n"
     ]
    },
    {
     "data": {
      "text/plain": [
       "<matplotlib.image.AxesImage at 0x21873dc10a0>"
      ]
     },
     "execution_count": 102,
     "metadata": {},
     "output_type": "execute_result"
    },
    {
     "data": {
      "image/png": "[encoded data removed]",
      "text/plain": [
       "<Figure size 432x288 with 1 Axes>"
      ]
     },
     "metadata": {
      "needs_background": "light"
     },
     "output_type": "display_data"
    }
   ],
   "source": [
    "print(\"Main df index: \" + str(sample[\"index\"][0]))\n",
    "plt.imshow(imageio.imread(sample[\"URL\"][0]))"
   ]
  },
  {
   "cell_type": "markdown",
   "id": "fbb5a035",
   "metadata": {},
   "source": [
    "After a lot of testing, I'm certain that all of these images are outliers."
   ]
  },
  {
   "cell_type": "markdown",
   "id": "0105f243",
   "metadata": {},
   "source": [
    "Lets test the other 5 real quick:"
   ]
  },
  {
   "cell_type": "code",
   "execution_count": 103,
   "id": "cf472177",
   "metadata": {},
   "outputs": [
    {
     "data": {
      "text/html": [
       "<div>\n",
       "<style scoped>\n",
       "    .dataframe tbody tr th:only-of-type {\n",
       "        vertical-align: middle;\n",
       "    }\n",
       "\n",
       "    .dataframe tbody tr th {\n",
       "        vertical-align: top;\n",
       "    }\n",
       "\n",
       "    .dataframe thead th {\n",
       "        text-align: right;\n",
       "    }\n",
       "</style>\n",
       "<table border=\"1\" class=\"dataframe\">\n",
       "  <thead>\n",
       "    <tr style=\"text-align: right;\">\n",
       "      <th></th>\n",
       "      <th>index</th>\n",
       "      <th>Filename</th>\n",
       "      <th>URL</th>\n",
       "      <th>Array Mean</th>\n",
       "      <th>Z-Score for Mean</th>\n",
       "    </tr>\n",
       "  </thead>\n",
       "  <tbody>\n",
       "    <tr>\n",
       "      <th>0</th>\n",
       "      <td>1482</td>\n",
       "      <td>ecu-per-01482.jpeg</td>\n",
       "      <td>https://facultyweb.cs.wwu.edu/~wehrwes/courses...</td>\n",
       "      <td>237.925863</td>\n",
       "      <td>1.857910</td>\n",
       "    </tr>\n",
       "    <tr>\n",
       "      <th>1</th>\n",
       "      <td>1604</td>\n",
       "      <td>ecu-per-01604.jpeg</td>\n",
       "      <td>https://facultyweb.cs.wwu.edu/~wehrwes/courses...</td>\n",
       "      <td>236.926270</td>\n",
       "      <td>1.844733</td>\n",
       "    </tr>\n",
       "    <tr>\n",
       "      <th>2</th>\n",
       "      <td>1781</td>\n",
       "      <td>ecu-per-01781.jpeg</td>\n",
       "      <td>https://facultyweb.cs.wwu.edu/~wehrwes/courses...</td>\n",
       "      <td>234.066325</td>\n",
       "      <td>1.807031</td>\n",
       "    </tr>\n",
       "    <tr>\n",
       "      <th>3</th>\n",
       "      <td>1790</td>\n",
       "      <td>ecu-per-01790.jpeg</td>\n",
       "      <td>https://facultyweb.cs.wwu.edu/~wehrwes/courses...</td>\n",
       "      <td>238.264160</td>\n",
       "      <td>1.862370</td>\n",
       "    </tr>\n",
       "    <tr>\n",
       "      <th>4</th>\n",
       "      <td>2067</td>\n",
       "      <td>ecu-per-02067.jpeg</td>\n",
       "      <td>https://facultyweb.cs.wwu.edu/~wehrwes/courses...</td>\n",
       "      <td>234.796061</td>\n",
       "      <td>1.816651</td>\n",
       "    </tr>\n",
       "  </tbody>\n",
       "</table>\n",
       "</div>"
      ],
      "text/plain": [
       "   index            Filename  \\\n",
       "0   1482  ecu-per-01482.jpeg   \n",
       "1   1604  ecu-per-01604.jpeg   \n",
       "2   1781  ecu-per-01781.jpeg   \n",
       "3   1790  ecu-per-01790.jpeg   \n",
       "4   2067  ecu-per-02067.jpeg   \n",
       "\n",
       "                                                 URL  Array Mean  \\\n",
       "0  https://facultyweb.cs.wwu.edu/~wehrwes/courses...  237.925863   \n",
       "1  https://facultyweb.cs.wwu.edu/~wehrwes/courses...  236.926270   \n",
       "2  https://facultyweb.cs.wwu.edu/~wehrwes/courses...  234.066325   \n",
       "3  https://facultyweb.cs.wwu.edu/~wehrwes/courses...  238.264160   \n",
       "4  https://facultyweb.cs.wwu.edu/~wehrwes/courses...  234.796061   \n",
       "\n",
       "   Z-Score for Mean  \n",
       "0          1.857910  \n",
       "1          1.844733  \n",
       "2          1.807031  \n",
       "3          1.862370  \n",
       "4          1.816651  "
      ]
     },
     "execution_count": 103,
     "metadata": {},
     "output_type": "execute_result"
    }
   ],
   "source": [
    "otherValues = hyp_outliers[hyp_outliers[\"Z-Score for Mean\"] < 1.89].reset_index()\n",
    "otherValues"
   ]
  },
  {
   "cell_type": "code",
   "execution_count": 104,
   "id": "08d8ee44",
   "metadata": {},
   "outputs": [
    {
     "name": "stdout",
     "output_type": "stream",
     "text": [
      "Main df index: 1482\n"
     ]
    },
    {
     "data": {
      "text/plain": [
       "<matplotlib.image.AxesImage at 0x21873e19550>"
      ]
     },
     "execution_count": 104,
     "metadata": {},
     "output_type": "execute_result"
    },
    {
     "data": {
      "image/png": "[encoded data removed]",
      "text/plain": [
       "<Figure size 432x288 with 1 Axes>"
      ]
     },
     "metadata": {
      "needs_background": "light"
     },
     "output_type": "display_data"
    }
   ],
   "source": [
    "print(\"Main df index: \" + str(otherValues[\"index\"][0]))\n",
    "plt.imshow(imageio.imread(otherValues[\"URL\"][0]))"
   ]
  },
  {
   "cell_type": "code",
   "execution_count": 105,
   "id": "3f32150b",
   "metadata": {},
   "outputs": [
    {
     "name": "stdout",
     "output_type": "stream",
     "text": [
      "Main df index: 1604\n"
     ]
    },
    {
     "data": {
      "text/plain": [
       "<matplotlib.image.AxesImage at 0x21873e74700>"
      ]
     },
     "execution_count": 105,
     "metadata": {},
     "output_type": "execute_result"
    },
    {
     "data": {
      "image/png": "[encoded data removed]",
      "text/plain": [
       "<Figure size 432x288 with 1 Axes>"
      ]
     },
     "metadata": {
      "needs_background": "light"
     },
     "output_type": "display_data"
    }
   ],
   "source": [
    "print(\"Main df index: \" + str(otherValues[\"index\"][1]))\n",
    "plt.imshow(imageio.imread(otherValues[\"URL\"][1]))"
   ]
  },
  {
   "cell_type": "code",
   "execution_count": 106,
   "id": "ad94d67e",
   "metadata": {},
   "outputs": [
    {
     "name": "stdout",
     "output_type": "stream",
     "text": [
      "Main df index: 1781\n"
     ]
    },
    {
     "data": {
      "text/plain": [
       "<matplotlib.image.AxesImage at 0x21873ecd880>"
      ]
     },
     "execution_count": 106,
     "metadata": {},
     "output_type": "execute_result"
    },
    {
     "data": {
      "image/png": "[encoded data removed]",
      "text/plain": [
       "<Figure size 432x288 with 1 Axes>"
      ]
     },
     "metadata": {
      "needs_background": "light"
     },
     "output_type": "display_data"
    }
   ],
   "source": [
    "print(\"Main df index: \" + str(otherValues[\"index\"][2]))\n",
    "plt.imshow(imageio.imread(otherValues[\"URL\"][2]))"
   ]
  },
  {
   "cell_type": "code",
   "execution_count": 107,
   "id": "f57c0677",
   "metadata": {},
   "outputs": [
    {
     "name": "stdout",
     "output_type": "stream",
     "text": [
      "Main df index: 1790\n"
     ]
    },
    {
     "data": {
      "text/plain": [
       "<matplotlib.image.AxesImage at 0x21873f29a00>"
      ]
     },
     "execution_count": 107,
     "metadata": {},
     "output_type": "execute_result"
    },
    {
     "data": {
      "image/png": "[encoded data removed]",
      "text/plain": [
       "<Figure size 432x288 with 1 Axes>"
      ]
     },
     "metadata": {
      "needs_background": "light"
     },
     "output_type": "display_data"
    }
   ],
   "source": [
    "print(\"Main df index: \" + str(otherValues[\"index\"][3]))\n",
    "plt.imshow(imageio.imread(otherValues[\"URL\"][3]))"
   ]
  },
  {
   "cell_type": "code",
   "execution_count": 108,
   "id": "39018044",
   "metadata": {},
   "outputs": [
    {
     "name": "stdout",
     "output_type": "stream",
     "text": [
      "Main df index: 2067\n"
     ]
    },
    {
     "data": {
      "text/plain": [
       "<matplotlib.image.AxesImage at 0x21873f81be0>"
      ]
     },
     "execution_count": 108,
     "metadata": {},
     "output_type": "execute_result"
    },
    {
     "data": {
      "image/png": "[encoded data removed]",
      "text/plain": [
       "<Figure size 432x288 with 1 Axes>"
      ]
     },
     "metadata": {
      "needs_background": "light"
     },
     "output_type": "display_data"
    }
   ],
   "source": [
    "print(\"Main df index: \" + str(otherValues[\"index\"][4]))\n",
    "plt.imshow(imageio.imread(otherValues[\"URL\"][4]))"
   ]
  },
  {
   "cell_type": "markdown",
   "id": "09a0c33f",
   "metadata": {},
   "source": [
    "Alright, all of those images were not bogus, and the others that had z-scores of 1.89 were. Just to be extra thorough, I want to test the other images above 1.89 as well because those ones are really far from the mean of the set as well."
   ]
  },
  {
   "cell_type": "code",
   "execution_count": 109,
   "id": "e35f7193",
   "metadata": {},
   "outputs": [
    {
     "data": {
      "text/html": [
       "<div>\n",
       "<style scoped>\n",
       "    .dataframe tbody tr th:only-of-type {\n",
       "        vertical-align: middle;\n",
       "    }\n",
       "\n",
       "    .dataframe tbody tr th {\n",
       "        vertical-align: top;\n",
       "    }\n",
       "\n",
       "    .dataframe thead th {\n",
       "        text-align: right;\n",
       "    }\n",
       "</style>\n",
       "<table border=\"1\" class=\"dataframe\">\n",
       "  <thead>\n",
       "    <tr style=\"text-align: right;\">\n",
       "      <th></th>\n",
       "      <th>Filename</th>\n",
       "      <th>URL</th>\n",
       "      <th>Array Mean</th>\n",
       "      <th>Z-Score for Mean</th>\n",
       "    </tr>\n",
       "  </thead>\n",
       "  <tbody>\n",
       "    <tr>\n",
       "      <th>1365</th>\n",
       "      <td>ecu-per-01365.jpeg</td>\n",
       "      <td>https://facultyweb.cs.wwu.edu/~wehrwes/courses...</td>\n",
       "      <td>243.180908</td>\n",
       "      <td>1.927186</td>\n",
       "    </tr>\n",
       "    <tr>\n",
       "      <th>1366</th>\n",
       "      <td>ecu-per-01366.jpeg</td>\n",
       "      <td>https://facultyweb.cs.wwu.edu/~wehrwes/courses...</td>\n",
       "      <td>248.432861</td>\n",
       "      <td>1.996422</td>\n",
       "    </tr>\n",
       "    <tr>\n",
       "      <th>1369</th>\n",
       "      <td>ecu-per-01369.jpeg</td>\n",
       "      <td>https://facultyweb.cs.wwu.edu/~wehrwes/courses...</td>\n",
       "      <td>251.110921</td>\n",
       "      <td>2.031726</td>\n",
       "    </tr>\n",
       "    <tr>\n",
       "      <th>1370</th>\n",
       "      <td>ecu-per-01370.jpeg</td>\n",
       "      <td>https://facultyweb.cs.wwu.edu/~wehrwes/courses...</td>\n",
       "      <td>245.705485</td>\n",
       "      <td>1.960467</td>\n",
       "    </tr>\n",
       "    <tr>\n",
       "      <th>1379</th>\n",
       "      <td>ecu-per-01379.jpeg</td>\n",
       "      <td>https://facultyweb.cs.wwu.edu/~wehrwes/courses...</td>\n",
       "      <td>241.873128</td>\n",
       "      <td>1.909946</td>\n",
       "    </tr>\n",
       "    <tr>\n",
       "      <th>1483</th>\n",
       "      <td>ecu-per-01483.jpeg</td>\n",
       "      <td>https://facultyweb.cs.wwu.edu/~wehrwes/courses...</td>\n",
       "      <td>251.304688</td>\n",
       "      <td>2.034281</td>\n",
       "    </tr>\n",
       "    <tr>\n",
       "      <th>1631</th>\n",
       "      <td>ecu-per-01631.jpeg</td>\n",
       "      <td>https://facultyweb.cs.wwu.edu/~wehrwes/courses...</td>\n",
       "      <td>243.153320</td>\n",
       "      <td>1.926823</td>\n",
       "    </tr>\n",
       "    <tr>\n",
       "      <th>1633</th>\n",
       "      <td>ecu-per-01633.jpeg</td>\n",
       "      <td>https://facultyweb.cs.wwu.edu/~wehrwes/courses...</td>\n",
       "      <td>253.334310</td>\n",
       "      <td>2.061037</td>\n",
       "    </tr>\n",
       "    <tr>\n",
       "      <th>1634</th>\n",
       "      <td>ecu-per-01634.jpeg</td>\n",
       "      <td>https://facultyweb.cs.wwu.edu/~wehrwes/courses...</td>\n",
       "      <td>252.173258</td>\n",
       "      <td>2.045731</td>\n",
       "    </tr>\n",
       "    <tr>\n",
       "      <th>1783</th>\n",
       "      <td>ecu-per-01783.jpeg</td>\n",
       "      <td>https://facultyweb.cs.wwu.edu/~wehrwes/courses...</td>\n",
       "      <td>244.582031</td>\n",
       "      <td>1.945657</td>\n",
       "    </tr>\n",
       "    <tr>\n",
       "      <th>1784</th>\n",
       "      <td>ecu-per-01784.jpeg</td>\n",
       "      <td>https://facultyweb.cs.wwu.edu/~wehrwes/courses...</td>\n",
       "      <td>252.720785</td>\n",
       "      <td>2.052949</td>\n",
       "    </tr>\n",
       "    <tr>\n",
       "      <th>1785</th>\n",
       "      <td>ecu-per-01785.jpeg</td>\n",
       "      <td>https://facultyweb.cs.wwu.edu/~wehrwes/courses...</td>\n",
       "      <td>254.000000</td>\n",
       "      <td>2.069812</td>\n",
       "    </tr>\n",
       "    <tr>\n",
       "      <th>1787</th>\n",
       "      <td>ecu-per-01787.jpeg</td>\n",
       "      <td>https://facultyweb.cs.wwu.edu/~wehrwes/courses...</td>\n",
       "      <td>251.502035</td>\n",
       "      <td>2.036882</td>\n",
       "    </tr>\n",
       "    <tr>\n",
       "      <th>1788</th>\n",
       "      <td>ecu-per-01788.jpeg</td>\n",
       "      <td>https://facultyweb.cs.wwu.edu/~wehrwes/courses...</td>\n",
       "      <td>253.536865</td>\n",
       "      <td>2.063707</td>\n",
       "    </tr>\n",
       "    <tr>\n",
       "      <th>1789</th>\n",
       "      <td>ecu-per-01789.jpeg</td>\n",
       "      <td>https://facultyweb.cs.wwu.edu/~wehrwes/courses...</td>\n",
       "      <td>253.388753</td>\n",
       "      <td>2.061754</td>\n",
       "    </tr>\n",
       "    <tr>\n",
       "      <th>1791</th>\n",
       "      <td>ecu-per-01791.jpeg</td>\n",
       "      <td>https://facultyweb.cs.wwu.edu/~wehrwes/courses...</td>\n",
       "      <td>254.000000</td>\n",
       "      <td>2.069812</td>\n",
       "    </tr>\n",
       "    <tr>\n",
       "      <th>1792</th>\n",
       "      <td>ecu-per-01792.jpeg</td>\n",
       "      <td>https://facultyweb.cs.wwu.edu/~wehrwes/courses...</td>\n",
       "      <td>253.940755</td>\n",
       "      <td>2.069031</td>\n",
       "    </tr>\n",
       "    <tr>\n",
       "      <th>1793</th>\n",
       "      <td>ecu-per-01793.jpeg</td>\n",
       "      <td>https://facultyweb.cs.wwu.edu/~wehrwes/courses...</td>\n",
       "      <td>246.566081</td>\n",
       "      <td>1.971812</td>\n",
       "    </tr>\n",
       "    <tr>\n",
       "      <th>2078</th>\n",
       "      <td>ecu-per-02078.jpeg</td>\n",
       "      <td>https://facultyweb.cs.wwu.edu/~wehrwes/courses...</td>\n",
       "      <td>244.027507</td>\n",
       "      <td>1.938347</td>\n",
       "    </tr>\n",
       "    <tr>\n",
       "      <th>2282</th>\n",
       "      <td>ecu-per-02284.jpeg</td>\n",
       "      <td>https://facultyweb.cs.wwu.edu/~wehrwes/courses...</td>\n",
       "      <td>247.331543</td>\n",
       "      <td>1.981903</td>\n",
       "    </tr>\n",
       "    <tr>\n",
       "      <th>2541</th>\n",
       "      <td>ecu-per-02543.jpeg</td>\n",
       "      <td>https://facultyweb.cs.wwu.edu/~wehrwes/courses...</td>\n",
       "      <td>247.644857</td>\n",
       "      <td>1.986034</td>\n",
       "    </tr>\n",
       "    <tr>\n",
       "      <th>2542</th>\n",
       "      <td>ecu-per-02544.jpeg</td>\n",
       "      <td>https://facultyweb.cs.wwu.edu/~wehrwes/courses...</td>\n",
       "      <td>251.106934</td>\n",
       "      <td>2.031674</td>\n",
       "    </tr>\n",
       "    <tr>\n",
       "      <th>2543</th>\n",
       "      <td>ecu-per-02545.jpeg</td>\n",
       "      <td>https://facultyweb.cs.wwu.edu/~wehrwes/courses...</td>\n",
       "      <td>249.881917</td>\n",
       "      <td>2.015524</td>\n",
       "    </tr>\n",
       "    <tr>\n",
       "      <th>3260</th>\n",
       "      <td>ecu-per-03262.jpeg</td>\n",
       "      <td>https://facultyweb.cs.wwu.edu/~wehrwes/courses...</td>\n",
       "      <td>253.434570</td>\n",
       "      <td>2.062358</td>\n",
       "    </tr>\n",
       "  </tbody>\n",
       "</table>\n",
       "</div>"
      ],
      "text/plain": [
       "                Filename                                                URL  \\\n",
       "1365  ecu-per-01365.jpeg  https://facultyweb.cs.wwu.edu/~wehrwes/courses...   \n",
       "1366  ecu-per-01366.jpeg  https://facultyweb.cs.wwu.edu/~wehrwes/courses...   \n",
       "1369  ecu-per-01369.jpeg  https://facultyweb.cs.wwu.edu/~wehrwes/courses...   \n",
       "1370  ecu-per-01370.jpeg  https://facultyweb.cs.wwu.edu/~wehrwes/courses...   \n",
       "1379  ecu-per-01379.jpeg  https://facultyweb.cs.wwu.edu/~wehrwes/courses...   \n",
       "1483  ecu-per-01483.jpeg  https://facultyweb.cs.wwu.edu/~wehrwes/courses...   \n",
       "1631  ecu-per-01631.jpeg  https://facultyweb.cs.wwu.edu/~wehrwes/courses...   \n",
       "1633  ecu-per-01633.jpeg  https://facultyweb.cs.wwu.edu/~wehrwes/courses...   \n",
       "1634  ecu-per-01634.jpeg  https://facultyweb.cs.wwu.edu/~wehrwes/courses...   \n",
       "1783  ecu-per-01783.jpeg  https://facultyweb.cs.wwu.edu/~wehrwes/courses...   \n",
       "1784  ecu-per-01784.jpeg  https://facultyweb.cs.wwu.edu/~wehrwes/courses...   \n",
       "1785  ecu-per-01785.jpeg  https://facultyweb.cs.wwu.edu/~wehrwes/courses...   \n",
       "1787  ecu-per-01787.jpeg  https://facultyweb.cs.wwu.edu/~wehrwes/courses...   \n",
       "1788  ecu-per-01788.jpeg  https://facultyweb.cs.wwu.edu/~wehrwes/courses...   \n",
       "1789  ecu-per-01789.jpeg  https://facultyweb.cs.wwu.edu/~wehrwes/courses...   \n",
       "1791  ecu-per-01791.jpeg  https://facultyweb.cs.wwu.edu/~wehrwes/courses...   \n",
       "1792  ecu-per-01792.jpeg  https://facultyweb.cs.wwu.edu/~wehrwes/courses...   \n",
       "1793  ecu-per-01793.jpeg  https://facultyweb.cs.wwu.edu/~wehrwes/courses...   \n",
       "2078  ecu-per-02078.jpeg  https://facultyweb.cs.wwu.edu/~wehrwes/courses...   \n",
       "2282  ecu-per-02284.jpeg  https://facultyweb.cs.wwu.edu/~wehrwes/courses...   \n",
       "2541  ecu-per-02543.jpeg  https://facultyweb.cs.wwu.edu/~wehrwes/courses...   \n",
       "2542  ecu-per-02544.jpeg  https://facultyweb.cs.wwu.edu/~wehrwes/courses...   \n",
       "2543  ecu-per-02545.jpeg  https://facultyweb.cs.wwu.edu/~wehrwes/courses...   \n",
       "3260  ecu-per-03262.jpeg  https://facultyweb.cs.wwu.edu/~wehrwes/courses...   \n",
       "\n",
       "      Array Mean  Z-Score for Mean  \n",
       "1365  243.180908          1.927186  \n",
       "1366  248.432861          1.996422  \n",
       "1369  251.110921          2.031726  \n",
       "1370  245.705485          1.960467  \n",
       "1379  241.873128          1.909946  \n",
       "1483  251.304688          2.034281  \n",
       "1631  243.153320          1.926823  \n",
       "1633  253.334310          2.061037  \n",
       "1634  252.173258          2.045731  \n",
       "1783  244.582031          1.945657  \n",
       "1784  252.720785          2.052949  \n",
       "1785  254.000000          2.069812  \n",
       "1787  251.502035          2.036882  \n",
       "1788  253.536865          2.063707  \n",
       "1789  253.388753          2.061754  \n",
       "1791  254.000000          2.069812  \n",
       "1792  253.940755          2.069031  \n",
       "1793  246.566081          1.971812  \n",
       "2078  244.027507          1.938347  \n",
       "2282  247.331543          1.981903  \n",
       "2541  247.644857          1.986034  \n",
       "2542  251.106934          2.031674  \n",
       "2543  249.881917          2.015524  \n",
       "3260  253.434570          2.062358  "
      ]
     },
     "execution_count": 109,
     "metadata": {},
     "output_type": "execute_result"
    }
   ],
   "source": [
    "hyp_outliers = image_index[(image_index[\"Z-Score for Mean\"] > 1.893507)]\n",
    "hyp_outliers"
   ]
  },
  {
   "cell_type": "code",
   "execution_count": 110,
   "id": "01902f8f",
   "metadata": {},
   "outputs": [
    {
     "name": "stdout",
     "output_type": "stream",
     "text": [
      "Main df index: 2542\n"
     ]
    },
    {
     "data": {
      "text/plain": [
       "<matplotlib.image.AxesImage at 0x21873fe2ac0>"
      ]
     },
     "execution_count": 110,
     "metadata": {},
     "output_type": "execute_result"
    },
    {
     "data": {
      "image/png": "[encoded data removed]",
      "text/plain": [
       "<Figure size 432x288 with 1 Axes>"
      ]
     },
     "metadata": {
      "needs_background": "light"
     },
     "output_type": "display_data"
    }
   ],
   "source": [
    "sample = hyp_outliers.sample(n=1).reset_index()\n",
    "sample\n",
    "print(\"Main df index: \" + str(sample[\"index\"][0]))\n",
    "plt.imshow(imageio.imread(sample[\"URL\"][0]))"
   ]
  },
  {
   "cell_type": "markdown",
   "id": "d6ebd850",
   "metadata": {},
   "source": [
    "After testing a bunch, I didn't find any outliers. The reason the scores for all these images are so much higher than the rest is because they are very bright images, therefore the mean of the values in their corresponding arrays are much higher."
   ]
  },
  {
   "cell_type": "markdown",
   "id": "0908647e",
   "metadata": {},
   "source": [
    "So I've determined that **all the images who's mean values for the values inside their corresponding arrays when compared to the average mean of all the arrays have z-scores of approximately 1.893506**."
   ]
  },
  {
   "cell_type": "markdown",
   "id": "6a3cca15",
   "metadata": {},
   "source": [
    "I would go ahead and make the inlier category right now, but I actually found some other outliers too that dont have these same properties."
   ]
  },
  {
   "cell_type": "markdown",
   "id": "b158cc48",
   "metadata": {},
   "source": [
    "All the above analysis is what I did once I really sat down to do this lab, but one day earlier in the week I had a few minutes in between my classes so I was just playing around with this dataset. The first thought I had was to see if I could find any outliers quickly by just looking at the shape of all of the images.\n",
    "(Note, this is before I had the forethought to only look at a small sample my dataframe, but in this case it worked out because I found only two outliers and I'm unsure if a random sampling would have found them given that there are only two.)"
   ]
  },
  {
   "cell_type": "code",
   "execution_count": 111,
   "id": "1a3ad3ce",
   "metadata": {},
   "outputs": [],
   "source": [
    "def size(url):\n",
    "    shape = imageio.imread(url).shape\n",
    "    return shape"
   ]
  },
  {
   "cell_type": "code",
   "execution_count": 112,
   "id": "0a57d521",
   "metadata": {},
   "outputs": [
    {
     "data": {
      "text/html": [
       "<div>\n",
       "<style scoped>\n",
       "    .dataframe tbody tr th:only-of-type {\n",
       "        vertical-align: middle;\n",
       "    }\n",
       "\n",
       "    .dataframe tbody tr th {\n",
       "        vertical-align: top;\n",
       "    }\n",
       "\n",
       "    .dataframe thead th {\n",
       "        text-align: right;\n",
       "    }\n",
       "</style>\n",
       "<table border=\"1\" class=\"dataframe\">\n",
       "  <thead>\n",
       "    <tr style=\"text-align: right;\">\n",
       "      <th></th>\n",
       "      <th>Filename</th>\n",
       "      <th>URL</th>\n",
       "      <th>Array Mean</th>\n",
       "      <th>Z-Score for Mean</th>\n",
       "      <th>shape</th>\n",
       "    </tr>\n",
       "  </thead>\n",
       "  <tbody>\n",
       "    <tr>\n",
       "      <th>0</th>\n",
       "      <td>ecu-per-00000.jpeg</td>\n",
       "      <td>https://facultyweb.cs.wwu.edu/~wehrwes/courses...</td>\n",
       "      <td>70.236003</td>\n",
       "      <td>-0.352710</td>\n",
       "      <td>(64, 64, 3)</td>\n",
       "    </tr>\n",
       "    <tr>\n",
       "      <th>1</th>\n",
       "      <td>ecu-per-00001.jpeg</td>\n",
       "      <td>https://facultyweb.cs.wwu.edu/~wehrwes/courses...</td>\n",
       "      <td>70.236003</td>\n",
       "      <td>-0.352710</td>\n",
       "      <td>(64, 64, 3)</td>\n",
       "    </tr>\n",
       "    <tr>\n",
       "      <th>2</th>\n",
       "      <td>ecu-per-00002.jpeg</td>\n",
       "      <td>https://facultyweb.cs.wwu.edu/~wehrwes/courses...</td>\n",
       "      <td>65.725911</td>\n",
       "      <td>-0.412166</td>\n",
       "      <td>(64, 64, 3)</td>\n",
       "    </tr>\n",
       "    <tr>\n",
       "      <th>3</th>\n",
       "      <td>ecu-per-00003.jpeg</td>\n",
       "      <td>https://facultyweb.cs.wwu.edu/~wehrwes/courses...</td>\n",
       "      <td>49.841471</td>\n",
       "      <td>-0.621567</td>\n",
       "      <td>(64, 64, 3)</td>\n",
       "    </tr>\n",
       "    <tr>\n",
       "      <th>4</th>\n",
       "      <td>ecu-per-00004.jpeg</td>\n",
       "      <td>https://facultyweb.cs.wwu.edu/~wehrwes/courses...</td>\n",
       "      <td>86.958252</td>\n",
       "      <td>-0.132264</td>\n",
       "      <td>(64, 64, 3)</td>\n",
       "    </tr>\n",
       "    <tr>\n",
       "      <th>...</th>\n",
       "      <td>...</td>\n",
       "      <td>...</td>\n",
       "      <td>...</td>\n",
       "      <td>...</td>\n",
       "      <td>...</td>\n",
       "    </tr>\n",
       "    <tr>\n",
       "      <th>3348</th>\n",
       "      <td>ecu-per-03350.jpeg</td>\n",
       "      <td>https://facultyweb.cs.wwu.edu/~wehrwes/courses...</td>\n",
       "      <td>39.511230</td>\n",
       "      <td>-0.757749</td>\n",
       "      <td>(64, 64, 3)</td>\n",
       "    </tr>\n",
       "    <tr>\n",
       "      <th>3349</th>\n",
       "      <td>ecu-per-03351.jpeg</td>\n",
       "      <td>https://facultyweb.cs.wwu.edu/~wehrwes/courses...</td>\n",
       "      <td>56.775472</td>\n",
       "      <td>-0.530158</td>\n",
       "      <td>(64, 64, 3)</td>\n",
       "    </tr>\n",
       "    <tr>\n",
       "      <th>3350</th>\n",
       "      <td>ecu-per-03352.jpeg</td>\n",
       "      <td>https://facultyweb.cs.wwu.edu/~wehrwes/courses...</td>\n",
       "      <td>41.453451</td>\n",
       "      <td>-0.732145</td>\n",
       "      <td>(64, 64, 3)</td>\n",
       "    </tr>\n",
       "    <tr>\n",
       "      <th>3351</th>\n",
       "      <td>ecu-per-03353.jpeg</td>\n",
       "      <td>https://facultyweb.cs.wwu.edu/~wehrwes/courses...</td>\n",
       "      <td>46.192952</td>\n",
       "      <td>-0.669665</td>\n",
       "      <td>(64, 64, 3)</td>\n",
       "    </tr>\n",
       "    <tr>\n",
       "      <th>3352</th>\n",
       "      <td>ecu-per-03354.jpeg</td>\n",
       "      <td>https://facultyweb.cs.wwu.edu/~wehrwes/courses...</td>\n",
       "      <td>85.430094</td>\n",
       "      <td>-0.152410</td>\n",
       "      <td>(64, 64, 3)</td>\n",
       "    </tr>\n",
       "  </tbody>\n",
       "</table>\n",
       "<p>3353 rows × 5 columns</p>\n",
       "</div>"
      ],
      "text/plain": [
       "                Filename                                                URL  \\\n",
       "0     ecu-per-00000.jpeg  https://facultyweb.cs.wwu.edu/~wehrwes/courses...   \n",
       "1     ecu-per-00001.jpeg  https://facultyweb.cs.wwu.edu/~wehrwes/courses...   \n",
       "2     ecu-per-00002.jpeg  https://facultyweb.cs.wwu.edu/~wehrwes/courses...   \n",
       "3     ecu-per-00003.jpeg  https://facultyweb.cs.wwu.edu/~wehrwes/courses...   \n",
       "4     ecu-per-00004.jpeg  https://facultyweb.cs.wwu.edu/~wehrwes/courses...   \n",
       "...                  ...                                                ...   \n",
       "3348  ecu-per-03350.jpeg  https://facultyweb.cs.wwu.edu/~wehrwes/courses...   \n",
       "3349  ecu-per-03351.jpeg  https://facultyweb.cs.wwu.edu/~wehrwes/courses...   \n",
       "3350  ecu-per-03352.jpeg  https://facultyweb.cs.wwu.edu/~wehrwes/courses...   \n",
       "3351  ecu-per-03353.jpeg  https://facultyweb.cs.wwu.edu/~wehrwes/courses...   \n",
       "3352  ecu-per-03354.jpeg  https://facultyweb.cs.wwu.edu/~wehrwes/courses...   \n",
       "\n",
       "      Array Mean  Z-Score for Mean        shape  \n",
       "0      70.236003         -0.352710  (64, 64, 3)  \n",
       "1      70.236003         -0.352710  (64, 64, 3)  \n",
       "2      65.725911         -0.412166  (64, 64, 3)  \n",
       "3      49.841471         -0.621567  (64, 64, 3)  \n",
       "4      86.958252         -0.132264  (64, 64, 3)  \n",
       "...          ...               ...          ...  \n",
       "3348   39.511230         -0.757749  (64, 64, 3)  \n",
       "3349   56.775472         -0.530158  (64, 64, 3)  \n",
       "3350   41.453451         -0.732145  (64, 64, 3)  \n",
       "3351   46.192952         -0.669665  (64, 64, 3)  \n",
       "3352   85.430094         -0.152410  (64, 64, 3)  \n",
       "\n",
       "[3353 rows x 5 columns]"
      ]
     },
     "execution_count": 112,
     "metadata": {},
     "output_type": "execute_result"
    }
   ],
   "source": [
    "image_index[\"shape\"] = image_index[\"URL\"].apply(size)\n",
    "image_index"
   ]
  },
  {
   "cell_type": "code",
   "execution_count": 113,
   "id": "95dd9dbc",
   "metadata": {},
   "outputs": [
    {
     "data": {
      "text/plain": [
       "(64, 64, 3)    3351\n",
       "(64, 64)          2\n",
       "Name: shape, dtype: int64"
      ]
     },
     "execution_count": 113,
     "metadata": {},
     "output_type": "execute_result"
    }
   ],
   "source": [
    "image_index[\"shape\"].value_counts()"
   ]
  },
  {
   "cell_type": "markdown",
   "id": "8ef65b20",
   "metadata": {},
   "source": [
    "Wait, why are their two urls that point to only two dimensional arrays?"
   ]
  },
  {
   "cell_type": "code",
   "execution_count": 114,
   "id": "5a70867a",
   "metadata": {},
   "outputs": [
    {
     "data": {
      "text/html": [
       "<div>\n",
       "<style scoped>\n",
       "    .dataframe tbody tr th:only-of-type {\n",
       "        vertical-align: middle;\n",
       "    }\n",
       "\n",
       "    .dataframe tbody tr th {\n",
       "        vertical-align: top;\n",
       "    }\n",
       "\n",
       "    .dataframe thead th {\n",
       "        text-align: right;\n",
       "    }\n",
       "</style>\n",
       "<table border=\"1\" class=\"dataframe\">\n",
       "  <thead>\n",
       "    <tr style=\"text-align: right;\">\n",
       "      <th></th>\n",
       "      <th>Filename</th>\n",
       "      <th>URL</th>\n",
       "      <th>Array Mean</th>\n",
       "      <th>Z-Score for Mean</th>\n",
       "      <th>shape</th>\n",
       "    </tr>\n",
       "  </thead>\n",
       "  <tbody>\n",
       "    <tr>\n",
       "      <th>1785</th>\n",
       "      <td>ecu-per-01785.jpeg</td>\n",
       "      <td>https://facultyweb.cs.wwu.edu/~wehrwes/courses...</td>\n",
       "      <td>254.0</td>\n",
       "      <td>2.069812</td>\n",
       "      <td>(64, 64)</td>\n",
       "    </tr>\n",
       "    <tr>\n",
       "      <th>1791</th>\n",
       "      <td>ecu-per-01791.jpeg</td>\n",
       "      <td>https://facultyweb.cs.wwu.edu/~wehrwes/courses...</td>\n",
       "      <td>254.0</td>\n",
       "      <td>2.069812</td>\n",
       "      <td>(64, 64)</td>\n",
       "    </tr>\n",
       "  </tbody>\n",
       "</table>\n",
       "</div>"
      ],
      "text/plain": [
       "                Filename                                                URL  \\\n",
       "1785  ecu-per-01785.jpeg  https://facultyweb.cs.wwu.edu/~wehrwes/courses...   \n",
       "1791  ecu-per-01791.jpeg  https://facultyweb.cs.wwu.edu/~wehrwes/courses...   \n",
       "\n",
       "      Array Mean  Z-Score for Mean     shape  \n",
       "1785       254.0          2.069812  (64, 64)  \n",
       "1791       254.0          2.069812  (64, 64)  "
      ]
     },
     "execution_count": 114,
     "metadata": {},
     "output_type": "execute_result"
    }
   ],
   "source": [
    "image_index[image_index[\"shape\"] == (64,64)]"
   ]
  },
  {
   "cell_type": "code",
   "execution_count": 115,
   "id": "71e1f6b5",
   "metadata": {},
   "outputs": [
    {
     "data": {
      "text/plain": [
       "Array([[254, 254, 254, ..., 254, 254, 254],\n",
       "       [254, 254, 254, ..., 254, 254, 254],\n",
       "       [254, 254, 254, ..., 254, 254, 254],\n",
       "       ...,\n",
       "       [254, 254, 254, ..., 254, 254, 254],\n",
       "       [254, 254, 254, ..., 254, 254, 254],\n",
       "       [254, 254, 254, ..., 254, 254, 254]], dtype=uint8)"
      ]
     },
     "execution_count": 115,
     "metadata": {},
     "output_type": "execute_result"
    }
   ],
   "source": [
    "imageio.imread(image_index[\"URL\"][1785])"
   ]
  },
  {
   "cell_type": "code",
   "execution_count": 116,
   "id": "93eaa3ad",
   "metadata": {},
   "outputs": [
    {
     "data": {
      "text/plain": [
       "<matplotlib.image.AxesImage at 0x218740776d0>"
      ]
     },
     "execution_count": 116,
     "metadata": {},
     "output_type": "execute_result"
    },
    {
     "data": {
      "image/png": "[encoded data removed]",
      "text/plain": [
       "<Figure size 432x288 with 1 Axes>"
      ]
     },
     "metadata": {
      "needs_background": "light"
     },
     "output_type": "display_data"
    }
   ],
   "source": [
    "plt.imshow(imageio.imread(image_index[\"URL\"][1785]))"
   ]
  },
  {
   "cell_type": "code",
   "execution_count": 117,
   "id": "93749441",
   "metadata": {},
   "outputs": [
    {
     "data": {
      "text/plain": [
       "<matplotlib.image.AxesImage at 0x218740de1f0>"
      ]
     },
     "execution_count": 117,
     "metadata": {},
     "output_type": "execute_result"
    },
    {
     "data": {
      "image/png": "[encoded data removed]",
      "text/plain": [
       "<Figure size 432x288 with 1 Axes>"
      ]
     },
     "metadata": {
      "needs_background": "light"
     },
     "output_type": "display_data"
    }
   ],
   "source": [
    "plt.imshow(imageio.imread(image_index[\"URL\"][1791]))"
   ]
  },
  {
   "cell_type": "markdown",
   "id": "51b9984f",
   "metadata": {},
   "source": [
    "Well these should probably be dropped, they're just purple!"
   ]
  },
  {
   "cell_type": "markdown",
   "id": "eaafe20b",
   "metadata": {},
   "source": [
    "With that out of the way, lets make our inlier column and be done."
   ]
  },
  {
   "cell_type": "markdown",
   "id": "d2644484",
   "metadata": {},
   "source": [
    "**The Inlier column will contain True values for every value that does not have a z-score of (approximately) 1.893506, and also include the outliers above that are just purple.**"
   ]
  },
  {
   "cell_type": "code",
   "execution_count": 118,
   "id": "5829b4b6",
   "metadata": {},
   "outputs": [
    {
     "data": {
      "text/plain": [
       "True     2740\n",
       "False     613\n",
       "Name: Inlier, dtype: int64"
      ]
     },
     "execution_count": 118,
     "metadata": {},
     "output_type": "execute_result"
    }
   ],
   "source": [
    "mask1 = (image_index[\"Z-Score for Mean\"] < 1.893506) | (image_index[\"Z-Score for Mean\"] > 1.893507)\n",
    "mask2 = image_index[\"shape\"] != (64,64)\n",
    "image_index[\"Inlier\"] = mask1 & mask2\n",
    "image_index[\"Inlier\"].value_counts()"
   ]
  },
  {
   "cell_type": "markdown",
   "id": "ff1005f4",
   "metadata": {},
   "source": [
    "There you have it. There are 613 outliers with weird images in the dataset."
   ]
  }
 ],
 "metadata": {
  "kernelspec": {
   "display_name": "Python 3",
   "language": "python",
   "name": "python3"
  },
  "language_info": {
   "codemirror_mode": {
    "name": "ipython",
    "version": 3
   },
   "file_extension": ".py",
   "mimetype": "text/x-python",
   "name": "python",
   "nbconvert_exporter": "python",
   "pygments_lexer": "ipython3",
   "version": "3.8.8"
  }
 },
 "nbformat": 4,
 "nbformat_minor": 5
}
